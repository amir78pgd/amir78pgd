{
 "cells": [
  {
   "cell_type": "code",
   "execution_count": 1,
   "metadata": {},
   "outputs": [],
   "source": [
    "import tensorflow\n",
    "import numpy as np\n",
    "import matplotlib.pyplot as plt\n",
    "import pandas as pd"
   ]
  },
  {
   "cell_type": "markdown",
   "metadata": {},
   "source": [
    "### Read the dataset, drop the columns which are unique for all users like IDs, distinguish the feature and target set"
   ]
  },
  {
   "cell_type": "code",
   "execution_count": 2,
   "metadata": {},
   "outputs": [],
   "source": [
    "#importing the dataset\n",
    "churn_df = pd.read_csv('Churn_Modelling.csv')\n",
    "X = churn_df.iloc[:,3:13].values # Credit Score through Estimated Salary\n",
    "y = churn_df.iloc[:, 13].values # Exited"
   ]
  },
  {
   "cell_type": "code",
   "execution_count": 3,
   "metadata": {},
   "outputs": [
    {
     "name": "stdout",
     "output_type": "stream",
     "text": [
      "['France' 'Spain' 'France' 'France' 'Spain' 'Spain' 'France' 'Germany'] ... will now become: \n",
      "[0 2 0 0 2 2 0 1]\n"
     ]
    }
   ],
   "source": [
    "# Encoding categorical (string based) data. Country: there are 3 options: France, Spain and Germany\n",
    "# This will convert those strings into scalar values for analysis\n",
    "print(X[:8,1], '... will now become: ')\n",
    "from sklearn.preprocessing import LabelEncoder, OneHotEncoder\n",
    "label_X_country_encoder = LabelEncoder()\n",
    "X[:,1] = label_X_country_encoder.fit_transform(X[:,1])\n",
    "print(X[:8,1])"
   ]
  },
  {
   "cell_type": "code",
   "execution_count": 4,
   "metadata": {},
   "outputs": [
    {
     "name": "stdout",
     "output_type": "stream",
     "text": [
      "['Female' 'Female' 'Female' 'Female' 'Female' 'Male'] ... will now become: \n",
      "[0 0 0 0 0 1]\n"
     ]
    }
   ],
   "source": [
    "# We will do the same thing for gender. this will be binary in this dataset\n",
    "print(X[:6,2], '... will now become: ')\n",
    "from sklearn.preprocessing import LabelEncoder, OneHotEncoder\n",
    "label_X_gender_encoder = LabelEncoder()\n",
    "X[:,2] = label_X_gender_encoder.fit_transform(X[:,2])\n",
    "print(X[:6,2])"
   ]
  },
  {
   "cell_type": "code",
   "execution_count": 5,
   "metadata": {},
   "outputs": [
    {
     "name": "stderr",
     "output_type": "stream",
     "text": [
      "C:\\Users\\mamirashraff\\Downloads\\WPy64-3720\\python-3.7.2.amd64\\lib\\site-packages\\sklearn\\preprocessing\\_encoders.py:371: FutureWarning: The handling of integer data will change in version 0.22. Currently, the categories are determined based on the range [0, max(values)], while in the future they will be determined based on the unique values.\n",
      "If you want the future behaviour and silence this warning, you can specify \"categories='auto'\".\n",
      "In case you used a LabelEncoder before this OneHotEncoder to convert the categories to integers, then you can now use the OneHotEncoder directly.\n",
      "  warnings.warn(msg, FutureWarning)\n",
      "C:\\Users\\mamirashraff\\Downloads\\WPy64-3720\\python-3.7.2.amd64\\lib\\site-packages\\sklearn\\preprocessing\\_encoders.py:392: DeprecationWarning: The 'categorical_features' keyword is deprecated in version 0.20 and will be removed in 0.22. You can use the ColumnTransformer instead.\n",
      "  \"use the ColumnTransformer instead.\", DeprecationWarning)\n"
     ]
    }
   ],
   "source": [
    "# Converting the string features into their own dimensions. Gender doesn't matter here because its binary\n",
    "countryhotencoder = OneHotEncoder(categorical_features = [1]) # 1 is the country column\n",
    "X = countryhotencoder.fit_transform(X).toarray()"
   ]
  },
  {
   "cell_type": "code",
   "execution_count": 6,
   "metadata": {},
   "outputs": [
    {
     "data": {
      "text/plain": [
       "array([[1.0000000e+00, 0.0000000e+00, 0.0000000e+00, ..., 1.0000000e+00,\n",
       "        1.0000000e+00, 1.0134888e+05],\n",
       "       [0.0000000e+00, 0.0000000e+00, 1.0000000e+00, ..., 0.0000000e+00,\n",
       "        1.0000000e+00, 1.1254258e+05],\n",
       "       [1.0000000e+00, 0.0000000e+00, 0.0000000e+00, ..., 1.0000000e+00,\n",
       "        0.0000000e+00, 1.1393157e+05],\n",
       "       ...,\n",
       "       [1.0000000e+00, 0.0000000e+00, 0.0000000e+00, ..., 0.0000000e+00,\n",
       "        1.0000000e+00, 4.2085580e+04],\n",
       "       [0.0000000e+00, 1.0000000e+00, 0.0000000e+00, ..., 1.0000000e+00,\n",
       "        0.0000000e+00, 9.2888520e+04],\n",
       "       [1.0000000e+00, 0.0000000e+00, 0.0000000e+00, ..., 1.0000000e+00,\n",
       "        0.0000000e+00, 3.8190780e+04]])"
      ]
     },
     "execution_count": 6,
     "metadata": {},
     "output_type": "execute_result"
    }
   ],
   "source": [
    "X"
   ]
  },
  {
   "cell_type": "code",
   "execution_count": 7,
   "metadata": {},
   "outputs": [],
   "source": [
    "X = X[:,1:] # Got rid of Spain as a dimension. It is still there through out inferences"
   ]
  },
  {
   "cell_type": "markdown",
   "metadata": {},
   "source": [
    "### Divide the data set into Train and test sets"
   ]
  },
  {
   "cell_type": "code",
   "execution_count": 8,
   "metadata": {},
   "outputs": [],
   "source": [
    "# Splitting the dataset into the Training and Testing set.\n",
    "from sklearn.model_selection import train_test_split\n",
    "X_train, X_test, y_train, y_test = train_test_split(X,y, test_size = 0.2, random_state = 0)"
   ]
  },
  {
   "cell_type": "markdown",
   "metadata": {},
   "source": [
    "### Normalize the train and test data"
   ]
  },
  {
   "cell_type": "code",
   "execution_count": 9,
   "metadata": {},
   "outputs": [],
   "source": [
    "# Feature Scaling\n",
    "from sklearn.preprocessing import StandardScaler\n",
    "sc=StandardScaler()\n",
    "X_train = sc.fit_transform(X_train)\n",
    "X_test = sc.transform(X_test)"
   ]
  },
  {
   "cell_type": "code",
   "execution_count": 10,
   "metadata": {},
   "outputs": [
    {
     "data": {
      "text/plain": [
       "array([[-0.5698444 ,  1.74309049,  0.16958176, ...,  0.64259497,\n",
       "        -1.03227043,  1.10643166],\n",
       "       [ 1.75486502, -0.57369368, -2.30455945, ...,  0.64259497,\n",
       "         0.9687384 , -0.74866447],\n",
       "       [-0.5698444 , -0.57369368, -1.19119591, ...,  0.64259497,\n",
       "        -1.03227043,  1.48533467],\n",
       "       ...,\n",
       "       [-0.5698444 , -0.57369368,  0.9015152 , ...,  0.64259497,\n",
       "        -1.03227043,  1.41231994],\n",
       "       [-0.5698444 ,  1.74309049, -0.62420521, ...,  0.64259497,\n",
       "         0.9687384 ,  0.84432121],\n",
       "       [ 1.75486502, -0.57369368, -0.28401079, ...,  0.64259497,\n",
       "        -1.03227043,  0.32472465]])"
      ]
     },
     "execution_count": 10,
     "metadata": {},
     "output_type": "execute_result"
    }
   ],
   "source": [
    "X_train"
   ]
  },
  {
   "cell_type": "markdown",
   "metadata": {},
   "source": [
    "### Initialize & build the model "
   ]
  },
  {
   "cell_type": "code",
   "execution_count": 11,
   "metadata": {},
   "outputs": [
    {
     "name": "stderr",
     "output_type": "stream",
     "text": [
      "Using TensorFlow backend.\n"
     ]
    }
   ],
   "source": [
    "import keras\n",
    "from keras.models import Sequential\n",
    "from keras.layers import Dense"
   ]
  },
  {
   "cell_type": "code",
   "execution_count": 12,
   "metadata": {},
   "outputs": [],
   "source": [
    "# Initializing the ANN\n",
    "classifier = Sequential()"
   ]
  },
  {
   "cell_type": "markdown",
   "metadata": {},
   "source": [
    "##### A hurestic tip is that the amount of nodes (dimensions) in your hidden layer should be the average of your input and output layers, which means that since we have 11 dimensions (representing Independent variables Note: Countries still compose only one dimension) and we are looking for a binary output, we calculate this to be  (11+1)÷2=6 .\n",
    "\n",
    "##### The breakdown of the inputs for the first layer is as follows:\n",
    "##### activiation: relu becasue we are in an input layer. uses the ReLu activation function for  ϕ \n",
    "##### input_dim: 11 because we span 11 dimensions in our input layer. This is needed for the first added layer. The subsequent layers's input dimensions can be inferred using the previously added layer's output dimension. The next hidden layer will know what to expect.\n",
    "\n",
    "##### units: 6 nodes (number of nodes in hidden layer). Can think of this as number of nodes are in the next layer.\n",
    "\n",
    "##### kernel_initializer: uniform the distribution with which we randomly initialize weights for the nodes in this layer."
   ]
  },
  {
   "cell_type": "code",
   "execution_count": 13,
   "metadata": {},
   "outputs": [
    {
     "name": "stdout",
     "output_type": "stream",
     "text": [
      "WARNING:tensorflow:From C:\\Users\\mamirashraff\\Downloads\\WPy64-3720\\python-3.7.2.amd64\\lib\\site-packages\\tensorflow\\python\\framework\\op_def_library.py:263: colocate_with (from tensorflow.python.framework.ops) is deprecated and will be removed in a future version.\n",
      "Instructions for updating:\n",
      "Colocations handled automatically by placer.\n"
     ]
    }
   ],
   "source": [
    "# This adds the input layer (by specifying input dimension) AND the first hidden layer (units)\n",
    "classifier.add(Dense(activation = 'relu', input_dim = 11, units=6, kernel_initializer='uniform'))"
   ]
  },
  {
   "cell_type": "markdown",
   "metadata": {},
   "source": [
    "##### We are going to add another layer to this model because we want to implement Deep Learning, which is an artificial Neural network with many layers.\n",
    "##### We will make our second hidden layer also have 6 nodes, just playing with the same arithmetic we used to determine the dimensions of the first hidden layer (average of your input and output layers)  (11+1)÷2=6 ."
   ]
  },
  {
   "cell_type": "code",
   "execution_count": 14,
   "metadata": {},
   "outputs": [],
   "source": [
    "# Adding the second hidden layer\n",
    "# Notice that we do not need to specify input dim. \n",
    "classifier.add(Dense(activation = 'relu', units=6, kernel_initializer='uniform'))"
   ]
  },
  {
   "cell_type": "markdown",
   "metadata": {},
   "source": [
    "##### Adding the output layer\n",
    "##### The breakdown of the inputs for the output layer is as follows:\n",
    "##### activiation: sigmoid becasue we are in an output layer. uses the Sigmoid activation function for  ϕ . This is used instead of the ReLu function becasue it generates probabilities for the outcome. We want the probability that each customer leaves the bank.\n",
    "\n",
    "##### input_dim: 11 because we span 11 dimensions in our input layer. This is needed for the first added layer. The subsequent layers's input dimensions can be inferred using the previously added layer's output dimension. The next hidden layer will know what to expect.\n",
    "\n",
    "##### units: 1 node (number of nodes in hidden layer). Can think of this as number of nodes in the next layer.\n",
    "\n",
    "##### kernel_initializer: uniform the distribution with which we randomly initialize weights for the nodes in this layer."
   ]
  },
  {
   "cell_type": "code",
   "execution_count": 15,
   "metadata": {},
   "outputs": [],
   "source": [
    "# Adding the output layer\n",
    "# Notice that we do not need to specify input dim. \n",
    "# we have an output of 1 node, which is the the desired dimensions of our output (stay with the bank or not)\n",
    "# We use the sigmoid because we want probability outcomes\n",
    "classifier.add(Dense(activation = 'sigmoid', units=1, kernel_initializer='uniform'))"
   ]
  },
  {
   "cell_type": "markdown",
   "metadata": {},
   "source": [
    "##### If we want more than two categories, then we will need to change\n",
    "##### 1) the units parameter to match the desired category count\n",
    "\n",
    "##### 2) the activation field to softmax. Basically a sigmoid function but applied to a dependent variable that has more than 2 categories."
   ]
  },
  {
   "cell_type": "markdown",
   "metadata": {},
   "source": [
    "### Optimize the model"
   ]
  },
  {
   "cell_type": "markdown",
   "metadata": {},
   "source": [
    "##### Compiling the Neural Network\n",
    "##### Basically applying Stochastic Gradient descent on the whole Neural Network. We are Tuning the individual weights on each neuron.\n",
    "\n",
    "##### The breakdown of the inputs for compiling is as follows:\n",
    "##### optimizer: adam The algorithm we want to use to find the optimal set of weights in the neural networks. Adam is a very efficeint variation of Stochastic Gradient Descent.\n",
    "\n",
    "##### loss: binary_crossentropy This is the loss function used within adam. This should be the logarthmic loss. If our dependent (output variable) is Binary, it is binary_crossentropy. If Categorical, then it is called categorical_crossentropy\n",
    "\n",
    "##### metrics: [accuracy] The accuracy metrics which will be evaluated(minimized) by the model. Used as accuracy criteria to imporve model performance.\n",
    "\n",
    "##### kernel_initializer: uniform the distribution with which we randomly initialize weights for the nodes in this layer."
   ]
  },
  {
   "cell_type": "code",
   "execution_count": 16,
   "metadata": {},
   "outputs": [],
   "source": [
    "classifier.compile(optimizer='adam', loss = 'binary_crossentropy', metrics=['accuracy'])"
   ]
  },
  {
   "cell_type": "markdown",
   "metadata": {},
   "source": [
    "##### Fitting the Neural Network\n",
    "##### This is where we will be fitting the ANN to our training set.\n",
    "\n",
    "##### The breakdown of the inputs for compiling is as follows:\n",
    "##### X_train The independent variable portion of the data which needs to be fitted with the model.\n",
    "\n",
    "##### Y_train The output portion of the data which the model needs to produce after fitting.\n",
    "\n",
    "##### batch_size: How often we want to back-propogate the error values so that individual node weights can be adjusted.\n",
    "\n",
    "##### nb_epochs: The number of times we want to run the entire test data over again to tune the weights. This is like the fuel of the algorithm."
   ]
  },
  {
   "cell_type": "code",
   "execution_count": 19,
   "metadata": {},
   "outputs": [
    {
     "name": "stdout",
     "output_type": "stream",
     "text": [
      "Epoch 1/100\n",
      "8000/8000 [==============================] - 1s 92us/step - loss: 0.3917 - acc: 0.8366\n",
      "Epoch 2/100\n",
      "8000/8000 [==============================] - 1s 95us/step - loss: 0.3919 - acc: 0.8374\n",
      "Epoch 3/100\n",
      "8000/8000 [==============================] - 1s 97us/step - loss: 0.3920 - acc: 0.8376\n",
      "Epoch 4/100\n",
      "8000/8000 [==============================] - 1s 91us/step - loss: 0.3917 - acc: 0.8371\n",
      "Epoch 5/100\n",
      "8000/8000 [==============================] - 1s 90us/step - loss: 0.3920 - acc: 0.8365\n",
      "Epoch 6/100\n",
      "8000/8000 [==============================] - 1s 92us/step - loss: 0.3917 - acc: 0.8366\n",
      "Epoch 7/100\n",
      "8000/8000 [==============================] - 1s 136us/step - loss: 0.3918 - acc: 0.8367\n",
      "Epoch 8/100\n",
      "8000/8000 [==============================] - 1s 154us/step - loss: 0.3922 - acc: 0.8381\n",
      "Epoch 9/100\n",
      "8000/8000 [==============================] - 1s 150us/step - loss: 0.3917 - acc: 0.8382\n",
      "Epoch 10/100\n",
      "8000/8000 [==============================] - 1s 112us/step - loss: 0.3921 - acc: 0.8367\n",
      "Epoch 11/100\n",
      "8000/8000 [==============================] - 1s 112us/step - loss: 0.3917 - acc: 0.8366\n",
      "Epoch 12/100\n",
      "8000/8000 [==============================] - 1s 97us/step - loss: 0.3917 - acc: 0.8365\n",
      "Epoch 13/100\n",
      "8000/8000 [==============================] - 1s 93us/step - loss: 0.3923 - acc: 0.8366\n",
      "Epoch 14/100\n",
      "8000/8000 [==============================] - 1s 97us/step - loss: 0.3919 - acc: 0.8370\n",
      "Epoch 15/100\n",
      "8000/8000 [==============================] - 1s 98us/step - loss: 0.3917 - acc: 0.8369: 0s - loss: 0.4190\n",
      "Epoch 16/100\n",
      "8000/8000 [==============================] - 1s 95us/step - loss: 0.3921 - acc: 0.8366\n",
      "Epoch 17/100\n",
      "8000/8000 [==============================] - 1s 93us/step - loss: 0.3921 - acc: 0.8366\n",
      "Epoch 18/100\n",
      "8000/8000 [==============================] - 1s 129us/step - loss: 0.3917 - acc: 0.8389\n",
      "Epoch 19/100\n",
      "8000/8000 [==============================] - ETA: 0s - loss: 0.3930 - acc: 0.8356- ETA: 0s - los - 1s 155us/step - loss: 0.3917 - acc: 0.8359\n",
      "Epoch 20/100\n",
      "8000/8000 [==============================] - 1s 154us/step - loss: 0.3921 - acc: 0.8367\n",
      "Epoch 21/100\n",
      "8000/8000 [==============================] - 1s 138us/step - loss: 0.3918 - acc: 0.8372\n",
      "Epoch 22/100\n",
      "8000/8000 [==============================] - 1s 118us/step - loss: 0.3917 - acc: 0.8377\n",
      "Epoch 23/100\n",
      "8000/8000 [==============================] - 1s 165us/step - loss: 0.3915 - acc: 0.8354\n",
      "Epoch 24/100\n",
      "8000/8000 [==============================] - 1s 145us/step - loss: 0.3923 - acc: 0.8374\n",
      "Epoch 25/100\n",
      "8000/8000 [==============================] - 1s 146us/step - loss: 0.3918 - acc: 0.8381\n",
      "Epoch 26/100\n",
      "8000/8000 [==============================] - 1s 106us/step - loss: 0.3923 - acc: 0.8365\n",
      "Epoch 27/100\n",
      "8000/8000 [==============================] - 1s 109us/step - loss: 0.3921 - acc: 0.8355\n",
      "Epoch 28/100\n",
      "8000/8000 [==============================] - 1s 123us/step - loss: 0.3919 - acc: 0.8369\n",
      "Epoch 29/100\n",
      "8000/8000 [==============================] - 1s 109us/step - loss: 0.3916 - acc: 0.8364\n",
      "Epoch 30/100\n",
      "8000/8000 [==============================] - 1s 99us/step - loss: 0.3914 - acc: 0.8374\n",
      "Epoch 31/100\n",
      "8000/8000 [==============================] - 1s 114us/step - loss: 0.3919 - acc: 0.8371\n",
      "Epoch 32/100\n",
      "8000/8000 [==============================] - 1s 107us/step - loss: 0.3921 - acc: 0.8381\n",
      "Epoch 33/100\n",
      "8000/8000 [==============================] - 1s 93us/step - loss: 0.3917 - acc: 0.8371\n",
      "Epoch 34/100\n",
      "8000/8000 [==============================] - 1s 103us/step - loss: 0.3918 - acc: 0.8362\n",
      "Epoch 35/100\n",
      "8000/8000 [==============================] - 1s 100us/step - loss: 0.3917 - acc: 0.8379\n",
      "Epoch 36/100\n",
      "8000/8000 [==============================] - 1s 98us/step - loss: 0.3917 - acc: 0.8375\n",
      "Epoch 37/100\n",
      "8000/8000 [==============================] - 1s 105us/step - loss: 0.3915 - acc: 0.8381\n",
      "Epoch 38/100\n",
      "8000/8000 [==============================] - 1s 109us/step - loss: 0.3915 - acc: 0.8379\n",
      "Epoch 39/100\n",
      "8000/8000 [==============================] - 1s 99us/step - loss: 0.3915 - acc: 0.8379\n",
      "Epoch 40/100\n",
      "8000/8000 [==============================] - 1s 98us/step - loss: 0.3919 - acc: 0.8377\n",
      "Epoch 41/100\n",
      "8000/8000 [==============================] - 1s 150us/step - loss: 0.3914 - acc: 0.8382\n",
      "Epoch 42/100\n",
      "8000/8000 [==============================] - 1s 161us/step - loss: 0.3916 - acc: 0.8372\n",
      "Epoch 43/100\n",
      "8000/8000 [==============================] - 1s 131us/step - loss: 0.3919 - acc: 0.8376\n",
      "Epoch 44/100\n",
      "8000/8000 [==============================] - 1s 86us/step - loss: 0.3921 - acc: 0.8381\n",
      "Epoch 45/100\n",
      "8000/8000 [==============================] - 1s 87us/step - loss: 0.3916 - acc: 0.8364\n",
      "Epoch 46/100\n",
      "8000/8000 [==============================] - 1s 94us/step - loss: 0.3915 - acc: 0.8375\n",
      "Epoch 47/100\n",
      "8000/8000 [==============================] - 1s 84us/step - loss: 0.3920 - acc: 0.8382\n",
      "Epoch 48/100\n",
      "8000/8000 [==============================] - 1s 81us/step - loss: 0.3911 - acc: 0.8371\n",
      "Epoch 49/100\n",
      "8000/8000 [==============================] - 1s 84us/step - loss: 0.3914 - acc: 0.8372\n",
      "Epoch 50/100\n",
      "8000/8000 [==============================] - 1s 91us/step - loss: 0.3914 - acc: 0.8374\n",
      "Epoch 51/100\n",
      "8000/8000 [==============================] - 1s 107us/step - loss: 0.3922 - acc: 0.8364\n",
      "Epoch 52/100\n",
      "8000/8000 [==============================] - 1s 116us/step - loss: 0.3915 - acc: 0.8377\n",
      "Epoch 53/100\n",
      "8000/8000 [==============================] - 1s 112us/step - loss: 0.3916 - acc: 0.8376\n",
      "Epoch 54/100\n",
      "8000/8000 [==============================] - 1s 97us/step - loss: 0.3911 - acc: 0.8375\n",
      "Epoch 55/100\n",
      "8000/8000 [==============================] - 1s 105us/step - loss: 0.3914 - acc: 0.8391 0s - loss: 0.390\n",
      "Epoch 56/100\n",
      "8000/8000 [==============================] - 1s 104us/step - loss: 0.3913 - acc: 0.8371\n",
      "Epoch 57/100\n",
      "8000/8000 [==============================] - 1s 105us/step - loss: 0.3912 - acc: 0.8374 0s - loss: 0.39\n",
      "Epoch 58/100\n",
      "8000/8000 [==============================] - 1s 97us/step - loss: 0.3911 - acc: 0.8377\n",
      "Epoch 59/100\n",
      "8000/8000 [==============================] - 1s 98us/step - loss: 0.3917 - acc: 0.8362\n",
      "Epoch 60/100\n",
      "8000/8000 [==============================] - 1s 127us/step - loss: 0.3914 - acc: 0.8377\n",
      "Epoch 61/100\n",
      "8000/8000 [==============================] - 1s 144us/step - loss: 0.3912 - acc: 0.8380\n",
      "Epoch 62/100\n",
      "8000/8000 [==============================] - 1s 144us/step - loss: 0.3915 - acc: 0.8371\n",
      "Epoch 63/100\n",
      "8000/8000 [==============================] - 1s 114us/step - loss: 0.3919 - acc: 0.8365\n",
      "Epoch 64/100\n",
      "8000/8000 [==============================] - 1s 97us/step - loss: 0.3909 - acc: 0.8375\n",
      "Epoch 65/100\n",
      "8000/8000 [==============================] - 1s 98us/step - loss: 0.3918 - acc: 0.8376\n",
      "Epoch 66/100\n",
      "8000/8000 [==============================] - 1s 97us/step - loss: 0.3914 - acc: 0.8391\n",
      "Epoch 67/100\n",
      "8000/8000 [==============================] - 1s 115us/step - loss: 0.3914 - acc: 0.8380\n",
      "Epoch 68/100\n",
      "8000/8000 [==============================] - 1s 117us/step - loss: 0.3915 - acc: 0.8389\n",
      "Epoch 69/100\n",
      "8000/8000 [==============================] - 1s 104us/step - loss: 0.3915 - acc: 0.8374\n",
      "Epoch 70/100\n",
      "8000/8000 [==============================] - 1s 113us/step - loss: 0.3918 - acc: 0.8365\n",
      "Epoch 71/100\n",
      "8000/8000 [==============================] - 1s 90us/step - loss: 0.3908 - acc: 0.8375\n",
      "Epoch 72/100\n",
      "8000/8000 [==============================] - 1s 89us/step - loss: 0.3921 - acc: 0.8376\n",
      "Epoch 73/100\n",
      "8000/8000 [==============================] - 1s 82us/step - loss: 0.3912 - acc: 0.8371\n",
      "Epoch 74/100\n",
      "8000/8000 [==============================] - 1s 85us/step - loss: 0.3914 - acc: 0.8371\n",
      "Epoch 75/100\n",
      "8000/8000 [==============================] - 1s 84us/step - loss: 0.3912 - acc: 0.8384\n",
      "Epoch 76/100\n",
      "8000/8000 [==============================] - 1s 82us/step - loss: 0.3917 - acc: 0.8361: 0s - loss: 0.3844 - a\n",
      "Epoch 77/100\n",
      "8000/8000 [==============================] - 1s 81us/step - loss: 0.3916 - acc: 0.8385\n",
      "Epoch 78/100\n",
      "8000/8000 [==============================] - 1s 98us/step - loss: 0.3913 - acc: 0.8374\n",
      "Epoch 79/100\n",
      "8000/8000 [==============================] - 1s 138us/step - loss: 0.3914 - acc: 0.8380\n",
      "Epoch 80/100\n",
      "8000/8000 [==============================] - 1s 119us/step - loss: 0.3916 - acc: 0.8387\n",
      "Epoch 81/100\n",
      "8000/8000 [==============================] - 1s 108us/step - loss: 0.3914 - acc: 0.8377\n",
      "Epoch 82/100\n",
      "8000/8000 [==============================] - 1s 78us/step - loss: 0.3912 - acc: 0.8379\n",
      "Epoch 83/100\n",
      "8000/8000 [==============================] - 1s 78us/step - loss: 0.3911 - acc: 0.8384\n",
      "Epoch 84/100\n",
      "8000/8000 [==============================] - 1s 78us/step - loss: 0.3915 - acc: 0.8386\n",
      "Epoch 85/100\n",
      "8000/8000 [==============================] - 1s 79us/step - loss: 0.3916 - acc: 0.8367\n",
      "Epoch 86/100\n",
      "8000/8000 [==============================] - 1s 80us/step - loss: 0.3914 - acc: 0.8384\n",
      "Epoch 87/100\n",
      "8000/8000 [==============================] - 1s 81us/step - loss: 0.3918 - acc: 0.8385\n",
      "Epoch 88/100\n",
      "8000/8000 [==============================] - 1s 79us/step - loss: 0.3912 - acc: 0.8367\n",
      "Epoch 89/100\n",
      "8000/8000 [==============================] - 1s 79us/step - loss: 0.3915 - acc: 0.8377\n",
      "Epoch 90/100\n",
      "8000/8000 [==============================] - 1s 80us/step - loss: 0.3916 - acc: 0.8381\n",
      "Epoch 91/100\n",
      "8000/8000 [==============================] - 1s 80us/step - loss: 0.3910 - acc: 0.8371\n",
      "Epoch 92/100\n",
      "8000/8000 [==============================] - 1s 80us/step - loss: 0.3914 - acc: 0.8367\n",
      "Epoch 93/100\n",
      "8000/8000 [==============================] - 1s 79us/step - loss: 0.3911 - acc: 0.8370\n",
      "Epoch 94/100\n",
      "8000/8000 [==============================] - 1s 79us/step - loss: 0.3915 - acc: 0.8377\n",
      "Epoch 95/100\n",
      "8000/8000 [==============================] - 1s 78us/step - loss: 0.3914 - acc: 0.8376\n",
      "Epoch 96/100\n",
      "8000/8000 [==============================] - 1s 92us/step - loss: 0.3913 - acc: 0.8374\n",
      "Epoch 97/100\n",
      "8000/8000 [==============================] - 1s 86us/step - loss: 0.3911 - acc: 0.8375: 0s - loss: 0.3575 -\n",
      "Epoch 98/100\n",
      "8000/8000 [==============================] - 1s 93us/step - loss: 0.3915 - acc: 0.8359\n",
      "Epoch 99/100\n",
      "8000/8000 [==============================] - 1s 99us/step - loss: 0.3913 - acc: 0.8369\n",
      "Epoch 100/100\n",
      "8000/8000 [==============================] - 1s 97us/step - loss: 0.3918 - acc: 0.8386\n"
     ]
    },
    {
     "data": {
      "text/plain": [
       "<keras.callbacks.History at 0x24f8c7a8da0>"
      ]
     },
     "execution_count": 19,
     "metadata": {},
     "output_type": "execute_result"
    }
   ],
   "source": [
    "classifier.fit(X_train, y_train, batch_size=10, epochs=100)"
   ]
  },
  {
   "cell_type": "markdown",
   "metadata": {},
   "source": [
    "##### Testing the ANN\n",
    "##### Predicting the Test set results\n",
    "##### This shows the probability of a customer leaving given the testing data. Each row in X_test corresponds to a row in Y_test"
   ]
  },
  {
   "cell_type": "code",
   "execution_count": 20,
   "metadata": {},
   "outputs": [
    {
     "name": "stdout",
     "output_type": "stream",
     "text": [
      "[[0.11874357]\n",
      " [0.30970865]\n",
      " [0.1136061 ]\n",
      " ...\n",
      " [0.15000975]\n",
      " [0.11706641]\n",
      " [0.17748287]]\n"
     ]
    }
   ],
   "source": [
    "y_pred = classifier.predict(X_test)\n",
    "print(y_pred)"
   ]
  },
  {
   "cell_type": "markdown",
   "metadata": {},
   "source": [
    "### Predict the results using 0.5 as a threshold"
   ]
  },
  {
   "cell_type": "markdown",
   "metadata": {},
   "source": [
    "##### To use the confusion Matrix, we need to convert the probabilities that a customer will leave the bank into the form true or false. So we will use the cutoff value 0.5 to indicate whether they are likely to exit or not."
   ]
  },
  {
   "cell_type": "code",
   "execution_count": 21,
   "metadata": {},
   "outputs": [
    {
     "name": "stdout",
     "output_type": "stream",
     "text": [
      "[[False]\n",
      " [False]\n",
      " [False]\n",
      " ...\n",
      " [False]\n",
      " [False]\n",
      " [False]]\n"
     ]
    }
   ],
   "source": [
    "y_pred = (y_pred > 0.5)\n",
    "print(y_pred)"
   ]
  },
  {
   "cell_type": "markdown",
   "metadata": {},
   "source": [
    "### Print the Accuracy score and confusion matrix"
   ]
  },
  {
   "cell_type": "markdown",
   "metadata": {},
   "source": [
    "##### Making the Confusion Matrix"
   ]
  },
  {
   "cell_type": "code",
   "execution_count": 22,
   "metadata": {},
   "outputs": [
    {
     "name": "stdout",
     "output_type": "stream",
     "text": [
      "[[1546   49]\n",
      " [ 261  144]]\n"
     ]
    }
   ],
   "source": [
    "from sklearn.metrics import confusion_matrix\n",
    "cm = confusion_matrix(y_test, y_pred)\n",
    "print(cm)"
   ]
  },
  {
   "cell_type": "code",
   "execution_count": 23,
   "metadata": {},
   "outputs": [
    {
     "name": "stdout",
     "output_type": "stream",
     "text": [
      "2000/2000 [==============================] - 0s 53us/step\n"
     ]
    },
    {
     "data": {
      "text/plain": [
       "[0.39483959329128265, 0.845]"
      ]
     },
     "execution_count": 23,
     "metadata": {},
     "output_type": "execute_result"
    }
   ],
   "source": [
    "classifier.evaluate(X_test,y_test)"
   ]
  },
  {
   "cell_type": "markdown",
   "metadata": {},
   "source": [
    "##### 84.5% of testing data was classified correctly"
   ]
  },
  {
   "cell_type": "code",
   "execution_count": null,
   "metadata": {},
   "outputs": [],
   "source": []
  }
 ],
 "metadata": {
  "kernelspec": {
   "display_name": "Python 3",
   "language": "python",
   "name": "python3"
  },
  "language_info": {
   "codemirror_mode": {
    "name": "ipython",
    "version": 3
   },
   "file_extension": ".py",
   "mimetype": "text/x-python",
   "name": "python",
   "nbconvert_exporter": "python",
   "pygments_lexer": "ipython3",
   "version": "3.7.2"
  }
 },
 "nbformat": 4,
 "nbformat_minor": 2
}
