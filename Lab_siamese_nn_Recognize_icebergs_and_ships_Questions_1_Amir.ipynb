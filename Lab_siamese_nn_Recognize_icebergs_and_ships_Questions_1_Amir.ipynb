{
  "nbformat": 4,
  "nbformat_minor": 0,
  "metadata": {
    "kernelspec": {
      "name": "python3",
      "display_name": "Python 3"
    },
    "language_info": {
      "codemirror_mode": {
        "name": "ipython",
        "version": 3
      },
      "file_extension": ".py",
      "mimetype": "text/x-python",
      "name": "python",
      "nbconvert_exporter": "python",
      "pygments_lexer": "ipython3",
      "version": "3.6.8"
    },
    "colab": {
      "name": "Lab-siamese-nn-Recognize icebergs and ships-Questions-1_Amir.ipynb",
      "version": "0.3.2",
      "provenance": [],
      "collapsed_sections": []
    },
    "accelerator": "GPU"
  },
  "cells": [
    {
      "cell_type": "markdown",
      "metadata": {
        "_cell_guid": "608e43e3-8699-4299-9d18-9e9a6a3dd9bf",
        "_uuid": "434ffd54c774edd4e8b851ab0a4b6675425e46da",
        "id": "iI5Ht6zgPhea",
        "colab_type": "text"
      },
      "source": [
        "# Siamese Neural Networks\n",
        "Recognize images of icebergs from images of ships. \n",
        "These images were taken from space with a Sentinel-4 satellite. The goal was to create the most accurate neural network to differentiate them. However, neural networks usually only work well with A LOT of data, and I constrained you guys to 1000 examples to train on. That seems like a lot, but a CONVENTIONAL neural network needs more data. However, we are going to make a special kind of neural network: *Siamese Network*. This special network is used for face recognition and few-shot learning(learning from few examples). Let's get started by importing the usual liraries:"
      ]
    },
    {
      "cell_type": "code",
      "metadata": {
        "_cell_guid": "b1076dfc-b9ad-4769-8c92-a6c4dae69d19",
        "_uuid": "8f2839f25d086af736a60e9eeb907d3b93b6e0e5",
        "id": "uD9cGheuPheb",
        "colab_type": "code",
        "colab": {}
      },
      "source": [
        "from keras.layers import Input, Conv2D, Lambda, merge, Dense, Flatten,MaxPooling2D,Activation, Dropout\n",
        "from keras.models import Model, Sequential\n",
        "from keras.regularizers import l2\n",
        "from keras import backend as K\n",
        "from keras.optimizers import Adam\n",
        "from skimage.io import imshow\n",
        "import matplotlib.pyplot as plt\n",
        "import numpy as np\n",
        "import pandas as pd\n",
        "import random\n",
        "import itertools\n",
        "from sklearn.utils import shuffle"
      ],
      "execution_count": 0,
      "outputs": []
    },
    {
      "cell_type": "markdown",
      "metadata": {
        "_cell_guid": "adbffb0a-1784-4595-b3f2-2ea930abc31f",
        "_uuid": "b9200b733a896e4b6f261122fe9134c00955cc91",
        "id": "i94hWT1yPhee",
        "colab_type": "text"
      },
      "source": [
        "## Load the Data\n"
      ]
    },
    {
      "cell_type": "code",
      "metadata": {
        "id": "CCJDhfgXV3Fq",
        "colab_type": "code",
        "colab": {
          "base_uri": "https://localhost:8080/",
          "height": 35
        },
        "outputId": "56750477-070e-451c-b060-77303e96742b"
      },
      "source": [
        "from google.colab import drive\n",
        "drive.mount('/content/drive/')"
      ],
      "execution_count": 70,
      "outputs": [
        {
          "output_type": "stream",
          "text": [
            "Drive already mounted at /content/drive/; to attempt to forcibly remount, call drive.mount(\"/content/drive/\", force_remount=True).\n"
          ],
          "name": "stdout"
        }
      ]
    },
    {
      "cell_type": "code",
      "metadata": {
        "id": "JMY4oa-pWEcA",
        "colab_type": "code",
        "colab": {}
      },
      "source": [
        "import os\n",
        "os.chdir(\"/content/drive/My Drive/NLP/NMT/R10_External_Lab/\")"
      ],
      "execution_count": 0,
      "outputs": []
    },
    {
      "cell_type": "code",
      "metadata": {
        "_cell_guid": "79c7e3d0-c299-4dcb-8224-4455121ee9b0",
        "_uuid": "d629ff2d2480ee46fbb7e2d37f6b5fab8052498a",
        "id": "E_GXt7RlPhef",
        "colab_type": "code",
        "colab": {
          "base_uri": "https://localhost:8080/",
          "height": 35
        },
        "outputId": "f1c83507-01b7-404e-c78a-d8f3156214b5"
      },
      "source": [
        "npz = np.load('input_data.npz')\n",
        "X_train = npz['X_train']\n",
        "Y_train = npz['Y_train']\n",
        "del npz\n",
        "print ('We have {} examples to work with'.format(Y_train.shape[0]-1000))"
      ],
      "execution_count": 72,
      "outputs": [
        {
          "output_type": "stream",
          "text": [
            "We have 3113 examples to work with\n"
          ],
          "name": "stdout"
        }
      ]
    },
    {
      "cell_type": "markdown",
      "metadata": {
        "_cell_guid": "ed28bc84-1a8a-472f-98ae-9553fe6d1097",
        "_uuid": "b2e2306b8b16ae7f4f9b63249d1f2ff6e29559d3",
        "id": "jaD6vW5UPhei",
        "colab_type": "text"
      },
      "source": [
        "## Check the data\n",
        "\n",
        "Load some of the images to observe how your data look like."
      ]
    },
    {
      "cell_type": "code",
      "metadata": {
        "id": "tuRUYekcPhej",
        "colab_type": "code",
        "colab": {
          "base_uri": "https://localhost:8080/",
          "height": 305
        },
        "outputId": "0804ce3c-e034-4490-ac26-afb5d6ea272a"
      },
      "source": [
        "import matplotlib.pyplot as plt\n",
        "plt.imshow(X_train[0])\n",
        "labels = ['Ship','Iceberg']\n",
        "print ('This is:',labels[int(Y_train[0])])"
      ],
      "execution_count": 73,
      "outputs": [
        {
          "output_type": "stream",
          "text": [
            "Clipping input data to the valid range for imshow with RGB data ([0..1] for floats or [0..255] for integers).\n"
          ],
          "name": "stderr"
        },
        {
          "output_type": "stream",
          "text": [
            "This is: Ship\n"
          ],
          "name": "stdout"
        },
        {
          "output_type": "display_data",
          "data": {
            "image/png": "[encoded data removed]",
            "text/plain": [
              "<Figure size 432x288 with 1 Axes>"
            ]
          },
          "metadata": {
            "tags": []
          }
        }
      ]
    },
    {
      "cell_type": "markdown",
      "metadata": {
        "id": "G_KBztSZPhel",
        "colab_type": "text"
      },
      "source": [
        "# Creating the structure of Siamese Network"
      ]
    },
    {
      "cell_type": "code",
      "metadata": {
        "id": "8he7iafVFZao",
        "colab_type": "code",
        "colab": {
          "base_uri": "https://localhost:8080/",
          "height": 310
        },
        "outputId": "b352d45a-b47c-4c0e-b6c3-b9d0a1c3bab7"
      },
      "source": [
        "# We have 2 inputs, 1 for each picture\n",
        "left_input = Input((75,75,3))\n",
        "right_input = Input((75,75,3))\n",
        "\n",
        "# We will use 2 instances of 1 network for this task\n",
        "convnet = Sequential([\n",
        "    Conv2D(5,3, input_shape=(75,75,3)),\n",
        "    Activation('relu'),\n",
        "    MaxPooling2D(),\n",
        "    Conv2D(5,3),\n",
        "    Activation('relu'),\n",
        "    MaxPooling2D(),\n",
        "    Conv2D(7,2),\n",
        "    Activation('relu'),\n",
        "    MaxPooling2D(),\n",
        "    Conv2D(7,2),\n",
        "    Activation('relu'),\n",
        "    Flatten(),\n",
        "    Dense(18),\n",
        "    Activation('sigmoid')\n",
        "])\n",
        "# Connect each 'leg' of the network to each input\n",
        "# Remember, they have the same weights\n",
        "encoded_l = convnet(left_input)\n",
        "encoded_r = convnet(right_input)\n",
        "\n",
        "# Getting the L1 Distance between the 2 encodings\n",
        "L1_layer = Lambda(lambda tensor:K.abs(tensor[0] - tensor[1]))\n",
        "\n",
        "# Add the distance function to the network\n",
        "L1_distance = L1_layer([encoded_l, encoded_r])\n",
        "\n",
        "prediction = Dense(1,activation='sigmoid')(L1_distance)\n",
        "siamese_net = Model(inputs=[left_input,right_input],outputs=prediction)\n",
        "\n",
        "optimizer = Adam(0.001, decay=2.5e-4)\n",
        "#//TODO: get layerwise learning rates and momentum annealing scheme described in paperworking\n",
        "siamese_net.compile(loss=\"binary_crossentropy\",optimizer=optimizer,metrics=['accuracy'])"
      ],
      "execution_count": 74,
      "outputs": [
        {
          "output_type": "stream",
          "text": [
            "WARNING:tensorflow:From /usr/local/lib/python3.6/dist-packages/keras/backend/tensorflow_backend.py:66: The name tf.get_default_graph is deprecated. Please use tf.compat.v1.get_default_graph instead.\n",
            "\n",
            "WARNING:tensorflow:From /usr/local/lib/python3.6/dist-packages/keras/backend/tensorflow_backend.py:541: The name tf.placeholder is deprecated. Please use tf.compat.v1.placeholder instead.\n",
            "\n",
            "WARNING:tensorflow:From /usr/local/lib/python3.6/dist-packages/keras/backend/tensorflow_backend.py:4432: The name tf.random_uniform is deprecated. Please use tf.random.uniform instead.\n",
            "\n",
            "WARNING:tensorflow:From /usr/local/lib/python3.6/dist-packages/keras/backend/tensorflow_backend.py:4267: The name tf.nn.max_pool is deprecated. Please use tf.nn.max_pool2d instead.\n",
            "\n",
            "WARNING:tensorflow:From /usr/local/lib/python3.6/dist-packages/keras/optimizers.py:793: The name tf.train.Optimizer is deprecated. Please use tf.compat.v1.train.Optimizer instead.\n",
            "\n",
            "WARNING:tensorflow:From /usr/local/lib/python3.6/dist-packages/keras/backend/tensorflow_backend.py:3657: The name tf.log is deprecated. Please use tf.math.log instead.\n",
            "\n",
            "WARNING:tensorflow:From /usr/local/lib/python3.6/dist-packages/tensorflow/python/ops/nn_impl.py:180: add_dispatch_support.<locals>.wrapper (from tensorflow.python.ops.array_ops) is deprecated and will be removed in a future version.\n",
            "Instructions for updating:\n",
            "Use tf.where in 2.0, which has the same broadcast rule as np.where\n"
          ],
          "name": "stdout"
        }
      ]
    },
    {
      "cell_type": "markdown",
      "metadata": {
        "id": "o_in2aXrPhem",
        "colab_type": "text"
      },
      "source": [
        "# Create two Inputs for each image - left_input and right_input\n",
        "Hint - use Input Function in Keras and keep the shape to be 75,75,3"
      ]
    },
    {
      "cell_type": "code",
      "metadata": {
        "id": "trX9bymu8VpZ",
        "colab_type": "code",
        "colab": {}
      },
      "source": [
        "# We have 2 inputs, 1 for each picture\n",
        "left_input = Input((75,75,3))\n",
        "right_input = Input((75,75,3))"
      ],
      "execution_count": 0,
      "outputs": []
    },
    {
      "cell_type": "markdown",
      "metadata": {
        "id": "3-d3LAAcPhep",
        "colab_type": "text"
      },
      "source": [
        "# Create a base Network in which both images will go through individually.\n",
        "\n",
        "Hint - Use Sequential Model in Keras with convolution layers, Maxpooling Layers, Flatten Layer and Denser Layer with appropriate activation functions.\n",
        "Name the network as base_network"
      ]
    },
    {
      "cell_type": "code",
      "metadata": {
        "id": "QBBsqIzUPheq",
        "colab_type": "code",
        "colab": {}
      },
      "source": [
        "# We will use 2 instances of 1 network for this task\n",
        "convnet = Sequential([\n",
        "    Conv2D(5,3, input_shape=(75,75,3)),\n",
        "    Activation('relu'),\n",
        "    MaxPooling2D(),\n",
        "    Conv2D(5,3),\n",
        "    Activation('relu'),\n",
        "    MaxPooling2D(),\n",
        "    Conv2D(7,2),\n",
        "    Activation('relu'),\n",
        "    MaxPooling2D(),\n",
        "    Conv2D(7,2),\n",
        "    Activation('relu'),\n",
        "    Flatten(),\n",
        "    Dense(18),\n",
        "    Activation('sigmoid')\n",
        "])"
      ],
      "execution_count": 0,
      "outputs": []
    },
    {
      "cell_type": "code",
      "metadata": {
        "id": "4Fx-yenUPhes",
        "colab_type": "code",
        "colab": {}
      },
      "source": [
        ""
      ],
      "execution_count": 0,
      "outputs": []
    },
    {
      "cell_type": "markdown",
      "metadata": {
        "id": "hfYAksR9Pheu",
        "colab_type": "text"
      },
      "source": [
        "# Process the left and right inputs to the same Base Network(base_network)"
      ]
    },
    {
      "cell_type": "code",
      "metadata": {
        "id": "vIcy4K86Phev",
        "colab_type": "code",
        "colab": {}
      },
      "source": [
        "# Connect each 'leg' of the network to each input\n",
        "# Remember, they have the same weights\n",
        "encoded_l = convnet(left_input)"
      ],
      "execution_count": 0,
      "outputs": []
    },
    {
      "cell_type": "code",
      "metadata": {
        "id": "3fOc14tEPhez",
        "colab_type": "code",
        "colab": {}
      },
      "source": [
        "encoded_r = convnet(right_input)"
      ],
      "execution_count": 0,
      "outputs": []
    },
    {
      "cell_type": "markdown",
      "metadata": {
        "id": "Zi_IC4IVPhe4",
        "colab_type": "text"
      },
      "source": [
        "# Get the L1 Distance layer between the 2 processed encodings (processed_a and processed_b)\n",
        "Hint - You can use Lambda function for this."
      ]
    },
    {
      "cell_type": "code",
      "metadata": {
        "id": "rfHEDC5APhe5",
        "colab_type": "code",
        "colab": {}
      },
      "source": [
        "# Getting the L1 Distance between the 2 encodings\n",
        "L1_layer = Lambda(lambda tensor:K.abs(tensor[0] - tensor[1]))"
      ],
      "execution_count": 0,
      "outputs": []
    },
    {
      "cell_type": "code",
      "metadata": {
        "id": "r2ppAP7-Phe9",
        "colab_type": "code",
        "colab": {}
      },
      "source": [
        "# Add the distance function to the network\n",
        "L1_distance = L1_layer([encoded_l, encoded_r])"
      ],
      "execution_count": 0,
      "outputs": []
    },
    {
      "cell_type": "markdown",
      "metadata": {
        "id": "Nkz7OHbJPhe_",
        "colab_type": "text"
      },
      "source": [
        "# Add the prediction layer in the end and create the Siamese Network using Model function."
      ]
    },
    {
      "cell_type": "code",
      "metadata": {
        "id": "ISipgXppPhfA",
        "colab_type": "code",
        "colab": {}
      },
      "source": [
        "prediction = Dense(1,activation='sigmoid')(L1_distance)\n",
        "siamese_net = Model(inputs=[left_input,right_input],outputs=prediction)"
      ],
      "execution_count": 0,
      "outputs": []
    },
    {
      "cell_type": "markdown",
      "metadata": {
        "id": "ArHupQ32PhfC",
        "colab_type": "text"
      },
      "source": [
        "# Define the Optimizer Adam and Compile the Siamese Model."
      ]
    },
    {
      "cell_type": "code",
      "metadata": {
        "id": "CklNfu4IHYPm",
        "colab_type": "code",
        "colab": {}
      },
      "source": [
        "optimizer = Adam(0.001, decay=2.5e-4)\n",
        "#//TODO: get layerwise learning rates and momentum annealing scheme described in paperworking\n",
        "siamese_net.compile(loss=\"binary_crossentropy\",optimizer=optimizer,metrics=['accuracy'])"
      ],
      "execution_count": 0,
      "outputs": []
    },
    {
      "cell_type": "markdown",
      "metadata": {
        "_cell_guid": "dbba8e74-6b9c-4c84-96ed-55137265280b",
        "_uuid": "28e3843cae1a192bb14eb04cc1fe1705ef69f405",
        "id": "JlW0LXInPhfF",
        "colab_type": "text"
      },
      "source": [
        "# Show the Summary of your Siamese Network"
      ]
    },
    {
      "cell_type": "code",
      "metadata": {
        "id": "al9DwAprPhfF",
        "colab_type": "code",
        "colab": {
          "base_uri": "https://localhost:8080/",
          "height": 381
        },
        "outputId": "cfb1602a-a314-4fff-a161-e9d7adfd382c"
      },
      "source": [
        "siamese_net.summary()"
      ],
      "execution_count": 81,
      "outputs": [
        {
          "output_type": "stream",
          "text": [
            "Model: \"model_1\"\n",
            "__________________________________________________________________________________________________\n",
            "Layer (type)                    Output Shape         Param #     Connected to                     \n",
            "==================================================================================================\n",
            "input_1 (InputLayer)            (None, 75, 75, 3)    0                                            \n",
            "__________________________________________________________________________________________________\n",
            "input_2 (InputLayer)            (None, 75, 75, 3)    0                                            \n",
            "__________________________________________________________________________________________________\n",
            "sequential_1 (Sequential)       (None, 18)           6912        input_1[0][0]                    \n",
            "                                                                 input_2[0][0]                    \n",
            "__________________________________________________________________________________________________\n",
            "lambda_1 (Lambda)               (None, 18)           0           sequential_1[1][0]               \n",
            "                                                                 sequential_1[2][0]               \n",
            "__________________________________________________________________________________________________\n",
            "dense_2 (Dense)                 (None, 1)            19          lambda_1[0][0]                   \n",
            "==================================================================================================\n",
            "Total params: 6,931\n",
            "Trainable params: 6,931\n",
            "Non-trainable params: 0\n",
            "__________________________________________________________________________________________________\n"
          ],
          "name": "stdout"
        }
      ]
    },
    {
      "cell_type": "markdown",
      "metadata": {
        "id": "Q6B__h7NPhfH",
        "colab_type": "text"
      },
      "source": [
        "# Creating the Pair of Images to train on"
      ]
    },
    {
      "cell_type": "markdown",
      "metadata": {
        "_cell_guid": "7080234f-01f4-4df1-88a7-459746335c50",
        "_uuid": "4553890c8130dc76076252a09290497a4afc27e6",
        "id": "c5Z-oPkfPhfI",
        "colab_type": "text"
      },
      "source": [
        "It's not time to train though. We still have to create pairs of images to train on. There will be Positive(the same class) or Negative(different classes) for outputs. Let's construct this dataset. It is recommended that there are equal amounts positive and negative."
      ]
    },
    {
      "cell_type": "code",
      "metadata": {
        "_cell_guid": "32cb30db-144d-4f93-af05-6cb9a697c084",
        "_uuid": "09a3e9d488acd34e99912c5f01474029e77637f5",
        "id": "1bDSl6tGPhfJ",
        "colab_type": "code",
        "colab": {}
      },
      "source": [
        "# First let's separate the dataset from 1 matrix to a list of matricies\n",
        "image_list = np.split(X_train[:1000],1000)\n",
        "label_list = np.split(Y_train[:1000],1000)\n",
        "\n",
        "left_input = []\n",
        "right_input = []\n",
        "targets = []\n",
        "\n",
        "#Number of pairs per image\n",
        "pairs = 5\n",
        "#Let's create the new dataset to train on\n",
        "for i in range(len(label_list)):\n",
        "    for _ in range(pairs):\n",
        "        compare_to = i\n",
        "        while compare_to == i: #Make sure it's not comparing to itself\n",
        "            compare_to = random.randint(0,999)\n",
        "        left_input.append(image_list[i])\n",
        "        right_input.append(image_list[compare_to])\n",
        "        if label_list[i] == label_list[compare_to]:# They are the same\n",
        "            targets.append(1.)\n",
        "        else:# Not the same\n",
        "            targets.append(0.)\n",
        "            \n",
        "left_input = np.squeeze(np.array(left_input))\n",
        "right_input = np.squeeze(np.array(right_input))\n",
        "targets = np.squeeze(np.array(targets))\n",
        "\n",
        "iceimage = X_train[101]\n",
        "test_left = []\n",
        "test_right = []\n",
        "test_targets = []\n",
        "\n",
        "for i in range(Y_train.shape[0]-1000):\n",
        "    test_left.append(iceimage)\n",
        "    test_right.append(X_train[i+1000])\n",
        "    test_targets.append(Y_train[i+1000])\n",
        "\n",
        "test_left = np.squeeze(np.array(test_left))\n",
        "test_right = np.squeeze(np.array(test_right))\n",
        "test_targets = np.squeeze(np.array(test_targets))"
      ],
      "execution_count": 0,
      "outputs": []
    },
    {
      "cell_type": "markdown",
      "metadata": {
        "id": "rDowpPbePhfL",
        "colab_type": "text"
      },
      "source": [
        "Now we have a lot more examples.\n",
        "Now we have pairs x 1000 examples to train the network on. \n",
        "Each side will have an input of an image and the output will be one if they are the same and zero if not."
      ]
    },
    {
      "cell_type": "code",
      "metadata": {
        "id": "nevvMRFjTBWG",
        "colab_type": "code",
        "colab": {
          "base_uri": "https://localhost:8080/",
          "height": 35
        },
        "outputId": "8daaab71-39bc-42ca-921f-877d41c04693"
      },
      "source": [
        "left_input.shape"
      ],
      "execution_count": 77,
      "outputs": [
        {
          "output_type": "execute_result",
          "data": {
            "text/plain": [
              "(5000, 75, 75, 3)"
            ]
          },
          "metadata": {
            "tags": []
          },
          "execution_count": 77
        }
      ]
    },
    {
      "cell_type": "code",
      "metadata": {
        "id": "9q6CPVrJTFeW",
        "colab_type": "code",
        "colab": {
          "base_uri": "https://localhost:8080/",
          "height": 35
        },
        "outputId": "4655fa0a-e9e8-4b9f-cb5e-a3bf16f90582"
      },
      "source": [
        "right_input.shape"
      ],
      "execution_count": 78,
      "outputs": [
        {
          "output_type": "execute_result",
          "data": {
            "text/plain": [
              "(5000, 75, 75, 3)"
            ]
          },
          "metadata": {
            "tags": []
          },
          "execution_count": 78
        }
      ]
    },
    {
      "cell_type": "code",
      "metadata": {
        "id": "r-jg2Dm1TJ0V",
        "colab_type": "code",
        "colab": {
          "base_uri": "https://localhost:8080/",
          "height": 35
        },
        "outputId": "adb044bf-2639-4ca7-83d6-250612e9eae1"
      },
      "source": [
        "test_left.shape"
      ],
      "execution_count": 79,
      "outputs": [
        {
          "output_type": "execute_result",
          "data": {
            "text/plain": [
              "(3113, 75, 75, 3)"
            ]
          },
          "metadata": {
            "tags": []
          },
          "execution_count": 79
        }
      ]
    },
    {
      "cell_type": "code",
      "metadata": {
        "id": "pQMqVgWZTM1E",
        "colab_type": "code",
        "colab": {
          "base_uri": "https://localhost:8080/",
          "height": 35
        },
        "outputId": "fbfeb24b-e41c-49dc-bf0f-ac8654d15f1b"
      },
      "source": [
        "test_right.shape"
      ],
      "execution_count": 80,
      "outputs": [
        {
          "output_type": "execute_result",
          "data": {
            "text/plain": [
              "(3113, 75, 75, 3)"
            ]
          },
          "metadata": {
            "tags": []
          },
          "execution_count": 80
        }
      ]
    },
    {
      "cell_type": "markdown",
      "metadata": {
        "id": "v2FRrU0pPhfM",
        "colab_type": "text"
      },
      "source": [
        "# Train the Siamese train on left and right input image pairs created and validate it by test pairs."
      ]
    },
    {
      "cell_type": "code",
      "metadata": {
        "id": "mG0UnNzXPhff",
        "colab_type": "code",
        "colab": {
          "base_uri": "https://localhost:8080/",
          "height": 1000
        },
        "outputId": "76f3051c-9088-4cf8-9bdf-ae607e89d496"
      },
      "source": [
        "siamese_net.fit([left_input,right_input], targets,\n",
        "          batch_size=16,\n",
        "          epochs=30,\n",
        "          verbose=1,\n",
        "          validation_data=([test_left,test_right],test_targets))"
      ],
      "execution_count": 82,
      "outputs": [
        {
          "output_type": "stream",
          "text": [
            "WARNING:tensorflow:From /usr/local/lib/python3.6/dist-packages/keras/backend/tensorflow_backend.py:1033: The name tf.assign_add is deprecated. Please use tf.compat.v1.assign_add instead.\n",
            "\n",
            "Train on 5000 samples, validate on 3113 samples\n",
            "Epoch 1/30\n",
            "5000/5000 [==============================] - 11s 2ms/step - loss: 0.6761 - acc: 0.5746 - val_loss: 0.6749 - val_acc: 0.5798\n",
            "Epoch 2/30\n",
            "5000/5000 [==============================] - 4s 744us/step - loss: 0.6024 - acc: 0.6814 - val_loss: 0.6780 - val_acc: 0.5853\n",
            "Epoch 3/30\n",
            "5000/5000 [==============================] - 4s 755us/step - loss: 0.5213 - acc: 0.7564 - val_loss: 0.6450 - val_acc: 0.5943\n",
            "Epoch 4/30\n",
            "5000/5000 [==============================] - 4s 758us/step - loss: 0.4673 - acc: 0.7896 - val_loss: 0.7125 - val_acc: 0.5365\n",
            "Epoch 5/30\n",
            "5000/5000 [==============================] - 4s 767us/step - loss: 0.4284 - acc: 0.8086 - val_loss: 0.5048 - val_acc: 0.7594\n",
            "Epoch 6/30\n",
            "5000/5000 [==============================] - 4s 760us/step - loss: 0.3998 - acc: 0.8252 - val_loss: 0.5497 - val_acc: 0.7298\n",
            "Epoch 7/30\n",
            "5000/5000 [==============================] - 4s 741us/step - loss: 0.3749 - acc: 0.8366 - val_loss: 0.6152 - val_acc: 0.6714\n",
            "Epoch 8/30\n",
            "5000/5000 [==============================] - 4s 751us/step - loss: 0.3519 - acc: 0.8524 - val_loss: 0.5319 - val_acc: 0.7565\n",
            "Epoch 9/30\n",
            "5000/5000 [==============================] - 4s 771us/step - loss: 0.3344 - acc: 0.8612 - val_loss: 0.6163 - val_acc: 0.6942\n",
            "Epoch 10/30\n",
            "5000/5000 [==============================] - 4s 748us/step - loss: 0.3165 - acc: 0.8700 - val_loss: 0.5770 - val_acc: 0.7376\n",
            "Epoch 11/30\n",
            "5000/5000 [==============================] - 4s 751us/step - loss: 0.2982 - acc: 0.8806 - val_loss: 0.5665 - val_acc: 0.7482\n",
            "Epoch 12/30\n",
            "5000/5000 [==============================] - 4s 758us/step - loss: 0.2835 - acc: 0.8902 - val_loss: 0.5804 - val_acc: 0.7559\n",
            "Epoch 13/30\n",
            "5000/5000 [==============================] - 4s 747us/step - loss: 0.2713 - acc: 0.8926 - val_loss: 0.5881 - val_acc: 0.7449\n",
            "Epoch 14/30\n",
            "5000/5000 [==============================] - 4s 760us/step - loss: 0.2591 - acc: 0.9002 - val_loss: 0.5827 - val_acc: 0.7629\n",
            "Epoch 15/30\n",
            "5000/5000 [==============================] - 4s 752us/step - loss: 0.2458 - acc: 0.9090 - val_loss: 0.5715 - val_acc: 0.7652\n",
            "Epoch 16/30\n",
            "5000/5000 [==============================] - 4s 764us/step - loss: 0.2335 - acc: 0.9150 - val_loss: 0.5795 - val_acc: 0.7610\n",
            "Epoch 17/30\n",
            "5000/5000 [==============================] - 4s 757us/step - loss: 0.2234 - acc: 0.9198 - val_loss: 0.6190 - val_acc: 0.7420\n",
            "Epoch 18/30\n",
            "5000/5000 [==============================] - 4s 745us/step - loss: 0.2146 - acc: 0.9234 - val_loss: 0.6372 - val_acc: 0.7388\n",
            "Epoch 19/30\n",
            "5000/5000 [==============================] - 4s 769us/step - loss: 0.2049 - acc: 0.9294 - val_loss: 0.6463 - val_acc: 0.7385\n",
            "Epoch 20/30\n",
            "5000/5000 [==============================] - 4s 759us/step - loss: 0.1989 - acc: 0.9306 - val_loss: 0.6525 - val_acc: 0.7523\n",
            "Epoch 21/30\n",
            "5000/5000 [==============================] - 4s 744us/step - loss: 0.1895 - acc: 0.9378 - val_loss: 0.6549 - val_acc: 0.7427\n",
            "Epoch 22/30\n",
            "5000/5000 [==============================] - 4s 751us/step - loss: 0.1856 - acc: 0.9342 - val_loss: 0.6849 - val_acc: 0.7253\n",
            "Epoch 23/30\n",
            "5000/5000 [==============================] - 4s 751us/step - loss: 0.1783 - acc: 0.9400 - val_loss: 0.6635 - val_acc: 0.7588\n",
            "Epoch 24/30\n",
            "5000/5000 [==============================] - 4s 768us/step - loss: 0.1754 - acc: 0.9394 - val_loss: 0.6717 - val_acc: 0.7446\n",
            "Epoch 25/30\n",
            "5000/5000 [==============================] - 4s 753us/step - loss: 0.1675 - acc: 0.9436 - val_loss: 0.6758 - val_acc: 0.7584\n",
            "Epoch 26/30\n",
            "5000/5000 [==============================] - 4s 769us/step - loss: 0.1638 - acc: 0.9464 - val_loss: 0.6633 - val_acc: 0.7523\n",
            "Epoch 27/30\n",
            "5000/5000 [==============================] - 4s 753us/step - loss: 0.1618 - acc: 0.9454 - val_loss: 0.6794 - val_acc: 0.7398\n",
            "Epoch 28/30\n",
            "5000/5000 [==============================] - 4s 729us/step - loss: 0.1533 - acc: 0.9484 - val_loss: 0.7074 - val_acc: 0.7343\n",
            "Epoch 29/30\n",
            "5000/5000 [==============================] - 4s 743us/step - loss: 0.1505 - acc: 0.9482 - val_loss: 0.6724 - val_acc: 0.7456\n",
            "Epoch 30/30\n",
            "5000/5000 [==============================] - 4s 747us/step - loss: 0.1458 - acc: 0.9506 - val_loss: 0.6832 - val_acc: 0.7581\n"
          ],
          "name": "stdout"
        },
        {
          "output_type": "execute_result",
          "data": {
            "text/plain": [
              "<keras.callbacks.History at 0x7f340ee16ac8>"
            ]
          },
          "metadata": {
            "tags": []
          },
          "execution_count": 82
        }
      ]
    },
    {
      "cell_type": "code",
      "metadata": {
        "id": "lGuoAZha1AkR",
        "colab_type": "code",
        "colab": {}
      },
      "source": [
        ""
      ],
      "execution_count": 0,
      "outputs": []
    }
  ]
}