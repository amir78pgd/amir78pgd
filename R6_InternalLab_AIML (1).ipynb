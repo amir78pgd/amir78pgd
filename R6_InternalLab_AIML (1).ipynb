{
 "cells": [
  {
   "cell_type": "markdown",
   "metadata": {
    "colab_type": "text",
    "id": "sb7Epo0VOB58"
   },
   "source": [
    "### Load tensorflow"
   ]
  },
  {
   "cell_type": "code",
   "execution_count": 1,
   "metadata": {
    "colab": {},
    "colab_type": "code",
    "id": "fHpCNRv1OB5-"
   },
   "outputs": [],
   "source": [
    "import tensorflow as tf"
   ]
  },
  {
   "cell_type": "code",
   "execution_count": 2,
   "metadata": {
    "colab": {},
    "colab_type": "code",
    "id": "tnSsH8sNOB6F",
    "slideshow": {
     "slide_type": "fragment"
    }
   },
   "outputs": [],
   "source": [
    "#Reset Default graph - Needed only for Jupyter notebook\n",
    "tf.reset_default_graph()"
   ]
  },
  {
   "cell_type": "markdown",
   "metadata": {
    "colab_type": "text",
    "id": "DxJDmJqqOB6K",
    "slideshow": {
     "slide_type": "slide"
    }
   },
   "source": [
    "### Collect Data"
   ]
  },
  {
   "cell_type": "code",
   "execution_count": 3,
   "metadata": {
    "colab": {},
    "colab_type": "code",
    "id": "FhllFLyKOB6N"
   },
   "outputs": [],
   "source": [
    "import pandas as pd"
   ]
  },
  {
   "cell_type": "code",
   "execution_count": 4,
   "metadata": {
    "colab": {},
    "colab_type": "code",
    "id": "B4yQKMiJOB6R"
   },
   "outputs": [],
   "source": [
    "data = pd.read_csv('prices.csv')"
   ]
  },
  {
   "cell_type": "markdown",
   "metadata": {
    "colab_type": "text",
    "id": "fgkX6SEqOB6W"
   },
   "source": [
    "### Check all columns in the dataset"
   ]
  },
  {
   "cell_type": "code",
   "execution_count": 5,
   "metadata": {
    "colab": {},
    "colab_type": "code",
    "id": "7K8pWsNQOB6X"
   },
   "outputs": [
    {
     "data": {
      "text/plain": [
       "Index(['date', 'symbol', 'open', 'close', 'low', 'high', 'volume'], dtype='object')"
      ]
     },
     "execution_count": 5,
     "metadata": {},
     "output_type": "execute_result"
    }
   ],
   "source": [
    "data.columns"
   ]
  },
  {
   "cell_type": "markdown",
   "metadata": {
    "colab_type": "text",
    "id": "7dU6X7MpOB6c"
   },
   "source": [
    "### Drop columns `date` and  `symbol`"
   ]
  },
  {
   "cell_type": "code",
   "execution_count": 7,
   "metadata": {
    "colab": {},
    "colab_type": "code",
    "id": "lh_6spSKOB6e"
   },
   "outputs": [
    {
     "data": {
      "text/html": [
       "<div>\n",
       "<style scoped>\n",
       "    .dataframe tbody tr th:only-of-type {\n",
       "        vertical-align: middle;\n",
       "    }\n",
       "\n",
       "    .dataframe tbody tr th {\n",
       "        vertical-align: top;\n",
       "    }\n",
       "\n",
       "    .dataframe thead th {\n",
       "        text-align: right;\n",
       "    }\n",
       "</style>\n",
       "<table border=\"1\" class=\"dataframe\">\n",
       "  <thead>\n",
       "    <tr style=\"text-align: right;\">\n",
       "      <th></th>\n",
       "      <th>open</th>\n",
       "      <th>close</th>\n",
       "      <th>low</th>\n",
       "      <th>high</th>\n",
       "      <th>volume</th>\n",
       "    </tr>\n",
       "  </thead>\n",
       "  <tbody>\n",
       "    <tr>\n",
       "      <th>0</th>\n",
       "      <td>123.430000</td>\n",
       "      <td>125.839996</td>\n",
       "      <td>122.309998</td>\n",
       "      <td>126.250000</td>\n",
       "      <td>2163600.0</td>\n",
       "    </tr>\n",
       "    <tr>\n",
       "      <th>1</th>\n",
       "      <td>125.239998</td>\n",
       "      <td>119.980003</td>\n",
       "      <td>119.940002</td>\n",
       "      <td>125.540001</td>\n",
       "      <td>2386400.0</td>\n",
       "    </tr>\n",
       "    <tr>\n",
       "      <th>2</th>\n",
       "      <td>116.379997</td>\n",
       "      <td>114.949997</td>\n",
       "      <td>114.930000</td>\n",
       "      <td>119.739998</td>\n",
       "      <td>2489500.0</td>\n",
       "    </tr>\n",
       "    <tr>\n",
       "      <th>3</th>\n",
       "      <td>115.480003</td>\n",
       "      <td>116.620003</td>\n",
       "      <td>113.500000</td>\n",
       "      <td>117.440002</td>\n",
       "      <td>2006300.0</td>\n",
       "    </tr>\n",
       "    <tr>\n",
       "      <th>4</th>\n",
       "      <td>117.010002</td>\n",
       "      <td>114.970001</td>\n",
       "      <td>114.089996</td>\n",
       "      <td>117.330002</td>\n",
       "      <td>1408600.0</td>\n",
       "    </tr>\n",
       "  </tbody>\n",
       "</table>\n",
       "</div>"
      ],
      "text/plain": [
       "         open       close         low        high     volume\n",
       "0  123.430000  125.839996  122.309998  126.250000  2163600.0\n",
       "1  125.239998  119.980003  119.940002  125.540001  2386400.0\n",
       "2  116.379997  114.949997  114.930000  119.739998  2489500.0\n",
       "3  115.480003  116.620003  113.500000  117.440002  2006300.0\n",
       "4  117.010002  114.970001  114.089996  117.330002  1408600.0"
      ]
     },
     "execution_count": 7,
     "metadata": {},
     "output_type": "execute_result"
    }
   ],
   "source": [
    "data.drop(['date','symbol'],axis=1).head()"
   ]
  },
  {
   "cell_type": "code",
   "execution_count": 0,
   "metadata": {
    "colab": {},
    "colab_type": "code",
    "id": "xlwbUgTwOB6i",
    "outputId": "56bad82a-f271-415a-e0d6-cbe1c4290743"
   },
   "outputs": [
    {
     "data": {
      "text/html": [
       "<div>\n",
       "<style scoped>\n",
       "    .dataframe tbody tr th:only-of-type {\n",
       "        vertical-align: middle;\n",
       "    }\n",
       "\n",
       "    .dataframe tbody tr th {\n",
       "        vertical-align: top;\n",
       "    }\n",
       "\n",
       "    .dataframe thead th {\n",
       "        text-align: right;\n",
       "    }\n",
       "</style>\n",
       "<table border=\"1\" class=\"dataframe\">\n",
       "  <thead>\n",
       "    <tr style=\"text-align: right;\">\n",
       "      <th></th>\n",
       "      <th>open</th>\n",
       "      <th>close</th>\n",
       "      <th>low</th>\n",
       "      <th>high</th>\n",
       "      <th>volume</th>\n",
       "    </tr>\n",
       "  </thead>\n",
       "  <tbody>\n",
       "    <tr>\n",
       "      <th>0</th>\n",
       "      <td>123.430000</td>\n",
       "      <td>125.839996</td>\n",
       "      <td>122.309998</td>\n",
       "      <td>126.250000</td>\n",
       "      <td>2163600.0</td>\n",
       "    </tr>\n",
       "    <tr>\n",
       "      <th>1</th>\n",
       "      <td>125.239998</td>\n",
       "      <td>119.980003</td>\n",
       "      <td>119.940002</td>\n",
       "      <td>125.540001</td>\n",
       "      <td>2386400.0</td>\n",
       "    </tr>\n",
       "    <tr>\n",
       "      <th>2</th>\n",
       "      <td>116.379997</td>\n",
       "      <td>114.949997</td>\n",
       "      <td>114.930000</td>\n",
       "      <td>119.739998</td>\n",
       "      <td>2489500.0</td>\n",
       "    </tr>\n",
       "    <tr>\n",
       "      <th>3</th>\n",
       "      <td>115.480003</td>\n",
       "      <td>116.620003</td>\n",
       "      <td>113.500000</td>\n",
       "      <td>117.440002</td>\n",
       "      <td>2006300.0</td>\n",
       "    </tr>\n",
       "    <tr>\n",
       "      <th>4</th>\n",
       "      <td>117.010002</td>\n",
       "      <td>114.970001</td>\n",
       "      <td>114.089996</td>\n",
       "      <td>117.330002</td>\n",
       "      <td>1408600.0</td>\n",
       "    </tr>\n",
       "  </tbody>\n",
       "</table>\n",
       "</div>"
      ],
      "text/plain": [
       "         open       close         low        high     volume\n",
       "0  123.430000  125.839996  122.309998  126.250000  2163600.0\n",
       "1  125.239998  119.980003  119.940002  125.540001  2386400.0\n",
       "2  116.379997  114.949997  114.930000  119.739998  2489500.0\n",
       "3  115.480003  116.620003  113.500000  117.440002  2006300.0\n",
       "4  117.010002  114.970001  114.089996  117.330002  1408600.0"
      ]
     },
     "execution_count": 806,
     "metadata": {
      "tags": []
     },
     "output_type": "execute_result"
    }
   ],
   "source": [
    "data.head()"
   ]
  },
  {
   "cell_type": "markdown",
   "metadata": {
    "colab_type": "text",
    "id": "3DBv3WWYOB6q"
   },
   "source": [
    "### Consider only first 1000 rows in the dataset for building feature set and target set"
   ]
  },
  {
   "cell_type": "code",
   "execution_count": 56,
   "metadata": {
    "colab": {},
    "colab_type": "code",
    "id": "Z_hG9rGBOB6s"
   },
   "outputs": [],
   "source": [
    "data_feature = data[['open','low','high','volume']].head(1000)"
   ]
  },
  {
   "cell_type": "code",
   "execution_count": 57,
   "metadata": {},
   "outputs": [],
   "source": [
    "data_target = data['close'].head(1000)"
   ]
  },
  {
   "cell_type": "markdown",
   "metadata": {
    "colab_type": "text",
    "id": "M3UaApqYOB6x"
   },
   "source": [
    "### Divide the data into train and test sets"
   ]
  },
  {
   "cell_type": "code",
   "execution_count": 58,
   "metadata": {
    "colab": {},
    "colab_type": "code",
    "id": "2EkKAy7fOB6y"
   },
   "outputs": [],
   "source": [
    "from sklearn.model_selection import train_test_split\n",
    "X_train , X_test , y_train , y_test = train_test_split(data_feature, data_target, test_size=0.30, random_state=42)"
   ]
  },
  {
   "cell_type": "markdown",
   "metadata": {
    "colab_type": "text",
    "id": "v6vE4eYCOB62",
    "slideshow": {
     "slide_type": "slide"
    }
   },
   "source": [
    "## Building the graph in tensorflow"
   ]
  },
  {
   "cell_type": "markdown",
   "metadata": {
    "colab_type": "text",
    "id": "xK0zBd1VOB64",
    "slideshow": {
     "slide_type": "slide"
    }
   },
   "source": [
    "1.Define input data placeholders"
   ]
  },
  {
   "cell_type": "code",
   "execution_count": 59,
   "metadata": {
    "colab": {},
    "colab_type": "code",
    "id": "JDrYlWTuOB66"
   },
   "outputs": [],
   "source": [
    "#Input features\n",
    "x = tf.placeholder(shape=[None,4],dtype=tf.float32, name='x-input')\n",
    "\n",
    "#Normalize the data\n",
    "x_n = tf.nn.l2_normalize(x,1)\n",
    "\n",
    "#Actual Prices\n",
    "y_ = tf.placeholder(shape=[None],dtype=tf.float32, name='y-input')"
   ]
  },
  {
   "cell_type": "markdown",
   "metadata": {
    "colab_type": "text",
    "id": "297_qja4OB7A",
    "slideshow": {
     "slide_type": "slide"
    }
   },
   "source": [
    "2.Define Weights and Bias"
   ]
  },
  {
   "cell_type": "code",
   "execution_count": 60,
   "metadata": {
    "colab": {},
    "colab_type": "code",
    "id": "L205qPeQOB7B"
   },
   "outputs": [],
   "source": [
    "W = tf.Variable(tf.zeros(shape=[4,1]), name=\"Weights\")\n",
    "b = tf.Variable(tf.zeros(shape=[1]),name=\"Bias\")"
   ]
  },
  {
   "cell_type": "markdown",
   "metadata": {
    "colab_type": "text",
    "id": "HgtWA-UIOB7F",
    "slideshow": {
     "slide_type": "slide"
    }
   },
   "source": [
    "3.Prediction"
   ]
  },
  {
   "cell_type": "code",
   "execution_count": 61,
   "metadata": {
    "colab": {},
    "colab_type": "code",
    "id": "JveGlx25OB7H"
   },
   "outputs": [],
   "source": [
    "#We will use normalized data\n",
    "#y = tf.add(tf.matmul(x,W),b,name='output')\n",
    "y = tf.add(tf.matmul(x_n,W),b,name='output')"
   ]
  },
  {
   "cell_type": "markdown",
   "metadata": {
    "colab_type": "text",
    "id": "TL1hIwf_OB7M",
    "slideshow": {
     "slide_type": "slide"
    }
   },
   "source": [
    "4.Loss (Cost) Function [Mean square error]"
   ]
  },
  {
   "cell_type": "code",
   "execution_count": 62,
   "metadata": {
    "colab": {},
    "colab_type": "code",
    "id": "8VSWPiGXOB7P"
   },
   "outputs": [],
   "source": [
    "loss = tf.reduce_mean(tf.square(y-y_),name='Loss')"
   ]
  },
  {
   "cell_type": "markdown",
   "metadata": {
    "colab_type": "text",
    "id": "jzG85FUlOB7U",
    "slideshow": {
     "slide_type": "slide"
    }
   },
   "source": [
    "5.GradientDescent Optimizer to minimize Loss [GradientDescentOptimizer]"
   ]
  },
  {
   "cell_type": "code",
   "execution_count": 63,
   "metadata": {
    "colab": {},
    "colab_type": "code",
    "id": "cj802w-3OB7X"
   },
   "outputs": [],
   "source": [
    "train_op = tf.train.GradientDescentOptimizer(0.03).minimize(loss)"
   ]
  },
  {
   "cell_type": "markdown",
   "metadata": {
    "colab_type": "text",
    "id": "xSypb_u8OB7e",
    "slideshow": {
     "slide_type": "slide"
    }
   },
   "source": [
    "## Execute the Graph for 100 epochs and observe the loss"
   ]
  },
  {
   "cell_type": "code",
   "execution_count": 64,
   "metadata": {
    "colab": {},
    "colab_type": "code",
    "id": "DVvgj7eQOB7f"
   },
   "outputs": [],
   "source": [
    "#Lets start graph Execution\n",
    "sess = tf.Session()\n",
    "\n",
    "# variables need to be initialized before we can use them\n",
    "sess.run(tf.global_variables_initializer())\n",
    "\n",
    "#how many times data need to be shown to model\n",
    "training_epochs = 100"
   ]
  },
  {
   "cell_type": "code",
   "execution_count": 65,
   "metadata": {
    "colab": {},
    "colab_type": "code",
    "id": "9smwOW-1OB7k"
   },
   "outputs": [
    {
     "name": "stdout",
     "output_type": "stream",
     "text": [
      "Training loss at step:  0  is  7384.434\n",
      "Training loss at step:  10  is  3402.8137\n",
      "Training loss at step:  20  is  3093.9893\n",
      "Training loss at step:  30  is  3070.0347\n",
      "Training loss at step:  40  is  3068.1777\n",
      "Training loss at step:  50  is  3068.032\n",
      "Training loss at step:  60  is  3068.0227\n",
      "Training loss at step:  70  is  3068.022\n",
      "Training loss at step:  80  is  3068.025\n",
      "Training loss at step:  90  is  3068.0205\n"
     ]
    }
   ],
   "source": [
    "for epoch in range(training_epochs):\n",
    "            \n",
    "    #Calculate train_op and loss\n",
    "    _, train_loss = sess.run([train_op,loss],feed_dict={x:X_train, y_:y_train})\n",
    "    \n",
    "    if epoch % 10 == 0:\n",
    "        print ('Training loss at step: ', epoch, ' is ', train_loss)"
   ]
  },
  {
   "cell_type": "code",
   "execution_count": 66,
   "metadata": {
    "colab": {},
    "colab_type": "code",
    "id": "9JuLI6bSOB7n"
   },
   "outputs": [
    {
     "name": "stdout",
     "output_type": "stream",
     "text": [
      "Testing loss at step:  0  is  4186.908\n",
      "Testing loss at step:  10  is  4175.0225\n",
      "Testing loss at step:  20  is  4174.102\n",
      "Testing loss at step:  30  is  4174.033\n",
      "Testing loss at step:  40  is  4174.024\n",
      "Testing loss at step:  50  is  4174.026\n",
      "Testing loss at step:  60  is  4174.023\n",
      "Testing loss at step:  70  is  4174.0225\n",
      "Testing loss at step:  80  is  4174.0254\n",
      "Testing loss at step:  90  is  4174.0254\n"
     ]
    }
   ],
   "source": [
    "for epoch in range(training_epochs):\n",
    "            \n",
    "    #Calculate train_op and loss\n",
    "    _, test_loss = sess.run([train_op,loss],feed_dict={x:X_test, y_:y_test})\n",
    "    \n",
    "    if epoch % 10 == 0:\n",
    "        print ('Testing loss at step: ', epoch, ' is ', test_loss)"
   ]
  },
  {
   "cell_type": "markdown",
   "metadata": {
    "colab_type": "text",
    "id": "DOL2ncA1OB7q"
   },
   "source": [
    "### Get the shapes and values of W and b\n",
    "\n",
    "Hint: Use sess.run(W) to get W."
   ]
  },
  {
   "cell_type": "code",
   "execution_count": 21,
   "metadata": {
    "colab": {},
    "colab_type": "code",
    "id": "ZGvtyTeuOB7r"
   },
   "outputs": [
    {
     "data": {
      "text/plain": [
       "array([[2.5700361e-03],\n",
       "       [2.5463824e-03],\n",
       "       [2.5909443e-03],\n",
       "       [3.3388004e+01]], dtype=float32)"
      ]
     },
     "execution_count": 21,
     "metadata": {},
     "output_type": "execute_result"
    }
   ],
   "source": [
    "sess.run(W) # value of W"
   ]
  },
  {
   "cell_type": "code",
   "execution_count": 23,
   "metadata": {},
   "outputs": [
    {
     "name": "stdout",
     "output_type": "stream",
     "text": [
      "<tf.Variable 'Weights:0' shape=(4, 1) dtype=float32_ref>\n"
     ]
    }
   ],
   "source": [
    "print(W) # shape of W"
   ]
  },
  {
   "cell_type": "code",
   "execution_count": 22,
   "metadata": {
    "colab": {},
    "colab_type": "code",
    "id": "vhDtOv5UOB7x"
   },
   "outputs": [
    {
     "data": {
      "text/plain": [
       "array([33.388004], dtype=float32)"
      ]
     },
     "execution_count": 22,
     "metadata": {},
     "output_type": "execute_result"
    }
   ],
   "source": [
    "sess.run(b) # value of b"
   ]
  },
  {
   "cell_type": "code",
   "execution_count": 24,
   "metadata": {},
   "outputs": [
    {
     "name": "stdout",
     "output_type": "stream",
     "text": [
      "<tf.Variable 'Bias:0' shape=(1,) dtype=float32_ref>\n"
     ]
    }
   ],
   "source": [
    "print(b) # shape of b"
   ]
  },
  {
   "cell_type": "markdown",
   "metadata": {
    "colab_type": "text",
    "id": "SZqKUEFsOB71"
   },
   "source": [
    "### Find the Absolute mean square loss difference between training and testing loss."
   ]
  },
  {
   "cell_type": "code",
   "execution_count": 48,
   "metadata": {
    "colab": {},
    "colab_type": "code",
    "id": "97t-grQgOB71"
   },
   "outputs": [
    {
     "data": {
      "text/plain": [
       "3068.021"
      ]
     },
     "execution_count": 48,
     "metadata": {},
     "output_type": "execute_result"
    }
   ],
   "source": [
    "train_loss"
   ]
  },
  {
   "cell_type": "code",
   "execution_count": 49,
   "metadata": {
    "colab": {},
    "colab_type": "code",
    "id": "KjOInjUROB75"
   },
   "outputs": [
    {
     "data": {
      "text/plain": [
       "4174.0254"
      ]
     },
     "execution_count": 49,
     "metadata": {},
     "output_type": "execute_result"
    }
   ],
   "source": [
    "test_loss"
   ]
  },
  {
   "cell_type": "code",
   "execution_count": 51,
   "metadata": {
    "colab": {},
    "colab_type": "code",
    "id": "CZUAjZ5oOB78"
   },
   "outputs": [
    {
     "data": {
      "text/plain": [
       "1106.0044"
      ]
     },
     "execution_count": 51,
     "metadata": {},
     "output_type": "execute_result"
    }
   ],
   "source": [
    "diff = abs(train_loss - test_loss)\n",
    "diff"
   ]
  },
  {
   "cell_type": "code",
   "execution_count": 67,
   "metadata": {},
   "outputs": [],
   "source": [
    "sess.close()"
   ]
  },
  {
   "cell_type": "markdown",
   "metadata": {
    "colab_type": "text",
    "id": "YJRBuqXhOB7_"
   },
   "source": [
    "### Linear Classification using Keras"
   ]
  },
  {
   "cell_type": "markdown",
   "metadata": {
    "colab_type": "text",
    "id": "8GoNTWXAOB8C",
    "slideshow": {
     "slide_type": "slide"
    }
   },
   "source": [
    "### Building the simple Neural Network in Keras with one neuron in the dense hidden layer.\n",
    "#### Use Mean square error as loss function and sgd as optimizer"
   ]
  },
  {
   "cell_type": "code",
   "execution_count": 71,
   "metadata": {
    "colab": {},
    "colab_type": "code",
    "id": "zpeL5rCTOB8D"
   },
   "outputs": [],
   "source": [
    "#Initialize Sequential Graph (model)\n",
    "model = tf.keras.models.Sequential()\n",
    "\n",
    "#Normalize input data\n",
    "model.add(tf.keras.layers.BatchNormalization(input_shape=(4,)))\n",
    "\n",
    "#Add Dense layer for prediction - Keras declares weights and bias automatically\n",
    "model.add(tf.keras.layers.Dense(1,activation='softmax'))\n",
    "\n",
    "#Compile the model - add Loss and Gradient Descent optimizer\n",
    "model.compile(optimizer='sgd', loss='mse')"
   ]
  },
  {
   "cell_type": "markdown",
   "metadata": {
    "colab_type": "text",
    "id": "Wt-HYFMEOB8G",
    "slideshow": {
     "slide_type": "slide"
    }
   },
   "source": [
    "### Execute the model"
   ]
  },
  {
   "cell_type": "code",
   "execution_count": 84,
   "metadata": {
    "colab": {},
    "colab_type": "code",
    "id": "66JGJt7GOB8H"
   },
   "outputs": [
    {
     "name": "stdout",
     "output_type": "stream",
     "text": [
      "Epoch 1/5\n",
      "700/700 [==============================] - 0s 49us/sample - loss: 7254.0377\n",
      "Epoch 2/5\n",
      "700/700 [==============================] - 0s 41us/sample - loss: 7254.0378\n",
      "Epoch 3/5\n",
      "700/700 [==============================] - 0s 39us/sample - loss: 7254.0379\n",
      "Epoch 4/5\n",
      "700/700 [==============================] - 0s 50us/sample - loss: 7254.0376\n",
      "Epoch 5/5\n",
      "700/700 [==============================] - 0s 49us/sample - loss: 7254.0377\n"
     ]
    },
    {
     "data": {
      "text/plain": [
       "<tensorflow.python.keras.callbacks.History at 0x1724abed240>"
      ]
     },
     "execution_count": 84,
     "metadata": {},
     "output_type": "execute_result"
    }
   ],
   "source": [
    "model.fit(X_train, y_train, epochs=5)"
   ]
  },
  {
   "cell_type": "markdown",
   "metadata": {},
   "source": [
    "### Classification using Keras "
   ]
  },
  {
   "cell_type": "markdown",
   "metadata": {},
   "source": [
    "### Load the given Iris data using pandas (Iris.csv)"
   ]
  },
  {
   "cell_type": "code",
   "execution_count": 76,
   "metadata": {},
   "outputs": [],
   "source": [
    "iris = pd.read_csv('iris.csv')"
   ]
  },
  {
   "cell_type": "markdown",
   "metadata": {},
   "source": [
    "### Splitting the data into feature set and target set"
   ]
  },
  {
   "cell_type": "code",
   "execution_count": 78,
   "metadata": {},
   "outputs": [
    {
     "data": {
      "text/html": [
       "<div>\n",
       "<style scoped>\n",
       "    .dataframe tbody tr th:only-of-type {\n",
       "        vertical-align: middle;\n",
       "    }\n",
       "\n",
       "    .dataframe tbody tr th {\n",
       "        vertical-align: top;\n",
       "    }\n",
       "\n",
       "    .dataframe thead th {\n",
       "        text-align: right;\n",
       "    }\n",
       "</style>\n",
       "<table border=\"1\" class=\"dataframe\">\n",
       "  <thead>\n",
       "    <tr style=\"text-align: right;\">\n",
       "      <th></th>\n",
       "      <th>SepalLengthCm</th>\n",
       "      <th>SepalWidthCm</th>\n",
       "      <th>PetalLengthCm</th>\n",
       "      <th>PetalWidthCm</th>\n",
       "      <th>Species</th>\n",
       "    </tr>\n",
       "  </thead>\n",
       "  <tbody>\n",
       "    <tr>\n",
       "      <th>0</th>\n",
       "      <td>5.1</td>\n",
       "      <td>3.5</td>\n",
       "      <td>1.4</td>\n",
       "      <td>0.2</td>\n",
       "      <td>Iris-setosa</td>\n",
       "    </tr>\n",
       "    <tr>\n",
       "      <th>1</th>\n",
       "      <td>4.9</td>\n",
       "      <td>3.0</td>\n",
       "      <td>1.4</td>\n",
       "      <td>0.2</td>\n",
       "      <td>Iris-setosa</td>\n",
       "    </tr>\n",
       "    <tr>\n",
       "      <th>2</th>\n",
       "      <td>4.7</td>\n",
       "      <td>3.2</td>\n",
       "      <td>1.3</td>\n",
       "      <td>0.2</td>\n",
       "      <td>Iris-setosa</td>\n",
       "    </tr>\n",
       "    <tr>\n",
       "      <th>3</th>\n",
       "      <td>4.6</td>\n",
       "      <td>3.1</td>\n",
       "      <td>1.5</td>\n",
       "      <td>0.2</td>\n",
       "      <td>Iris-setosa</td>\n",
       "    </tr>\n",
       "    <tr>\n",
       "      <th>4</th>\n",
       "      <td>5.0</td>\n",
       "      <td>3.6</td>\n",
       "      <td>1.4</td>\n",
       "      <td>0.2</td>\n",
       "      <td>Iris-setosa</td>\n",
       "    </tr>\n",
       "  </tbody>\n",
       "</table>\n",
       "</div>"
      ],
      "text/plain": [
       "   SepalLengthCm  SepalWidthCm  PetalLengthCm  PetalWidthCm      Species\n",
       "0            5.1           3.5            1.4           0.2  Iris-setosa\n",
       "1            4.9           3.0            1.4           0.2  Iris-setosa\n",
       "2            4.7           3.2            1.3           0.2  Iris-setosa\n",
       "3            4.6           3.1            1.5           0.2  Iris-setosa\n",
       "4            5.0           3.6            1.4           0.2  Iris-setosa"
      ]
     },
     "execution_count": 78,
     "metadata": {},
     "output_type": "execute_result"
    }
   ],
   "source": [
    "iris.drop('Id',axis=1).head()"
   ]
  },
  {
   "cell_type": "code",
   "execution_count": 85,
   "metadata": {},
   "outputs": [],
   "source": [
    "iris_feature = iris[['SepalLengthCm','SepalWidthCm','PetalLengthCm','PetalWidthCm']]"
   ]
  },
  {
   "cell_type": "code",
   "execution_count": 80,
   "metadata": {},
   "outputs": [],
   "source": [
    "iris_target = iris['Species']"
   ]
  },
  {
   "cell_type": "markdown",
   "metadata": {},
   "source": [
    "### Target set has different categories. So, Label encode them. And convert into one-hot vectors using get_dummies in pandas."
   ]
  },
  {
   "cell_type": "code",
   "execution_count": 83,
   "metadata": {},
   "outputs": [],
   "source": [
    "iris_dum_target = pd.get_dummies(data=iris_target, columns=['Species'])"
   ]
  },
  {
   "cell_type": "markdown",
   "metadata": {},
   "source": [
    "### Divide the dataset into Training and test (70:30)"
   ]
  },
  {
   "cell_type": "code",
   "execution_count": 86,
   "metadata": {},
   "outputs": [],
   "source": [
    "X_train , X_test , y_train , y_test = train_test_split(iris_feature, iris_dum_target, test_size=0.30, random_state=42)"
   ]
  },
  {
   "cell_type": "markdown",
   "metadata": {},
   "source": [
    "### Model\n",
    "Build the model with following layers: <br>\n",
    "1. First dense layer with 10 neurons with input shape 4 (according to the feature set) <br>\n",
    "2. Second Dense layer with 8 neurons <br>\n",
    "3. Output layer with 3 neurons with softmax activation (output layer, 3 neurons as we have 3 classes) <br>\n",
    "4. Use SGD and categorical_crossentropy loss "
   ]
  },
  {
   "cell_type": "code",
   "execution_count": 119,
   "metadata": {},
   "outputs": [],
   "source": [
    "#Initialize Sequential Graph (model)\n",
    "model = tf.keras.models.Sequential()\n",
    "\n",
    "#Normalize input data\n",
    "model.add(tf.keras.layers.BatchNormalization(input_shape=(4,)))\n",
    "\n",
    "model.add(tf.keras.layers.Dense(10))\n",
    "\n",
    "model.add(tf.keras.layers.Dense(8))\n",
    "\n",
    "#Add Dense layer for prediction - Keras declares weights and bias automatically\n",
    "model.add(tf.keras.layers.Dense(3,activation='softmax'))\n",
    "\n",
    "#Compile the model - add Loss and Gradient Descent optimizer\n",
    "model.compile(optimizer='sgd', loss='categorical_crossentropy', metrics=['acc'])"
   ]
  },
  {
   "cell_type": "markdown",
   "metadata": {},
   "source": [
    "### Fitting the model and predicting "
   ]
  },
  {
   "cell_type": "code",
   "execution_count": 122,
   "metadata": {},
   "outputs": [
    {
     "name": "stdout",
     "output_type": "stream",
     "text": [
      "Epoch 1/100\n",
      "105/105 [==============================] - 0s 105us/sample - loss: 0.3336 - acc: 0.9048\n",
      "Epoch 2/100\n",
      "105/105 [==============================] - 0s 95us/sample - loss: 0.3234 - acc: 0.9143\n",
      "Epoch 3/100\n",
      "105/105 [==============================] - 0s 67us/sample - loss: 0.3224 - acc: 0.8667\n",
      "Epoch 4/100\n",
      "105/105 [==============================] - 0s 76us/sample - loss: 0.3476 - acc: 0.8952\n",
      "Epoch 5/100\n",
      "105/105 [==============================] - 0s 105us/sample - loss: 0.3713 - acc: 0.8476\n",
      "Epoch 6/100\n",
      "105/105 [==============================] - 0s 76us/sample - loss: 0.3044 - acc: 0.8857\n",
      "Epoch 7/100\n",
      "105/105 [==============================] - 0s 124us/sample - loss: 0.3111 - acc: 0.8857\n",
      "Epoch 8/100\n",
      "105/105 [==============================] - 0s 76us/sample - loss: 0.2912 - acc: 0.9333\n",
      "Epoch 9/100\n",
      "105/105 [==============================] - 0s 105us/sample - loss: 0.3134 - acc: 0.8667\n",
      "Epoch 10/100\n",
      "105/105 [==============================] - 0s 124us/sample - loss: 0.3133 - acc: 0.9143\n",
      "Epoch 11/100\n",
      "105/105 [==============================] - 0s 95us/sample - loss: 0.3037 - acc: 0.8952\n",
      "Epoch 12/100\n",
      "105/105 [==============================] - 0s 115us/sample - loss: 0.3059 - acc: 0.8952\n",
      "Epoch 13/100\n",
      "105/105 [==============================] - 0s 105us/sample - loss: 0.3759 - acc: 0.8667\n",
      "Epoch 14/100\n",
      "105/105 [==============================] - 0s 95us/sample - loss: 0.2948 - acc: 0.9048\n",
      "Epoch 15/100\n",
      "105/105 [==============================] - 0s 95us/sample - loss: 0.2882 - acc: 0.9143\n",
      "Epoch 16/100\n",
      "105/105 [==============================] - 0s 86us/sample - loss: 0.2896 - acc: 0.9238\n",
      "Epoch 17/100\n",
      "105/105 [==============================] - 0s 105us/sample - loss: 0.3009 - acc: 0.8857\n",
      "Epoch 18/100\n",
      "105/105 [==============================] - 0s 86us/sample - loss: 0.3001 - acc: 0.9048\n",
      "Epoch 19/100\n",
      "105/105 [==============================] - 0s 114us/sample - loss: 0.3777 - acc: 0.8476\n",
      "Epoch 20/100\n",
      "105/105 [==============================] - 0s 76us/sample - loss: 0.2994 - acc: 0.9143\n",
      "Epoch 21/100\n",
      "105/105 [==============================] - 0s 95us/sample - loss: 0.3309 - acc: 0.8762\n",
      "Epoch 22/100\n",
      "105/105 [==============================] - 0s 86us/sample - loss: 0.3387 - acc: 0.8667\n",
      "Epoch 23/100\n",
      "105/105 [==============================] - 0s 143us/sample - loss: 0.3316 - acc: 0.9238\n",
      "Epoch 24/100\n",
      "105/105 [==============================] - 0s 95us/sample - loss: 0.2674 - acc: 0.9333\n",
      "Epoch 25/100\n",
      "105/105 [==============================] - 0s 86us/sample - loss: 0.2783 - acc: 0.9048\n",
      "Epoch 26/100\n",
      "105/105 [==============================] - 0s 124us/sample - loss: 0.2795 - acc: 0.9333\n",
      "Epoch 27/100\n",
      "105/105 [==============================] - 0s 95us/sample - loss: 0.3431 - acc: 0.8476\n",
      "Epoch 28/100\n",
      "105/105 [==============================] - 0s 95us/sample - loss: 0.2847 - acc: 0.8857\n",
      "Epoch 29/100\n",
      "105/105 [==============================] - 0s 76us/sample - loss: 0.2840 - acc: 0.9238\n",
      "Epoch 30/100\n",
      "105/105 [==============================] - 0s 86us/sample - loss: 0.3241 - acc: 0.8952\n",
      "Epoch 31/100\n",
      "105/105 [==============================] - 0s 86us/sample - loss: 0.2750 - acc: 0.9048\n",
      "Epoch 32/100\n",
      "105/105 [==============================] - 0s 86us/sample - loss: 0.3039 - acc: 0.8667\n",
      "Epoch 33/100\n",
      "105/105 [==============================] - ETA: 0s - loss: 0.2371 - acc: 0.937 - 0s 86us/sample - loss: 0.2491 - acc: 0.9429\n",
      "Epoch 34/100\n",
      "105/105 [==============================] - 0s 95us/sample - loss: 0.2714 - acc: 0.8952\n",
      "Epoch 35/100\n",
      "105/105 [==============================] - 0s 95us/sample - loss: 0.2391 - acc: 0.9429\n",
      "Epoch 36/100\n",
      "105/105 [==============================] - 0s 86us/sample - loss: 0.2882 - acc: 0.8667\n",
      "Epoch 37/100\n",
      "105/105 [==============================] - 0s 114us/sample - loss: 0.2852 - acc: 0.8952\n",
      "Epoch 38/100\n",
      "105/105 [==============================] - 0s 86us/sample - loss: 0.2434 - acc: 0.9143\n",
      "Epoch 39/100\n",
      "105/105 [==============================] - 0s 114us/sample - loss: 0.2999 - acc: 0.8762\n",
      "Epoch 40/100\n",
      "105/105 [==============================] - 0s 76us/sample - loss: 0.2611 - acc: 0.9238\n",
      "Epoch 41/100\n",
      "105/105 [==============================] - 0s 76us/sample - loss: 0.2598 - acc: 0.8857\n",
      "Epoch 42/100\n",
      "105/105 [==============================] - 0s 86us/sample - loss: 0.2680 - acc: 0.9048\n",
      "Epoch 43/100\n",
      "105/105 [==============================] - 0s 76us/sample - loss: 0.2847 - acc: 0.9238\n",
      "Epoch 44/100\n",
      "105/105 [==============================] - 0s 133us/sample - loss: 0.2549 - acc: 0.9143\n",
      "Epoch 45/100\n",
      "105/105 [==============================] - 0s 67us/sample - loss: 0.2320 - acc: 0.9143\n",
      "Epoch 46/100\n",
      "105/105 [==============================] - 0s 134us/sample - loss: 0.2623 - acc: 0.9048\n",
      "Epoch 47/100\n",
      "105/105 [==============================] - 0s 76us/sample - loss: 0.2943 - acc: 0.8667\n",
      "Epoch 48/100\n",
      "105/105 [==============================] - 0s 76us/sample - loss: 0.2421 - acc: 0.9333\n",
      "Epoch 49/100\n",
      "105/105 [==============================] - 0s 124us/sample - loss: 0.2489 - acc: 0.9143\n",
      "Epoch 50/100\n",
      "105/105 [==============================] - 0s 86us/sample - loss: 0.2368 - acc: 0.9333\n",
      "Epoch 51/100\n",
      "105/105 [==============================] - 0s 124us/sample - loss: 0.2382 - acc: 0.9143\n",
      "Epoch 52/100\n",
      "105/105 [==============================] - 0s 95us/sample - loss: 0.2460 - acc: 0.8952\n",
      "Epoch 53/100\n",
      "105/105 [==============================] - 0s 86us/sample - loss: 0.2303 - acc: 0.9238\n",
      "Epoch 54/100\n",
      "105/105 [==============================] - 0s 76us/sample - loss: 0.2243 - acc: 0.9143\n",
      "Epoch 55/100\n",
      "105/105 [==============================] - 0s 76us/sample - loss: 0.2373 - acc: 0.9143\n",
      "Epoch 56/100\n",
      "105/105 [==============================] - 0s 76us/sample - loss: 0.2507 - acc: 0.9333\n",
      "Epoch 57/100\n",
      "105/105 [==============================] - 0s 86us/sample - loss: 0.2237 - acc: 0.9143\n",
      "Epoch 58/100\n",
      "105/105 [==============================] - 0s 133us/sample - loss: 0.2309 - acc: 0.9238\n",
      "Epoch 59/100\n",
      "105/105 [==============================] - 0s 86us/sample - loss: 0.2416 - acc: 0.9048\n",
      "Epoch 60/100\n",
      "105/105 [==============================] - 0s 76us/sample - loss: 0.2246 - acc: 0.9333\n",
      "Epoch 61/100\n",
      "105/105 [==============================] - 0s 95us/sample - loss: 0.2484 - acc: 0.8952\n",
      "Epoch 62/100\n",
      "105/105 [==============================] - 0s 76us/sample - loss: 0.2927 - acc: 0.8952\n",
      "Epoch 63/100\n",
      "105/105 [==============================] - 0s 76us/sample - loss: 0.2281 - acc: 0.9238\n",
      "Epoch 64/100\n",
      "105/105 [==============================] - 0s 162us/sample - loss: 0.2574 - acc: 0.8952\n",
      "Epoch 65/100\n",
      "105/105 [==============================] - 0s 76us/sample - loss: 0.2145 - acc: 0.9238\n",
      "Epoch 66/100\n",
      "105/105 [==============================] - 0s 86us/sample - loss: 0.2110 - acc: 0.9238\n",
      "Epoch 67/100\n",
      "105/105 [==============================] - 0s 114us/sample - loss: 0.2125 - acc: 0.9238\n",
      "Epoch 68/100\n",
      "105/105 [==============================] - 0s 86us/sample - loss: 0.2260 - acc: 0.9238\n",
      "Epoch 69/100\n",
      "105/105 [==============================] - 0s 124us/sample - loss: 0.2477 - acc: 0.8952\n",
      "Epoch 70/100\n",
      "105/105 [==============================] - 0s 105us/sample - loss: 0.2328 - acc: 0.9048\n",
      "Epoch 71/100\n",
      "105/105 [==============================] - 0s 86us/sample - loss: 0.3207 - acc: 0.8286\n",
      "Epoch 72/100\n",
      "105/105 [==============================] - 0s 124us/sample - loss: 0.2367 - acc: 0.9048\n",
      "Epoch 73/100\n",
      "105/105 [==============================] - 0s 105us/sample - loss: 0.2215 - acc: 0.9048\n",
      "Epoch 74/100\n",
      "105/105 [==============================] - 0s 86us/sample - loss: 0.2354 - acc: 0.9143\n",
      "Epoch 75/100\n",
      "105/105 [==============================] - 0s 124us/sample - loss: 0.2104 - acc: 0.9143\n",
      "Epoch 76/100\n",
      "105/105 [==============================] - 0s 95us/sample - loss: 0.1981 - acc: 0.9524\n",
      "Epoch 77/100\n",
      "105/105 [==============================] - 0s 95us/sample - loss: 0.2252 - acc: 0.9238\n",
      "Epoch 78/100\n",
      "105/105 [==============================] - 0s 76us/sample - loss: 0.2059 - acc: 0.9238\n",
      "Epoch 79/100\n",
      "105/105 [==============================] - 0s 124us/sample - loss: 0.2464 - acc: 0.9048\n",
      "Epoch 80/100\n",
      "105/105 [==============================] - 0s 86us/sample - loss: 0.2008 - acc: 0.9429\n",
      "Epoch 81/100\n",
      "105/105 [==============================] - 0s 95us/sample - loss: 0.2165 - acc: 0.9429\n",
      "Epoch 82/100\n",
      "105/105 [==============================] - 0s 76us/sample - loss: 0.2152 - acc: 0.9429\n",
      "Epoch 83/100\n",
      "105/105 [==============================] - 0s 76us/sample - loss: 0.2151 - acc: 0.9238\n",
      "Epoch 84/100\n",
      "105/105 [==============================] - 0s 114us/sample - loss: 0.2072 - acc: 0.9333\n",
      "Epoch 85/100\n",
      "105/105 [==============================] - 0s 76us/sample - loss: 0.2434 - acc: 0.8857\n",
      "Epoch 86/100\n",
      "105/105 [==============================] - 0s 76us/sample - loss: 0.2008 - acc: 0.9333\n",
      "Epoch 87/100\n",
      "105/105 [==============================] - 0s 124us/sample - loss: 0.2210 - acc: 0.9333\n",
      "Epoch 88/100\n",
      "105/105 [==============================] - 0s 133us/sample - loss: 0.2746 - acc: 0.8571\n",
      "Epoch 89/100\n",
      "105/105 [==============================] - 0s 124us/sample - loss: 0.2896 - acc: 0.9048\n",
      "Epoch 90/100\n",
      "105/105 [==============================] - 0s 124us/sample - loss: 0.1957 - acc: 0.9333\n",
      "Epoch 91/100\n",
      "105/105 [==============================] - 0s 114us/sample - loss: 0.2747 - acc: 0.8762\n",
      "Epoch 92/100\n",
      "105/105 [==============================] - 0s 96us/sample - loss: 0.2099 - acc: 0.9333\n",
      "Epoch 93/100\n",
      "105/105 [==============================] - 0s 95us/sample - loss: 0.2311 - acc: 0.9048\n",
      "Epoch 94/100\n",
      "105/105 [==============================] - 0s 95us/sample - loss: 0.1944 - acc: 0.9333\n",
      "Epoch 95/100\n",
      "105/105 [==============================] - 0s 86us/sample - loss: 0.2095 - acc: 0.9238\n",
      "Epoch 96/100\n",
      "105/105 [==============================] - 0s 95us/sample - loss: 0.2230 - acc: 0.9048\n",
      "Epoch 97/100\n",
      "105/105 [==============================] - 0s 86us/sample - loss: 0.2114 - acc: 0.9143\n",
      "Epoch 98/100\n",
      "105/105 [==============================] - 0s 133us/sample - loss: 0.1979 - acc: 0.9429\n",
      "Epoch 99/100\n",
      "105/105 [==============================] - 0s 95us/sample - loss: 0.2386 - acc: 0.9238\n",
      "Epoch 100/100\n",
      "105/105 [==============================] - 0s 86us/sample - loss: 0.2248 - acc: 0.9048\n"
     ]
    },
    {
     "data": {
      "text/plain": [
       "<tensorflow.python.keras.callbacks.History at 0x172499c1a58>"
      ]
     },
     "execution_count": 122,
     "metadata": {},
     "output_type": "execute_result"
    }
   ],
   "source": [
    "model.fit(X_train, y_train, epochs=100)"
   ]
  },
  {
   "cell_type": "code",
   "execution_count": 123,
   "metadata": {},
   "outputs": [
    {
     "name": "stdout",
     "output_type": "stream",
     "text": [
      "45/45 [==============================] - 0s 111us/sample - loss: 0.1444 - acc: 0.9556\n"
     ]
    },
    {
     "data": {
      "text/plain": [
       "[0.1444320301214854, 0.95555556]"
      ]
     },
     "execution_count": 123,
     "metadata": {},
     "output_type": "execute_result"
    }
   ],
   "source": [
    "model.evaluate(X_test, y_test)"
   ]
  },
  {
   "cell_type": "code",
   "execution_count": 124,
   "metadata": {},
   "outputs": [],
   "source": [
    "y_pred = model.predict(X_test)"
   ]
  },
  {
   "cell_type": "code",
   "execution_count": 125,
   "metadata": {},
   "outputs": [
    {
     "data": {
      "text/plain": [
       "array([1, 0, 2, 1, 1, 0, 1, 2, 1, 1, 2, 0, 0, 0, 0, 2, 2, 1, 1, 2, 0, 2,\n",
       "       0, 2, 2, 2, 2, 2, 0, 0, 0, 0, 1, 0, 0, 2, 1, 0, 0, 0, 2, 2, 1, 0,\n",
       "       0], dtype=int64)"
      ]
     },
     "execution_count": 125,
     "metadata": {},
     "output_type": "execute_result"
    }
   ],
   "source": [
    "import numpy as np\n",
    "y_p = np.argmax(y_pred,axis=1)\n",
    "y_p"
   ]
  },
  {
   "cell_type": "code",
   "execution_count": 126,
   "metadata": {},
   "outputs": [
    {
     "data": {
      "text/plain": [
       "array([1, 0, 2, 1, 1, 0, 1, 2, 1, 1, 2, 0, 0, 0, 0, 1, 2, 1, 1, 2, 0, 2,\n",
       "       0, 2, 2, 2, 2, 2, 0, 0, 0, 0, 1, 0, 0, 2, 1, 0, 0, 0, 2, 1, 1, 0,\n",
       "       0], dtype=int64)"
      ]
     },
     "execution_count": 126,
     "metadata": {},
     "output_type": "execute_result"
    }
   ],
   "source": [
    "import numpy as np\n",
    "y_test.values\n",
    "y_t = np.argmax(y_test.values,axis=1)\n",
    "y_t"
   ]
  },
  {
   "cell_type": "markdown",
   "metadata": {},
   "source": [
    "### Report Accuracy of the predicted values"
   ]
  },
  {
   "cell_type": "code",
   "execution_count": 127,
   "metadata": {},
   "outputs": [
    {
     "name": "stdout",
     "output_type": "stream",
     "text": [
      "45/45 [==============================] - 0s 89us/sample - loss: 0.1444 - acc: 0.9556\n",
      "Accuracy:  0.95555556\n"
     ]
    }
   ],
   "source": [
    "scores = model.evaluate(X_test, y_test)\n",
    "print(\"Accuracy: \", scores[1])"
   ]
  },
  {
   "cell_type": "code",
   "execution_count": null,
   "metadata": {},
   "outputs": [],
   "source": []
  }
 ],
 "metadata": {
  "colab": {
   "name": "Linear+classification+using+Tensorflow+and+Keras.ipynb",
   "provenance": [],
   "version": "0.3.2"
  },
  "kernelspec": {
   "display_name": "Python 3",
   "language": "python",
   "name": "python3"
  },
  "language_info": {
   "codemirror_mode": {
    "name": "ipython",
    "version": 3
   },
   "file_extension": ".py",
   "mimetype": "text/x-python",
   "name": "python",
   "nbconvert_exporter": "python",
   "pygments_lexer": "ipython3",
   "version": "3.7.2"
  }
 },
 "nbformat": 4,
 "nbformat_minor": 1
}
