{
 "cells": [
  {
   "cell_type": "markdown",
   "metadata": {},
   "source": [
    "## Lab Brief - Statistical Learning with Python"
   ]
  },
  {
   "cell_type": "markdown",
   "metadata": {},
   "source": [
    "### Part-1"
   ]
  },
  {
   "cell_type": "markdown",
   "metadata": {},
   "source": [
    "## Measures of Data"
   ]
  },
  {
   "cell_type": "markdown",
   "metadata": {},
   "source": [
    "Descriptive Statistcs are measures that summarize important features of data. Producing these descriptive statistics is a common first step to take after cleaning and preparing a dataset for further analysis. Examples are like calculating Mean or Median. In this lab, we will be looking into some of these functions and explore several new ones."
   ]
  },
  {
   "cell_type": "markdown",
   "metadata": {},
   "source": [
    "#### Measures of Central Tendency"
   ]
  },
  {
   "cell_type": "markdown",
   "metadata": {},
   "source": [
    "Whenever you measure things of the same kind, a fairly large number of such measurements will tend to cluster around the middle value. Such a value is called a measure of \"Central Tendency\". The other terms that are used synonymously are \"Measures of Location\", or \"Statistical Averages\". "
   ]
  },
  {
   "cell_type": "code",
   "execution_count": 2,
   "metadata": {},
   "outputs": [],
   "source": [
    "import numpy as np\n",
    "import pandas as pd\n",
    "import scipy.stats as stats\n",
    "import matplotlib.pyplot as plt\n",
    "import seaborn as sns\n",
    "sns.set(color_codes=True)\n",
    "%matplotlib inline\n",
    "\n",
    "mtcars = pd.read_csv('mtcars.csv')"
   ]
  },
  {
   "cell_type": "markdown",
   "metadata": {},
   "source": [
    "##### Using the mtcars dataset.\n",
    "\n",
    "For the below set of questions, we will be using the cars data from [Motor Trend Car Road Tests](http://stat.ethz.ch/R-manual/R-devel/library/datasets/html/mtcars.html)\n",
    "\n",
    "The data was extracted from the 1974 Motor Trend US magazine, and comprises fuel consumption and 10 aspects of automobile design and performance for 32 automobiles (1973–74 models). \n",
    "\n",
    "\n",
    "Details :\n",
    "    \n",
    "A data frame with 32 observations on 11 (numeric) variables.\n",
    "\n",
    "[, 1] \tmpg \tMiles/(US) gallon\n",
    "\n",
    "[, 2] \tcyl \tNumber of cylinders\n",
    "\n",
    "[, 3] \tdisp \tDisplacement (cu.in.)\n",
    "\n",
    "[, 4] \thp \tGross horsepower\n",
    "\n",
    "[, 5] \tdrat \tRear axle ratio\n",
    "\n",
    "[, 6] \twt \tWeight (1000 lbs)\n",
    "\n",
    "[, 7] \tqsec \t1/4 mile time\n",
    "\n",
    "[, 8] \tvs \tEngine (0 = V-shaped, 1 = straight)\n",
    "\n",
    "[, 9] \tam \tTransmission (0 = automatic, 1 = manual)\n",
    "\n",
    "[,10] \tgear \tNumber of forward gears\n",
    "\n",
    "[,11] \tcarb \tNumber of carburetors "
   ]
  },
  {
   "cell_type": "markdown",
   "metadata": {},
   "source": [
    "#### Explore the data - Setting the index"
   ]
  },
  {
   "cell_type": "code",
   "execution_count": 3,
   "metadata": {},
   "outputs": [
    {
     "data": {
      "text/html": [
       "<div>\n",
       "<style scoped>\n",
       "    .dataframe tbody tr th:only-of-type {\n",
       "        vertical-align: middle;\n",
       "    }\n",
       "\n",
       "    .dataframe tbody tr th {\n",
       "        vertical-align: top;\n",
       "    }\n",
       "\n",
       "    .dataframe thead th {\n",
       "        text-align: right;\n",
       "    }\n",
       "</style>\n",
       "<table border=\"1\" class=\"dataframe\">\n",
       "  <thead>\n",
       "    <tr style=\"text-align: right;\">\n",
       "      <th></th>\n",
       "      <th>name</th>\n",
       "      <th>mpg</th>\n",
       "      <th>cyl</th>\n",
       "      <th>disp</th>\n",
       "      <th>hp</th>\n",
       "      <th>drat</th>\n",
       "      <th>wt</th>\n",
       "      <th>qsec</th>\n",
       "      <th>vs</th>\n",
       "      <th>am</th>\n",
       "      <th>gear</th>\n",
       "      <th>carb</th>\n",
       "    </tr>\n",
       "    <tr>\n",
       "      <th>name</th>\n",
       "      <th></th>\n",
       "      <th></th>\n",
       "      <th></th>\n",
       "      <th></th>\n",
       "      <th></th>\n",
       "      <th></th>\n",
       "      <th></th>\n",
       "      <th></th>\n",
       "      <th></th>\n",
       "      <th></th>\n",
       "      <th></th>\n",
       "      <th></th>\n",
       "    </tr>\n",
       "  </thead>\n",
       "  <tbody>\n",
       "    <tr>\n",
       "      <th>Mazda RX4</th>\n",
       "      <td>Mazda RX4</td>\n",
       "      <td>21.0</td>\n",
       "      <td>6</td>\n",
       "      <td>160.0</td>\n",
       "      <td>110</td>\n",
       "      <td>3.90</td>\n",
       "      <td>2.620</td>\n",
       "      <td>16.46</td>\n",
       "      <td>0</td>\n",
       "      <td>1</td>\n",
       "      <td>4</td>\n",
       "      <td>4</td>\n",
       "    </tr>\n",
       "    <tr>\n",
       "      <th>Mazda RX4 Wag</th>\n",
       "      <td>Mazda RX4 Wag</td>\n",
       "      <td>21.0</td>\n",
       "      <td>6</td>\n",
       "      <td>160.0</td>\n",
       "      <td>110</td>\n",
       "      <td>3.90</td>\n",
       "      <td>2.875</td>\n",
       "      <td>17.02</td>\n",
       "      <td>0</td>\n",
       "      <td>1</td>\n",
       "      <td>4</td>\n",
       "      <td>4</td>\n",
       "    </tr>\n",
       "    <tr>\n",
       "      <th>Datsun 710</th>\n",
       "      <td>Datsun 710</td>\n",
       "      <td>22.8</td>\n",
       "      <td>4</td>\n",
       "      <td>108.0</td>\n",
       "      <td>93</td>\n",
       "      <td>3.85</td>\n",
       "      <td>2.320</td>\n",
       "      <td>18.61</td>\n",
       "      <td>1</td>\n",
       "      <td>1</td>\n",
       "      <td>4</td>\n",
       "      <td>1</td>\n",
       "    </tr>\n",
       "    <tr>\n",
       "      <th>Hornet 4 Drive</th>\n",
       "      <td>Hornet 4 Drive</td>\n",
       "      <td>21.4</td>\n",
       "      <td>6</td>\n",
       "      <td>258.0</td>\n",
       "      <td>110</td>\n",
       "      <td>3.08</td>\n",
       "      <td>3.215</td>\n",
       "      <td>19.44</td>\n",
       "      <td>1</td>\n",
       "      <td>0</td>\n",
       "      <td>3</td>\n",
       "      <td>1</td>\n",
       "    </tr>\n",
       "    <tr>\n",
       "      <th>Hornet Sportabout</th>\n",
       "      <td>Hornet Sportabout</td>\n",
       "      <td>18.7</td>\n",
       "      <td>8</td>\n",
       "      <td>360.0</td>\n",
       "      <td>175</td>\n",
       "      <td>3.15</td>\n",
       "      <td>3.440</td>\n",
       "      <td>17.02</td>\n",
       "      <td>0</td>\n",
       "      <td>0</td>\n",
       "      <td>3</td>\n",
       "      <td>2</td>\n",
       "    </tr>\n",
       "  </tbody>\n",
       "</table>\n",
       "</div>"
      ],
      "text/plain": [
       "                                name   mpg  cyl   disp   hp  drat     wt  \\\n",
       "name                                                                       \n",
       "Mazda RX4                  Mazda RX4  21.0    6  160.0  110  3.90  2.620   \n",
       "Mazda RX4 Wag          Mazda RX4 Wag  21.0    6  160.0  110  3.90  2.875   \n",
       "Datsun 710                Datsun 710  22.8    4  108.0   93  3.85  2.320   \n",
       "Hornet 4 Drive        Hornet 4 Drive  21.4    6  258.0  110  3.08  3.215   \n",
       "Hornet Sportabout  Hornet Sportabout  18.7    8  360.0  175  3.15  3.440   \n",
       "\n",
       "                    qsec  vs  am  gear  carb  \n",
       "name                                          \n",
       "Mazda RX4          16.46   0   1     4     4  \n",
       "Mazda RX4 Wag      17.02   0   1     4     4  \n",
       "Datsun 710         18.61   1   1     4     1  \n",
       "Hornet 4 Drive     19.44   1   0     3     1  \n",
       "Hornet Sportabout  17.02   0   0     3     2  "
      ]
     },
     "execution_count": 3,
     "metadata": {},
     "output_type": "execute_result"
    }
   ],
   "source": [
    "mtcars.index = mtcars[\"name\"]\n",
    "mtcars.head()\n",
    "# mtcars.mean() #By default this will give the mean of each column"
   ]
  },
  {
   "cell_type": "markdown",
   "metadata": {},
   "source": [
    "### Question 1\n",
    "\n",
    "What is the first car name given in mtcars?\n",
    "\n",
    "** Make use of index which has been set previously **\n",
    "\n",
    "**Hint**: Use .loc function\n"
   ]
  },
  {
   "cell_type": "code",
   "execution_count": 4,
   "metadata": {
    "scrolled": true
   },
   "outputs": [
    {
     "data": {
      "text/plain": [
       "name    Mazda RX4\n",
       "mpg            21\n",
       "cyl             6\n",
       "disp          160\n",
       "hp            110\n",
       "drat          3.9\n",
       "wt           2.62\n",
       "qsec        16.46\n",
       "vs              0\n",
       "am              1\n",
       "gear            4\n",
       "carb            4\n",
       "Name: Mazda RX4, dtype: object"
      ]
     },
     "execution_count": 4,
     "metadata": {},
     "output_type": "execute_result"
    }
   ],
   "source": [
    "mtcars.iloc[0]"
   ]
  },
  {
   "cell_type": "markdown",
   "metadata": {},
   "source": [
    "### Question 2\n",
    "What is the highest difference between the hp and cyl?\n",
    "\n",
    "**Hint:** You can use **max()** function to find the difference"
   ]
  },
  {
   "cell_type": "code",
   "execution_count": 5,
   "metadata": {},
   "outputs": [
    {
     "data": {
      "text/plain": [
       "327"
      ]
     },
     "execution_count": 5,
     "metadata": {},
     "output_type": "execute_result"
    }
   ],
   "source": [
    "diff = mtcars['hp'].max() - mtcars['cyl'].max()\n",
    "diff"
   ]
  },
  {
   "cell_type": "markdown",
   "metadata": {},
   "source": [
    "### Question 3\n",
    "What are the cars having highest weight(wt) and lowest weight(wt)?\n",
    "\n",
    "**Hint:** Use idxmax() and idxmin() to locate the row\n",
    "\n",
    "Use **.iloc** function to print the  row\n",
    "\n",
    "**Note:** Both idxmax and idxmin belong to pandas"
   ]
  },
  {
   "cell_type": "code",
   "execution_count": 6,
   "metadata": {},
   "outputs": [
    {
     "data": {
      "text/html": [
       "<div>\n",
       "<style scoped>\n",
       "    .dataframe tbody tr th:only-of-type {\n",
       "        vertical-align: middle;\n",
       "    }\n",
       "\n",
       "    .dataframe tbody tr th {\n",
       "        vertical-align: top;\n",
       "    }\n",
       "\n",
       "    .dataframe thead th {\n",
       "        text-align: right;\n",
       "    }\n",
       "</style>\n",
       "<table border=\"1\" class=\"dataframe\">\n",
       "  <thead>\n",
       "    <tr style=\"text-align: right;\">\n",
       "      <th></th>\n",
       "      <th>name</th>\n",
       "      <th>mpg</th>\n",
       "      <th>cyl</th>\n",
       "      <th>disp</th>\n",
       "      <th>hp</th>\n",
       "      <th>drat</th>\n",
       "      <th>wt</th>\n",
       "      <th>qsec</th>\n",
       "      <th>vs</th>\n",
       "      <th>am</th>\n",
       "      <th>gear</th>\n",
       "      <th>carb</th>\n",
       "    </tr>\n",
       "    <tr>\n",
       "      <th>name</th>\n",
       "      <th></th>\n",
       "      <th></th>\n",
       "      <th></th>\n",
       "      <th></th>\n",
       "      <th></th>\n",
       "      <th></th>\n",
       "      <th></th>\n",
       "      <th></th>\n",
       "      <th></th>\n",
       "      <th></th>\n",
       "      <th></th>\n",
       "      <th></th>\n",
       "    </tr>\n",
       "  </thead>\n",
       "  <tbody>\n",
       "    <tr>\n",
       "      <th>Lincoln Continental</th>\n",
       "      <td>Lincoln Continental</td>\n",
       "      <td>10.4</td>\n",
       "      <td>8</td>\n",
       "      <td>460.0</td>\n",
       "      <td>215</td>\n",
       "      <td>3.0</td>\n",
       "      <td>5.424</td>\n",
       "      <td>17.82</td>\n",
       "      <td>0</td>\n",
       "      <td>0</td>\n",
       "      <td>3</td>\n",
       "      <td>4</td>\n",
       "    </tr>\n",
       "  </tbody>\n",
       "</table>\n",
       "</div>"
      ],
      "text/plain": [
       "                                    name   mpg  cyl   disp   hp  drat     wt  \\\n",
       "name                                                                           \n",
       "Lincoln Continental  Lincoln Continental  10.4    8  460.0  215   3.0  5.424   \n",
       "\n",
       "                      qsec  vs  am  gear  carb  \n",
       "name                                            \n",
       "Lincoln Continental  17.82   0   0     3     4  "
      ]
     },
     "execution_count": 6,
     "metadata": {},
     "output_type": "execute_result"
    }
   ],
   "source": [
    "mtcars[mtcars['wt']==mtcars['wt'].max()] # this code returns entire row with Max value of 'wt'"
   ]
  },
  {
   "cell_type": "code",
   "execution_count": 8,
   "metadata": {},
   "outputs": [
    {
     "data": {
      "text/plain": [
       "name    Lincoln Continental\n",
       "mpg                    10.4\n",
       "cyl                       8\n",
       "disp                    460\n",
       "hp                      215\n",
       "drat                      3\n",
       "wt                    5.424\n",
       "qsec                  17.82\n",
       "vs                        0\n",
       "am                        0\n",
       "gear                      3\n",
       "carb                      4\n",
       "Name: Lincoln Continental, dtype: object"
      ]
     },
     "execution_count": 8,
     "metadata": {},
     "output_type": "execute_result"
    }
   ],
   "source": [
    "mtcars.loc[mtcars['wt'].idxmax()] "
   ]
  },
  {
   "cell_type": "code",
   "execution_count": 7,
   "metadata": {},
   "outputs": [
    {
     "data": {
      "text/html": [
       "<div>\n",
       "<style scoped>\n",
       "    .dataframe tbody tr th:only-of-type {\n",
       "        vertical-align: middle;\n",
       "    }\n",
       "\n",
       "    .dataframe tbody tr th {\n",
       "        vertical-align: top;\n",
       "    }\n",
       "\n",
       "    .dataframe thead th {\n",
       "        text-align: right;\n",
       "    }\n",
       "</style>\n",
       "<table border=\"1\" class=\"dataframe\">\n",
       "  <thead>\n",
       "    <tr style=\"text-align: right;\">\n",
       "      <th></th>\n",
       "      <th>name</th>\n",
       "      <th>mpg</th>\n",
       "      <th>cyl</th>\n",
       "      <th>disp</th>\n",
       "      <th>hp</th>\n",
       "      <th>drat</th>\n",
       "      <th>wt</th>\n",
       "      <th>qsec</th>\n",
       "      <th>vs</th>\n",
       "      <th>am</th>\n",
       "      <th>gear</th>\n",
       "      <th>carb</th>\n",
       "    </tr>\n",
       "    <tr>\n",
       "      <th>name</th>\n",
       "      <th></th>\n",
       "      <th></th>\n",
       "      <th></th>\n",
       "      <th></th>\n",
       "      <th></th>\n",
       "      <th></th>\n",
       "      <th></th>\n",
       "      <th></th>\n",
       "      <th></th>\n",
       "      <th></th>\n",
       "      <th></th>\n",
       "      <th></th>\n",
       "    </tr>\n",
       "  </thead>\n",
       "  <tbody>\n",
       "    <tr>\n",
       "      <th>Lotus Europa</th>\n",
       "      <td>Lotus Europa</td>\n",
       "      <td>30.4</td>\n",
       "      <td>4</td>\n",
       "      <td>95.1</td>\n",
       "      <td>113</td>\n",
       "      <td>3.77</td>\n",
       "      <td>1.513</td>\n",
       "      <td>16.9</td>\n",
       "      <td>1</td>\n",
       "      <td>1</td>\n",
       "      <td>5</td>\n",
       "      <td>2</td>\n",
       "    </tr>\n",
       "  </tbody>\n",
       "</table>\n",
       "</div>"
      ],
      "text/plain": [
       "                      name   mpg  cyl  disp   hp  drat     wt  qsec  vs  am  \\\n",
       "name                                                                          \n",
       "Lotus Europa  Lotus Europa  30.4    4  95.1  113  3.77  1.513  16.9   1   1   \n",
       "\n",
       "              gear  carb  \n",
       "name                      \n",
       "Lotus Europa     5     2  "
      ]
     },
     "execution_count": 7,
     "metadata": {},
     "output_type": "execute_result"
    }
   ],
   "source": [
    "mtcars[mtcars['wt']==mtcars['wt'].min()] # this code returns entire row with Min value of 'wt'"
   ]
  },
  {
   "cell_type": "code",
   "execution_count": 9,
   "metadata": {},
   "outputs": [
    {
     "data": {
      "text/plain": [
       "name    Lotus Europa\n",
       "mpg             30.4\n",
       "cyl                4\n",
       "disp            95.1\n",
       "hp               113\n",
       "drat            3.77\n",
       "wt             1.513\n",
       "qsec            16.9\n",
       "vs                 1\n",
       "am                 1\n",
       "gear               5\n",
       "carb               2\n",
       "Name: Lotus Europa, dtype: object"
      ]
     },
     "execution_count": 9,
     "metadata": {},
     "output_type": "execute_result"
    }
   ],
   "source": [
    "mtcars.loc[mtcars['wt'].idxmin()]"
   ]
  },
  {
   "cell_type": "markdown",
   "metadata": {},
   "source": [
    "### Question 4\n",
    "\n",
    "Find the mean of each row and each column in the given dataset.\n",
    "\n",
    "**Hint:** Use .mean() function. To operate on rows use **axis=0**, on columns use **axis=1**"
   ]
  },
  {
   "cell_type": "code",
   "execution_count": 10,
   "metadata": {},
   "outputs": [
    {
     "data": {
      "text/plain": [
       "name    6.916919e-323\n",
       "mpg      2.009062e+01\n",
       "cyl      6.187500e+00\n",
       "disp     2.307219e+02\n",
       "hp       1.466875e+02\n",
       "drat     3.596563e+00\n",
       "wt       3.217250e+00\n",
       "qsec     1.784875e+01\n",
       "vs       4.375000e-01\n",
       "am       4.062500e-01\n",
       "gear     3.687500e+00\n",
       "carb     2.812500e+00\n",
       "dtype: float64"
      ]
     },
     "execution_count": 10,
     "metadata": {},
     "output_type": "execute_result"
    }
   ],
   "source": [
    "mtcars.mean(axis=0)"
   ]
  },
  {
   "cell_type": "code",
   "execution_count": 11,
   "metadata": {},
   "outputs": [
    {
     "data": {
      "text/plain": [
       "name\n",
       "Mazda RX4              29.907273\n",
       "Mazda RX4 Wag          29.981364\n",
       "Datsun 710             23.598182\n",
       "Hornet 4 Drive         38.739545\n",
       "Hornet Sportabout      53.664545\n",
       "Valiant                35.049091\n",
       "Duster 360             59.720000\n",
       "Merc 240D              24.634545\n",
       "Merc 230               27.233636\n",
       "Merc 280               31.860000\n",
       "Merc 280C              31.787273\n",
       "Merc 450SE             46.430909\n",
       "Merc 450SL             46.500000\n",
       "Merc 450SLC            46.350000\n",
       "Cadillac Fleetwood     66.232727\n",
       "Lincoln Continental    66.058545\n",
       "Chrysler Imperial      65.972273\n",
       "Fiat 128               19.440909\n",
       "Honda Civic            17.742273\n",
       "Toyota Corolla         18.814091\n",
       "Toyota Corona          24.888636\n",
       "Dodge Challenger       47.240909\n",
       "AMC Javelin            46.007727\n",
       "Camaro Z28             58.752727\n",
       "Pontiac Firebird       57.379545\n",
       "Fiat X1-9              18.928636\n",
       "Porsche 914-2          24.779091\n",
       "Lotus Europa           24.880273\n",
       "Ford Pantera L         60.971818\n",
       "Ferrari Dino           34.508182\n",
       "Maserati Bora          63.155455\n",
       "Volvo 142E             26.262727\n",
       "dtype: float64"
      ]
     },
     "execution_count": 11,
     "metadata": {},
     "output_type": "execute_result"
    }
   ],
   "source": [
    "mtcars.mean(axis=1)"
   ]
  },
  {
   "cell_type": "markdown",
   "metadata": {},
   "source": [
    "### Question 5\n",
    "\n",
    "Plot mpg values of mtcards dataframe using matplotlib.\n",
    "\n",
    "**Hint: Use plt.plot function**"
   ]
  },
  {
   "cell_type": "code",
   "execution_count": 12,
   "metadata": {},
   "outputs": [
    {
     "name": "stderr",
     "output_type": "stream",
     "text": [
      "C:\\Users\\mamirashraff\\AppData\\Local\\Continuum\\anaconda3\\lib\\site-packages\\scipy\\stats\\stats.py:1713: FutureWarning: Using a non-tuple sequence for multidimensional indexing is deprecated; use `arr[tuple(seq)]` instead of `arr[seq]`. In the future this will be interpreted as an array index, `arr[np.array(seq)]`, which will result either in an error or a different result.\n",
      "  return np.add.reduce(sorted[indexer] * weights, axis=axis) / sumval\n"
     ]
    },
    {
     "data": {
      "text/plain": [
       "<matplotlib.axes._subplots.AxesSubplot at 0x94b40f0>"
      ]
     },
     "execution_count": 12,
     "metadata": {},
     "output_type": "execute_result"
    },
    {
     "data": {
      "image/png": "[encoded data removed]",
      "text/plain": [
       "<Figure size 432x288 with 1 Axes>"
      ]
     },
     "metadata": {
      "needs_background": "light"
     },
     "output_type": "display_data"
    }
   ],
   "source": [
    "sns.distplot(mtcars['mpg'])"
   ]
  },
  {
   "cell_type": "markdown",
   "metadata": {},
   "source": [
    "## Part 2"
   ]
  },
  {
   "cell_type": "markdown",
   "metadata": {},
   "source": [
    "## Measures of Dispersion"
   ]
  },
  {
   "cell_type": "markdown",
   "metadata": {},
   "source": [
    "Measures of Dispersion (Spread) are statistics that describe how data varies. Measure of dispersion gives us the sense of how much the data tends to diverge from the central tendency."
   ]
  },
  {
   "cell_type": "markdown",
   "metadata": {},
   "source": [
    "### Question 6\n",
    "\n",
    "What the range of `mpg` in the given dataset?\n",
    "\n",
    "**Hint:** Range = max-min"
   ]
  },
  {
   "cell_type": "code",
   "execution_count": 13,
   "metadata": {},
   "outputs": [
    {
     "data": {
      "text/plain": [
       "23.5"
      ]
     },
     "execution_count": 13,
     "metadata": {},
     "output_type": "execute_result"
    }
   ],
   "source": [
    "range = mtcars['mpg'].max() - mtcars['mpg'].min()\n",
    "range"
   ]
  },
  {
   "cell_type": "markdown",
   "metadata": {},
   "source": [
    "### Question 7\n",
    "\n",
    "Calculate the 25th quantile (lower quantile)for `mpg` in the given dataset.\n",
    "\n",
    "**Hint:** Use **.quantile()**"
   ]
  },
  {
   "cell_type": "code",
   "execution_count": 14,
   "metadata": {},
   "outputs": [
    {
     "data": {
      "text/plain": [
       "15.425"
      ]
     },
     "execution_count": 14,
     "metadata": {},
     "output_type": "execute_result"
    }
   ],
   "source": [
    "q2 = mtcars['mpg'].quantile(q=.25)\n",
    "q2"
   ]
  },
  {
   "cell_type": "markdown",
   "metadata": {},
   "source": [
    "### Question 8\n",
    "\n",
    "Calculate the Inter-Quartile Range(IQR) for `mpg` in the given dataset."
   ]
  },
  {
   "cell_type": "markdown",
   "metadata": {},
   "source": [
    "Interquartile range (IQR) is another common measure of spread. IQR is the distance between the 3rd quartile and the 1st quartile.\n",
    "\n",
    "**Hint:** IQR = Q3 - Q1"
   ]
  },
  {
   "cell_type": "code",
   "execution_count": 15,
   "metadata": {},
   "outputs": [
    {
     "data": {
      "text/plain": [
       "22.8"
      ]
     },
     "execution_count": 15,
     "metadata": {},
     "output_type": "execute_result"
    }
   ],
   "source": [
    "q3 = mtcars['mpg'].quantile(q=.75)\n",
    "q3"
   ]
  },
  {
   "cell_type": "code",
   "execution_count": 16,
   "metadata": {},
   "outputs": [
    {
     "data": {
      "text/plain": [
       "7.375"
      ]
     },
     "execution_count": 16,
     "metadata": {},
     "output_type": "execute_result"
    }
   ],
   "source": [
    "iqr = q3 - q2\n",
    "iqr"
   ]
  },
  {
   "cell_type": "markdown",
   "metadata": {},
   "source": [
    "### Question 9\n",
    "\n",
    "Calculate the Variance, Standard Deviation and Median Absolute Deviation for `mpg`."
   ]
  },
  {
   "cell_type": "markdown",
   "metadata": {},
   "source": [
    "Variance and Standard Deviation are two other common measure of dispersion.\n",
    "\n",
    "**Hint:** Use .var() and .std()"
   ]
  },
  {
   "cell_type": "markdown",
   "metadata": {},
   "source": [
    "**Hint:** Median Absolute Deviation - alternative measure of spread based on the median. It is the median of the absolute value of the deviations from the median. "
   ]
  },
  {
   "cell_type": "code",
   "execution_count": 17,
   "metadata": {},
   "outputs": [
    {
     "data": {
      "text/plain": [
       "36.32410282258065"
      ]
     },
     "execution_count": 17,
     "metadata": {},
     "output_type": "execute_result"
    }
   ],
   "source": [
    "mtcars['mpg'].var()"
   ]
  },
  {
   "cell_type": "code",
   "execution_count": 18,
   "metadata": {},
   "outputs": [
    {
     "data": {
      "text/plain": [
       "6.026948052089105"
      ]
     },
     "execution_count": 18,
     "metadata": {},
     "output_type": "execute_result"
    }
   ],
   "source": [
    "mtcars['mpg'].std()"
   ]
  },
  {
   "cell_type": "code",
   "execution_count": 19,
   "metadata": {},
   "outputs": [
    {
     "data": {
      "text/plain": [
       "19.2"
      ]
     },
     "execution_count": 19,
     "metadata": {},
     "output_type": "execute_result"
    }
   ],
   "source": [
    "mtcars['mpg'].median()"
   ]
  },
  {
   "cell_type": "markdown",
   "metadata": {},
   "source": [
    "## Part 3"
   ]
  },
  {
   "cell_type": "markdown",
   "metadata": {},
   "source": [
    "## Probability Distributions"
   ]
  },
  {
   "cell_type": "markdown",
   "metadata": {},
   "source": [
    "The probability distribution describes how a random variable is distributed. It tells us which values a variable is most likely to take on and which values are less likely to take on. "
   ]
  },
  {
   "cell_type": "markdown",
   "metadata": {},
   "source": [
    "Each value in the given range is equally likely to occur. "
   ]
  },
  {
   "cell_type": "code",
   "execution_count": 29,
   "metadata": {},
   "outputs": [],
   "source": [
    "import scipy.stats as stats # Many functions for probability distributions in python are in scipy.stats"
   ]
  },
  {
   "cell_type": "markdown",
   "metadata": {},
   "source": [
    "### Question 10\n",
    "\n",
    "Generate 1000 datapoints with standard normal distribution with mean 0 and standard deviation 1. "
   ]
  },
  {
   "cell_type": "markdown",
   "metadata": {},
   "source": [
    "#### Normal Distribution"
   ]
  },
  {
   "cell_type": "markdown",
   "metadata": {},
   "source": [
    "The normal or Gaussian Distribution is a continuos probability distribution given by a symmetric bell shaped curve. It is defined its center(mean) and spread(std)."
   ]
  },
  {
   "cell_type": "markdown",
   "metadata": {},
   "source": [
    "The bulk of the observations generated from a normal distribution lie near the mean which lies at the center. About 68% of the data lies within 1 std, 95% lies within 2 stds and 99.7% lies within 3 stds.\n",
    "\n",
    "**Hint:** You can use **np.random.normal()** function to generate normal distribution"
   ]
  },
  {
   "cell_type": "code",
   "execution_count": 20,
   "metadata": {},
   "outputs": [
    {
     "data": {
      "text/plain": [
       "array([ 1.40479112, -0.15375725,  0.12491712,  0.70449723,  1.19766393,\n",
       "       -0.02900223,  0.84069599, -0.10546695,  0.16370718, -2.00216188,\n",
       "       -0.44572949,  1.63370112, -0.07237413,  0.17669957, -0.10185607,\n",
       "        1.10190648, -0.14503068,  0.80225994, -0.68739799, -0.4064435 ,\n",
       "        0.12382382, -2.17708846, -1.33853777, -0.64943854,  0.71059005,\n",
       "       -0.1234114 ,  1.5499677 , -1.7852862 ,  0.44724808,  1.24494034,\n",
       "       -1.43773317, -0.10677977,  0.30402089, -0.69937941, -0.39671206,\n",
       "        0.64278814,  0.66761995, -1.24558408,  0.11207675,  0.72126328,\n",
       "        0.45623876,  0.49086519,  0.235345  ,  0.23749904, -0.41686582,\n",
       "       -0.05544954,  0.44538651,  1.16747552, -0.31543934,  1.36318007,\n",
       "        1.58849336, -0.12123287,  0.36740669, -0.75679413,  0.89165465,\n",
       "        0.60449744, -0.59234206,  0.28160379,  0.54796242, -1.1380358 ,\n",
       "        0.77249797,  0.18307727, -1.5516306 ,  1.37262152,  0.71700747,\n",
       "        0.17905896, -0.80216219, -0.14637686, -0.42449038,  0.8114883 ,\n",
       "        0.82478593,  0.77036846,  0.85278682,  1.11444174, -0.30397842,\n",
       "        0.82471956,  0.56228965, -0.68735788, -0.42673144,  0.41645568,\n",
       "       -0.46036777, -1.11827592, -1.96863679, -1.154871  ,  0.7322574 ,\n",
       "        0.56604033, -0.50469037, -0.28496621, -2.63000674, -0.64881515,\n",
       "        1.02736372,  0.14306452, -0.37007922,  0.22215104,  0.16967462,\n",
       "       -0.25098185,  1.14572896, -1.62535803,  0.82409864, -0.74587508,\n",
       "        2.76411663,  1.50123035, -0.87748935, -0.12600384,  0.17978474,\n",
       "       -0.04282798,  0.2662726 , -0.19012798, -1.11093468,  0.15220946,\n",
       "       -0.33016642,  1.50824092,  1.49515165, -0.92343286,  0.7367215 ,\n",
       "        1.33219964,  2.13240739,  0.39649803, -1.23831994,  0.82891956,\n",
       "       -0.24691408,  1.97915357, -0.42192432, -0.63712321, -1.74491028,\n",
       "        0.44830534, -1.80128499,  1.16878079,  0.17121235, -0.92737827,\n",
       "       -0.73165184, -1.0738803 , -1.26012526,  0.52342506,  0.48085273,\n",
       "        0.32927255, -0.34454151,  0.23866223,  0.73224028, -1.38303286,\n",
       "        1.40682572, -0.94379233, -0.24939951,  1.99912386, -1.13087445,\n",
       "        1.27437138, -1.14963065, -0.18323457,  0.12041462, -0.82426397,\n",
       "        0.72965336, -0.8909382 , -0.42513244, -0.36381482,  0.03859794,\n",
       "       -0.16259693, -1.85016975, -0.11475598,  0.83678988, -0.95061912,\n",
       "       -0.71445422,  0.09370792,  0.37160405, -0.06264465,  0.91650496,\n",
       "       -0.16692747, -0.52915571, -1.60390151,  1.01383775,  0.3291475 ,\n",
       "       -0.58425755, -0.76026618,  1.31414118,  1.15424404,  1.1255929 ,\n",
       "        0.15179547, -0.66922961, -0.29024628, -0.75589911, -0.99996922,\n",
       "       -0.52194966,  0.0967949 , -0.18222259,  0.79842727, -0.3229823 ,\n",
       "       -0.30546929, -0.46951072, -1.01099078,  1.50542404, -0.4365829 ,\n",
       "       -1.23091308,  0.1077938 , -0.03459077, -2.04217289,  1.0982889 ,\n",
       "       -2.0496916 , -1.33218412, -1.95745448,  0.18879299, -0.48178964,\n",
       "        0.59822755, -1.34211238,  1.03741701, -1.23969928, -0.60932726,\n",
       "        0.17840364,  0.940902  , -1.14712132,  1.08814684, -1.40310772,\n",
       "       -0.40257994,  0.02457921,  0.62229542,  0.69631343,  1.09241286,\n",
       "       -0.17220278,  0.58287602, -1.07153886, -0.30774752,  0.39489277,\n",
       "       -1.29243517, -1.61976425, -1.00526933, -0.10769123,  0.58360295,\n",
       "        0.22040885, -1.19857547, -1.53378503, -0.28112776, -0.34304544,\n",
       "        1.36219644,  1.29138473,  2.00794804,  0.26772189,  0.25004318,\n",
       "        1.27478631, -0.80956354,  0.55211866, -0.46567084, -0.37617495,\n",
       "        0.42339496,  1.56856016, -0.91071946, -0.43497434,  0.63390501,\n",
       "       -2.33101312, -0.67540939, -0.5350536 ,  0.64105226,  0.50007809,\n",
       "        0.22139905, -1.55899358,  1.00425873, -0.40111418,  0.25437073,\n",
       "        0.67756624,  0.33120805, -0.57388021,  0.22897266,  0.55828851,\n",
       "        1.13470058,  0.48480679, -1.5851579 , -0.60128189,  1.20731903,\n",
       "        2.18137548, -1.08139665,  0.63450161, -0.50633116, -0.01446756,\n",
       "        0.03689921,  0.27806369, -0.01447822, -0.27599634,  0.20463943,\n",
       "        0.22846328,  0.36969382, -0.5559749 ,  1.31647566,  0.79518206,\n",
       "       -1.34857667, -0.73385851,  2.46491135, -0.33185512, -1.2022069 ,\n",
       "        0.32628574, -2.81004233, -1.15365844, -0.95660089, -0.69562552,\n",
       "       -0.55083312, -0.96868242, -2.17511347, -0.6049137 , -1.6008272 ,\n",
       "       -0.09107952, -0.690572  ,  0.89118247, -0.33339001,  0.82369708,\n",
       "       -0.48429493,  0.15541914, -1.97265092, -0.62534616, -1.1583277 ,\n",
       "       -0.80257783,  0.01606725, -0.80659851,  0.35314413,  0.06692188,\n",
       "       -0.61671579,  0.30635506,  1.15875264, -0.46108849,  0.96536934,\n",
       "       -2.99565794,  1.59544392,  0.75325799, -0.09419847,  0.6853083 ,\n",
       "       -0.00339745, -0.08283948,  1.49937981, -0.52590992,  0.62645223,\n",
       "        0.34093422,  0.95666988, -1.16786925, -0.10480282, -1.76372915,\n",
       "       -1.11483193, -0.35987877,  0.67200717,  0.25921163, -0.68761292,\n",
       "       -0.19112612, -0.5348873 , -1.50655898, -0.4029589 ,  1.445347  ,\n",
       "        0.56553474, -0.01210819,  0.38876514, -0.42740889, -0.74199966,\n",
       "       -0.19364326, -0.87218709, -0.2436613 ,  0.18390884, -1.14678868,\n",
       "        0.32848074, -0.52502898, -0.64122177, -0.9898852 , -0.07858452,\n",
       "       -0.55477798,  1.02770462, -0.70429942, -1.41442007, -0.66440297,\n",
       "        0.94348923,  2.37659071, -0.0624619 , -1.17306575, -0.49328011,\n",
       "        1.89863422, -0.83476692,  0.05095021,  0.18898552,  1.89385598,\n",
       "        0.01028399, -0.23048912,  1.35310601,  0.94359506, -0.29215443,\n",
       "        0.5788409 , -1.02347668,  1.71548776,  0.16437208,  1.17225312,\n",
       "        0.09224171,  0.44442158, -1.46188679,  0.29253784,  0.10737011,\n",
       "        0.53968755,  0.04083654, -0.80240187, -2.80644685,  0.96654524,\n",
       "       -0.46792777,  0.35489876, -1.60559867,  0.43790061, -0.33286019,\n",
       "        0.8982124 , -0.57591121,  0.21558057,  0.80218443, -1.73758822,\n",
       "       -1.35313042,  1.484921  , -0.23510288,  1.26538986,  1.18514677,\n",
       "        0.04777331, -0.37594739,  0.50343779,  0.57114772, -1.17056498,\n",
       "       -0.54837838, -0.76872917,  2.00191733,  1.07485269,  1.33767345,\n",
       "       -0.44160084,  0.01551009,  0.34384061, -0.65889867, -0.5419885 ,\n",
       "        0.4157163 , -1.1774587 , -1.03128896, -0.34114489,  0.23636405,\n",
       "       -0.82075589,  1.63287321, -1.67623036,  1.28437882,  0.99012763,\n",
       "        0.47997118,  0.72504349,  0.0531185 , -1.80812282, -0.50111915,\n",
       "        0.65791169,  1.98976246, -0.94448285, -0.70718316, -0.28606427,\n",
       "       -1.47005464, -1.01295043, -1.40502456,  1.08018013,  1.22726834,\n",
       "        0.66180017, -1.45246452, -0.16175239,  0.88615252, -0.40364998,\n",
       "       -1.89506542,  0.89692524,  0.06269715, -0.50805057,  0.86066115,\n",
       "       -0.243076  ,  1.26074303, -0.19886767,  0.29066161, -0.74174054,\n",
       "       -0.61192406, -0.81016289,  0.23271204,  0.7790273 , -1.21955706,\n",
       "        2.37417   , -1.07718438, -1.9168934 , -0.82222798,  1.1040838 ,\n",
       "       -1.00166886,  0.04928803,  0.01904528, -0.82308501,  0.08923507,\n",
       "        0.24095785, -0.9351559 ,  1.01493676, -0.20557208, -1.17644237,\n",
       "       -0.80172359, -1.08748309,  0.70208803,  0.10023208,  1.20173183,\n",
       "        0.3725684 ,  0.60878566,  0.54809925, -0.51449426, -1.26342447,\n",
       "       -1.19025451, -0.69346753,  1.1267187 ,  0.83631882, -0.48755291,\n",
       "        0.41931338,  1.22364646,  0.56616226,  1.22645152, -0.51269016,\n",
       "        1.71343589,  0.77475372, -0.29772302,  0.86518746, -0.76224353,\n",
       "        1.72667574,  0.74915251, -2.67102906,  0.70433345, -0.62829564,\n",
       "        0.41608903, -0.11751202, -0.88562165, -0.27986848, -0.04618799,\n",
       "        0.28859465,  0.54743496, -0.84783104,  0.96793061,  0.22143674,\n",
       "       -0.2049929 , -0.65794945, -0.51849296,  1.50567134,  1.69890554,\n",
       "        1.05589352, -1.25643611,  1.61649963, -1.77083442, -1.36840269,\n",
       "       -0.32213664,  0.97441221,  0.61959374,  0.07300291,  0.18475416,\n",
       "        0.09426456, -2.20687767,  1.93333708,  0.99453799,  0.88974495,\n",
       "        2.31792651,  1.89686894,  1.05245698, -1.14343564, -1.34782288,\n",
       "        0.96093169, -1.32058219, -0.50802339,  0.24707804, -0.42615586,\n",
       "        0.94462312,  0.67001713, -0.93980518,  0.84112379,  0.68945052,\n",
       "        0.92057012, -1.29365092,  0.5566873 , -0.70580386,  1.43274514,\n",
       "       -0.11571766,  0.48462716, -0.26936122,  0.12068065, -0.97805952,\n",
       "       -2.19637022, -0.81070577, -0.03602533,  0.4723487 , -1.78503062,\n",
       "       -0.53758443,  0.19253824,  0.27914863,  1.21008371,  0.0246468 ,\n",
       "        0.16062875, -0.0647492 ,  1.15843553, -2.01512209, -0.19484834,\n",
       "        0.12527282,  0.68176687, -0.96271999, -0.82934556, -0.75228121,\n",
       "        0.01219003, -0.47516351,  1.19482775,  0.70226881,  1.39157052,\n",
       "       -0.60390184, -0.97376368, -0.58325238,  0.22447135,  0.36447939,\n",
       "       -1.73498189,  0.5135469 ,  0.3683807 ,  1.36996105,  1.09641427,\n",
       "       -2.26605198,  1.31618196,  2.08725824,  0.15341859, -2.93162488,\n",
       "       -1.23381702,  0.40177234, -1.64720823, -2.16739175,  0.26191265,\n",
       "        1.42957712,  1.06049692, -0.39223062,  0.59222792, -0.76298848,\n",
       "       -1.44423999, -0.04437685,  0.10339395,  0.10719298, -0.73132214,\n",
       "        1.31904053, -0.39555353,  0.1066341 , -1.14268445,  1.25389976,\n",
       "        0.66665486, -0.19816967, -0.51006592,  1.35702012,  0.77894666,\n",
       "        1.43493304,  0.62748996,  0.86696645, -0.07547163,  0.61495   ,\n",
       "       -2.56476951, -1.67496413,  1.09400242, -0.82406229,  1.13333432,\n",
       "       -1.03601794, -0.48175264, -0.28391045,  0.2705217 ,  0.44215834,\n",
       "        1.66720063,  0.37156647, -1.45056297,  1.16009847,  0.20223259,\n",
       "       -0.23496205,  0.03048446,  1.06171985,  0.52706509,  0.65224616,\n",
       "       -0.1464554 , -0.52966974,  0.14930287,  1.04123715, -0.90619927,\n",
       "       -0.19915084,  1.57382186,  0.73211794,  0.22887668, -0.87181863,\n",
       "        0.70898141,  0.59553721,  0.7968299 , -0.36076501,  0.7760621 ,\n",
       "       -0.84525015,  0.41528469,  0.83800852, -0.88046181,  0.57974841,\n",
       "       -0.85819272,  1.18726275,  0.42635057, -0.83189187, -1.055907  ,\n",
       "        0.8646477 ,  0.21255019,  0.69644072, -0.07243182,  0.14092924,\n",
       "        0.81175088, -0.94424738,  0.86224919,  0.02386722, -0.54672697,\n",
       "        0.11764329,  0.15645858,  0.26888429,  1.71101068, -0.88770932,\n",
       "       -1.76218068,  0.85466412, -2.26360893,  0.34257104, -0.87158201,\n",
       "       -0.33133738,  0.59466745, -0.81891617,  0.70855831,  0.08315182,\n",
       "       -1.22747523, -0.24652362,  1.7573185 , -1.45720188, -0.96729165,\n",
       "        0.34210818, -0.31981659,  0.58607379, -0.59958822, -0.90097606,\n",
       "       -0.76202065,  1.010476  ,  1.06326488, -0.83151724, -0.84641236,\n",
       "       -0.33282314,  1.53091863, -0.62459589, -1.77302804, -1.74957171,\n",
       "       -0.72998451,  0.49704989,  1.72672086, -1.62233761, -2.11031659,\n",
       "        0.47067381,  0.35954254,  1.13504972,  0.43829486, -0.46694647,\n",
       "        1.44907515,  1.05224283,  0.26433507, -0.30140742,  1.36368344,\n",
       "        0.77789718,  0.94096266, -0.92953389,  0.57701051, -0.26901567,\n",
       "       -0.21641753, -0.42673661, -1.26477738,  0.76268438,  0.97816208,\n",
       "        0.01742723, -0.22340742,  0.13552513,  1.3195206 , -0.07711863,\n",
       "        1.46775234,  0.08429511,  1.21783979, -0.0747142 , -0.21192051,\n",
       "        0.487555  ,  0.47017329, -1.51554336, -0.40423016, -0.91629594,\n",
       "       -1.00721912,  2.23963888, -1.74170615,  0.10972025, -1.34403074,\n",
       "        2.55826545,  0.0088737 ,  0.64358734,  0.96273802, -0.25634751,\n",
       "       -0.1464819 , -0.2733577 ,  0.17698394, -0.54166981, -1.47762696,\n",
       "       -0.02315004, -1.29605447,  1.49348141, -0.04743115, -1.36564213,\n",
       "       -0.4354124 ,  2.37063436, -0.60829709, -1.27889677,  0.57646289,\n",
       "        0.29531426,  0.67162966,  0.0487041 , -0.05972478, -0.99466651,\n",
       "        0.09868638,  0.69677531, -0.19666198,  1.11884355, -1.26223873,\n",
       "       -1.06630987, -2.58312947,  0.27314569, -1.90722963,  0.34038527,\n",
       "       -0.88981422, -1.6800206 ,  0.33636015,  0.2040235 , -1.11042651,\n",
       "       -0.77783733,  0.11516269, -0.10123674, -0.40541308, -0.63045317,\n",
       "        0.31162278, -0.63991339, -1.9062525 , -0.23544259,  0.82789337,\n",
       "       -0.11976079, -1.18660286,  1.20268414, -0.65740087, -0.50552944,\n",
       "        1.88412204,  0.01996628,  0.62317654,  1.52559268, -0.20169197,\n",
       "        1.50628497,  0.97954271, -0.76991521,  0.58328058,  0.97338907,\n",
       "        0.40439418, -1.43923972, -0.3835602 ,  0.78400573,  0.23998345,\n",
       "        0.68960956, -0.10628157, -0.36530228, -0.09875533, -1.12507471,\n",
       "       -1.66933973,  0.17473995, -0.5843149 , -2.01008837,  0.39448109,\n",
       "        1.50104186, -3.1465812 , -0.2219392 , -0.41032839, -0.73644975,\n",
       "       -0.17159489,  0.23616854, -1.58877874, -0.11761796,  0.17603876,\n",
       "       -1.14005966,  1.26556465, -0.67430482, -1.13869261,  1.00524503,\n",
       "        0.83182686, -0.56884983, -0.71643779,  0.7898798 ,  0.23405749,\n",
       "        0.08306969,  1.4252687 ,  1.06445234,  1.2587698 , -2.12296229,\n",
       "        0.12107504,  0.02569289,  1.16545   ,  1.70042604,  0.63230693,\n",
       "       -0.98684733,  0.80320132, -2.90811474,  0.85321158,  2.44553492,\n",
       "       -0.42005306, -2.20123136, -1.42110754,  2.98498554, -0.5968131 ,\n",
       "        0.88638671, -0.51626215,  1.71246692, -1.08340558,  1.58882047,\n",
       "       -1.03976139,  0.07768382, -1.49067868,  0.04027537,  0.85627101,\n",
       "        0.4471444 , -1.58256898, -0.22723728, -1.49989082,  0.34290723,\n",
       "        0.31890287,  0.54138127, -0.37595324, -0.01787511, -0.38065976,\n",
       "        1.46287175,  0.77135091,  0.35930792,  2.24023548,  0.55934056,\n",
       "       -1.24858412,  1.35334036,  0.36036582, -0.20594487,  1.44304034,\n",
       "        0.7867389 , -1.15196847, -0.10094623,  1.16387023, -0.79818596,\n",
       "       -0.32728464, -1.00465242,  0.59721318, -0.05778351,  0.49318088,\n",
       "       -0.19446541, -0.18798652,  1.41770483, -0.43107696,  2.96983319,\n",
       "       -0.99427147, -0.28011613,  0.20524127,  0.26852593, -1.1627882 ,\n",
       "       -0.88613198, -0.48245771, -0.02742638, -0.11649693, -1.99486545,\n",
       "        0.80313627,  0.3310784 ,  0.80885046,  0.95561325, -1.02609547,\n",
       "       -0.59163586,  1.13125273, -0.72452332,  1.69509678, -1.22134368,\n",
       "       -0.11792106,  1.3109777 ,  0.08766549, -0.07977557,  1.64440822,\n",
       "        1.44188407, -1.21721553,  1.34439902, -1.66478398,  0.63817993,\n",
       "        0.19390665, -0.34571697, -1.26016395,  0.14563311,  0.44173163,\n",
       "        0.26201075,  1.39177419, -1.36130129,  0.75511697,  0.16992795,\n",
       "       -1.51968107,  1.42955044, -0.62971442,  0.42592403,  0.62916168,\n",
       "        0.01517941, -2.2457612 , -0.7558986 , -0.69580168, -2.26899562,\n",
       "       -0.93560628,  0.39359752,  1.24400931, -2.40290467, -0.95400324,\n",
       "        2.46017538,  0.18991647, -0.03851441,  0.38194268, -0.13645504,\n",
       "        1.60167354, -0.27084507,  0.49557123, -0.50000882,  0.28686798])"
      ]
     },
     "execution_count": 20,
     "metadata": {},
     "output_type": "execute_result"
    }
   ],
   "source": [
    "np.random.normal(loc=0.0, scale=1.0, size=1000)"
   ]
  },
  {
   "cell_type": "markdown",
   "metadata": {},
   "source": [
    "## Question 11\n",
    "\n",
    "Generate binomial distribution data for fair coin flipping of size 100. Assume `0` for head and `1` for tail.\n",
    "\n",
    "[ **Hint:** For fair coin flip `p=0.5` ]"
   ]
  },
  {
   "cell_type": "markdown",
   "metadata": {},
   "source": [
    "#### Binomial Distribution"
   ]
  },
  {
   "cell_type": "markdown",
   "metadata": {},
   "source": [
    "It is defined by 2 parameters: the probability of success and the number of trails. It tells about how likely it is possible to get a given number of successes in n trails."
   ]
  },
  {
   "cell_type": "code",
   "execution_count": 21,
   "metadata": {},
   "outputs": [
    {
     "data": {
      "text/plain": [
       "array([7.88860905e-31, 7.88860905e-29, 3.90486148e-27, 1.27558808e-25,\n",
       "       3.09330110e-24, 5.93913812e-23, 9.40363535e-22, 1.26277389e-20,\n",
       "       1.46797465e-19, 1.50059631e-18, 1.36554264e-17, 1.11726216e-16,\n",
       "       8.28636101e-16, 5.60922899e-15, 3.48573516e-14, 1.99848816e-13,\n",
       "       1.06169683e-12, 5.24603142e-12, 2.41900338e-11, 1.04399093e-10,\n",
       "       4.22816327e-10, 1.61072886e-09, 5.78398092e-09, 1.96152396e-08,\n",
       "       6.29322272e-08, 1.91313971e-07, 5.51867223e-07, 1.51252498e-06,\n",
       "       3.94336870e-06, 9.79043264e-06, 2.31706906e-05, 5.23209142e-05,\n",
       "       1.12816971e-04, 2.32471335e-04, 4.58105277e-04, 8.63855666e-04,\n",
       "       1.55973940e-03, 2.69792760e-03, 4.47287998e-03, 7.11073227e-03,\n",
       "       1.08438667e-02, 1.58690732e-02, 2.22922695e-02, 3.00686426e-02,\n",
       "       3.89525598e-02, 4.84742966e-02, 5.79583981e-02, 6.65905000e-02,\n",
       "       7.35270104e-02, 7.80286641e-02, 7.95892374e-02, 7.80286641e-02,\n",
       "       7.35270104e-02, 6.65905000e-02, 5.79583981e-02, 4.84742966e-02,\n",
       "       3.89525598e-02, 3.00686426e-02, 2.22922695e-02, 1.58690732e-02,\n",
       "       1.08438667e-02, 7.11073227e-03, 4.47287998e-03, 2.69792760e-03,\n",
       "       1.55973940e-03, 8.63855666e-04, 4.58105277e-04, 2.32471335e-04,\n",
       "       1.12816971e-04, 5.23209142e-05, 2.31706906e-05, 9.79043264e-06,\n",
       "       3.94336870e-06, 1.51252498e-06, 5.51867223e-07, 1.91313971e-07,\n",
       "       6.29322272e-08, 1.96152396e-08, 5.78398092e-09, 1.61072886e-09,\n",
       "       4.22816327e-10, 1.04399093e-10, 2.41900338e-11, 5.24603142e-12,\n",
       "       1.06169683e-12, 1.99848816e-13, 3.48573516e-14, 5.60922899e-15,\n",
       "       8.28636101e-16, 1.11726216e-16, 1.36554264e-17, 1.50059631e-18,\n",
       "       1.46797465e-19, 1.26277389e-20, 9.40363535e-22, 5.93913812e-23,\n",
       "       3.09330110e-24, 1.27558808e-25, 3.90486148e-27, 7.88860905e-29,\n",
       "       7.88860905e-31])"
      ]
     },
     "execution_count": 21,
     "metadata": {},
     "output_type": "execute_result"
    }
   ],
   "source": [
    "n = 100\n",
    "p = 0.5\n",
    "k=np.arange(0,101)\n",
    "binomial = stats.binom.pmf(k,n,p)\n",
    "binomial"
   ]
  },
  {
   "cell_type": "code",
   "execution_count": 22,
   "metadata": {},
   "outputs": [
    {
     "data": {
      "text/plain": [
       "Text(0,0.5,'Probability of Successes')"
      ]
     },
     "execution_count": 22,
     "metadata": {},
     "output_type": "execute_result"
    },
    {
     "data": {
      "image/png": "[encoded data removed]",
      "text/plain": [
       "<Figure size 432x288 with 1 Axes>"
      ]
     },
     "metadata": {
      "needs_background": "light"
     },
     "output_type": "display_data"
    }
   ],
   "source": [
    "plt.plot(k,binomial,'o-')\n",
    "plt.title('Binomial: n=%i , p=%.2f' % (n,p), fontsize=15)\n",
    "plt.xlabel('Number of Trials')\n",
    "plt.ylabel('Probability of Successes')"
   ]
  },
  {
   "cell_type": "markdown",
   "metadata": {},
   "source": [
    "#### Visualizing Poisson Distribution"
   ]
  },
  {
   "cell_type": "markdown",
   "metadata": {},
   "source": [
    "It models the probability of seeing certain number of successes within a time interval."
   ]
  },
  {
   "cell_type": "code",
   "execution_count": 23,
   "metadata": {},
   "outputs": [
    {
     "data": {
      "image/png": "[encoded data removed]",
      "text/plain": [
       "<Figure size 432x288 with 1 Axes>"
      ]
     },
     "metadata": {
      "needs_background": "light"
     },
     "output_type": "display_data"
    }
   ],
   "source": [
    "poisson_data = stats.poisson.rvs(size=100,mu=10)\n",
    "\n",
    "pd.DataFrame(poisson_data).hist()\n",
    "\n",
    "plt.show()"
   ]
  },
  {
   "cell_type": "code",
   "execution_count": null,
   "metadata": {},
   "outputs": [],
   "source": []
  }
 ],
 "metadata": {
  "kernelspec": {
   "display_name": "Python 3",
   "language": "python",
   "name": "python3"
  },
  "language_info": {
   "codemirror_mode": {
    "name": "ipython",
    "version": 3
   },
   "file_extension": ".py",
   "mimetype": "text/x-python",
   "name": "python",
   "nbconvert_exporter": "python",
   "pygments_lexer": "ipython3",
   "version": "3.7.0"
  }
 },
 "nbformat": 4,
 "nbformat_minor": 2
}
