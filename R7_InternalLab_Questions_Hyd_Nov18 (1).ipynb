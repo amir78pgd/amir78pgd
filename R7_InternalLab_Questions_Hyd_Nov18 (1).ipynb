{
  "nbformat": 4,
  "nbformat_minor": 0,
  "metadata": {
    "colab": {
      "name": "R7_InternalLab_Questions_Hyd_Nov18.ipynb",
      "version": "0.3.2",
      "provenance": [],
      "collapsed_sections": []
    },
    "kernelspec": {
      "name": "python3",
      "display_name": "Python 3"
    },
    "accelerator": "GPU"
  },
  "cells": [
    {
      "cell_type": "code",
      "metadata": {
        "id": "k09yke228TkR",
        "colab_type": "code",
        "colab": {}
      },
      "source": [
        "## Train a simple convnet on the Fashion MNIST dataset"
      ],
      "execution_count": 0,
      "outputs": []
    },
    {
      "cell_type": "code",
      "metadata": {
        "id": "SSRE0GDB8ZKq",
        "colab_type": "code",
        "colab": {}
      },
      "source": [
        "#In this, we will see how to deal with image data and train a convnet for image classification task."
      ],
      "execution_count": 0,
      "outputs": []
    },
    {
      "cell_type": "code",
      "metadata": {
        "id": "sWwfEuVo8ch5",
        "colab_type": "code",
        "colab": {
          "base_uri": "https://localhost:8080/",
          "height": 34
        },
        "outputId": "f1fa5352-d679-4c0c-a8db-d60bff357850"
      },
      "source": [
        "from __future__ import absolute_import, division, print_function\n",
        "import numpy as np\n",
        "import tensorflow as tf\n",
        "import keras\n",
        "#from keras.datasets import cifar10, mnist\n",
        "from keras.models import Sequential\n",
        "from keras.layers import Dense, Activation, Dropout, Flatten, Reshape\n",
        "from keras.layers import Convolution2D, MaxPooling2D\n",
        "from keras.utils import np_utils\n",
        "import pickle\n",
        "from matplotlib import pyplot as plt\n",
        "import seaborn as sns\n",
        "plt.rcParams['figure.figsize'] = (15, 8)"
      ],
      "execution_count": 4,
      "outputs": [
        {
          "output_type": "stream",
          "text": [
            "Using TensorFlow backend.\n"
          ],
          "name": "stderr"
        }
      ]
    },
    {
      "cell_type": "code",
      "metadata": {
        "id": "nv9P4Srd8mvr",
        "colab_type": "code",
        "colab": {}
      },
      "source": [
        "### Load the  `fashion_mnist`  dataset\n",
        "\n",
        "#** Use keras.datasets to load the dataset **"
      ],
      "execution_count": 0,
      "outputs": []
    },
    {
      "cell_type": "code",
      "metadata": {
        "id": "pf127qhn8qYx",
        "colab_type": "code",
        "colab": {
          "base_uri": "https://localhost:8080/",
          "height": 153
        },
        "outputId": "df96af3c-2755-4b12-e6a9-561dd2e8afea"
      },
      "source": [
        "#from keras.datasets import fashion_mnist\n",
        "#(x_train, y_train), (x_test, y_test) = fashion_mnist.load_data()\n",
        "(X_train, y_train_num), (X_test, y_test_num) = tf.keras.datasets.fashion_mnist.load_data()"
      ],
      "execution_count": 6,
      "outputs": [
        {
          "output_type": "stream",
          "text": [
            "Downloading data from https://storage.googleapis.com/tensorflow/tf-keras-datasets/train-labels-idx1-ubyte.gz\n",
            "32768/29515 [=================================] - 0s 0us/step\n",
            "Downloading data from https://storage.googleapis.com/tensorflow/tf-keras-datasets/train-images-idx3-ubyte.gz\n",
            "26427392/26421880 [==============================] - 0s 0us/step\n",
            "Downloading data from https://storage.googleapis.com/tensorflow/tf-keras-datasets/t10k-labels-idx1-ubyte.gz\n",
            "8192/5148 [===============================================] - 0s 0us/step\n",
            "Downloading data from https://storage.googleapis.com/tensorflow/tf-keras-datasets/t10k-images-idx3-ubyte.gz\n",
            "4423680/4422102 [==============================] - 0s 0us/step\n"
          ],
          "name": "stdout"
        }
      ]
    },
    {
      "cell_type": "code",
      "metadata": {
        "id": "kvZITa_Y8v8p",
        "colab_type": "code",
        "colab": {}
      },
      "source": [
        "### Find no.of samples are there in training and test datasets"
      ],
      "execution_count": 0,
      "outputs": []
    },
    {
      "cell_type": "code",
      "metadata": {
        "id": "q-BDrdgA83nt",
        "colab_type": "code",
        "colab": {
          "base_uri": "https://localhost:8080/",
          "height": 34
        },
        "outputId": "97f02a4c-a1a5-4ca1-c8d5-16a4305a184e"
      },
      "source": [
        "X_train.shape"
      ],
      "execution_count": 8,
      "outputs": [
        {
          "output_type": "execute_result",
          "data": {
            "text/plain": [
              "(60000, 28, 28)"
            ]
          },
          "metadata": {
            "tags": []
          },
          "execution_count": 8
        }
      ]
    },
    {
      "cell_type": "code",
      "metadata": {
        "id": "THnMqprh86fc",
        "colab_type": "code",
        "colab": {
          "base_uri": "https://localhost:8080/",
          "height": 34
        },
        "outputId": "ed04c3e5-4cf3-45ee-e03a-9541340cd37a"
      },
      "source": [
        "X_test.shape"
      ],
      "execution_count": 9,
      "outputs": [
        {
          "output_type": "execute_result",
          "data": {
            "text/plain": [
              "(10000, 28, 28)"
            ]
          },
          "metadata": {
            "tags": []
          },
          "execution_count": 9
        }
      ]
    },
    {
      "cell_type": "code",
      "metadata": {
        "id": "aY-wfRme9AYF",
        "colab_type": "code",
        "colab": {}
      },
      "source": [
        "### Find dimensions of an image in the dataset"
      ],
      "execution_count": 0,
      "outputs": []
    },
    {
      "cell_type": "code",
      "metadata": {
        "id": "RiUXdzLq9EQd",
        "colab_type": "code",
        "colab": {
          "base_uri": "https://localhost:8080/",
          "height": 34
        },
        "outputId": "3970567b-2ad0-46a6-a821-2f4c468a2151"
      },
      "source": [
        "#28*28 is the shape\n",
        "X_train.shape[1:]"
      ],
      "execution_count": 109,
      "outputs": [
        {
          "output_type": "execute_result",
          "data": {
            "text/plain": [
              "(28, 28, 1)"
            ]
          },
          "metadata": {
            "tags": []
          },
          "execution_count": 109
        }
      ]
    },
    {
      "cell_type": "code",
      "metadata": {
        "id": "NCivpm859NeE",
        "colab_type": "code",
        "colab": {}
      },
      "source": [
        "### Convert train and test labels to one hot vectors\n",
        "\n",
        "#** check `keras.utils.to_categorical()` **"
      ],
      "execution_count": 0,
      "outputs": []
    },
    {
      "cell_type": "code",
      "metadata": {
        "id": "gRq_14cE-eNp",
        "colab_type": "code",
        "colab": {
          "base_uri": "https://localhost:8080/",
          "height": 34
        },
        "outputId": "d2d47afd-9d3c-495d-99a2-b2cc952bdbe2"
      },
      "source": [
        "y_train = np_utils.to_categorical(y_train_num, 10)\n",
        "y_train.shape"
      ],
      "execution_count": 13,
      "outputs": [
        {
          "output_type": "execute_result",
          "data": {
            "text/plain": [
              "(60000, 10)"
            ]
          },
          "metadata": {
            "tags": []
          },
          "execution_count": 13
        }
      ]
    },
    {
      "cell_type": "code",
      "metadata": {
        "id": "3I6AW4mJ-nAt",
        "colab_type": "code",
        "colab": {
          "base_uri": "https://localhost:8080/",
          "height": 34
        },
        "outputId": "dadd1ce0-3730-4f00-96a3-04c3b07af819"
      },
      "source": [
        "y_test = np_utils.to_categorical(y_test_num, 10)\n",
        "y_test.shape"
      ],
      "execution_count": 14,
      "outputs": [
        {
          "output_type": "execute_result",
          "data": {
            "text/plain": [
              "(10000, 10)"
            ]
          },
          "metadata": {
            "tags": []
          },
          "execution_count": 14
        }
      ]
    },
    {
      "cell_type": "code",
      "metadata": {
        "id": "3UauHhzd-1q7",
        "colab_type": "code",
        "colab": {}
      },
      "source": [
        "### Normalize both the train and test image data from 0-255 to 0-1"
      ],
      "execution_count": 0,
      "outputs": []
    },
    {
      "cell_type": "code",
      "metadata": {
        "id": "osH18MdX-6Bt",
        "colab_type": "code",
        "colab": {
          "base_uri": "https://localhost:8080/",
          "height": 34
        },
        "outputId": "3e883b47-1b38-431c-e1fa-3905f4584729"
      },
      "source": [
        "X_train.shape"
      ],
      "execution_count": 16,
      "outputs": [
        {
          "output_type": "execute_result",
          "data": {
            "text/plain": [
              "(60000, 28, 28)"
            ]
          },
          "metadata": {
            "tags": []
          },
          "execution_count": 16
        }
      ]
    },
    {
      "cell_type": "code",
      "metadata": {
        "id": "_g7a3k_p-9bS",
        "colab_type": "code",
        "colab": {}
      },
      "source": [
        "X_train = X_train.astype('float32')"
      ],
      "execution_count": 0,
      "outputs": []
    },
    {
      "cell_type": "code",
      "metadata": {
        "id": "6mReYWJs_A2I",
        "colab_type": "code",
        "colab": {}
      },
      "source": [
        "X_test = X_test.astype('float32')"
      ],
      "execution_count": 0,
      "outputs": []
    },
    {
      "cell_type": "code",
      "metadata": {
        "id": "UzGMfybM_EKI",
        "colab_type": "code",
        "colab": {}
      },
      "source": [
        "X_train /= 255"
      ],
      "execution_count": 0,
      "outputs": []
    },
    {
      "cell_type": "code",
      "metadata": {
        "id": "AyDXXr7k_Hot",
        "colab_type": "code",
        "colab": {}
      },
      "source": [
        "X_test /= 255"
      ],
      "execution_count": 0,
      "outputs": []
    },
    {
      "cell_type": "code",
      "metadata": {
        "id": "SyALp4iA_Kus",
        "colab_type": "code",
        "colab": {}
      },
      "source": [
        "### Reshape the data from 28x28 to 28x28x1 to match input dimensions in Conv2D layer in keras"
      ],
      "execution_count": 0,
      "outputs": []
    },
    {
      "cell_type": "code",
      "metadata": {
        "id": "G9kVhYuE_OBh",
        "colab_type": "code",
        "colab": {
          "base_uri": "https://localhost:8080/",
          "height": 34
        },
        "outputId": "2328f965-dccb-4fd2-bae1-a53f2acbbebd"
      },
      "source": [
        "X_train = X_train.reshape(X_train.shape[0], 28, 28, 1).astype('float32')\n",
        "X_test = X_test.reshape(X_test.shape[0], 28, 28, 1).astype('float32')\n",
        "X_train.shape"
      ],
      "execution_count": 22,
      "outputs": [
        {
          "output_type": "execute_result",
          "data": {
            "text/plain": [
              "(60000, 28, 28, 1)"
            ]
          },
          "metadata": {
            "tags": []
          },
          "execution_count": 22
        }
      ]
    },
    {
      "cell_type": "code",
      "metadata": {
        "id": "hqu5C_X1_SBu",
        "colab_type": "code",
        "colab": {}
      },
      "source": [
        "### Import the necessary layers from keras to build the model"
      ],
      "execution_count": 0,
      "outputs": []
    },
    {
      "cell_type": "code",
      "metadata": {
        "id": "Ax3zZLOv_VTJ",
        "colab_type": "code",
        "colab": {}
      },
      "source": [
        "TRAIN = False\n",
        "BATCH_SIZE = 32\n",
        "EPOCHS = 10"
      ],
      "execution_count": 0,
      "outputs": []
    },
    {
      "cell_type": "code",
      "metadata": {
        "id": "aJvjDyEe_Yht",
        "colab_type": "code",
        "colab": {}
      },
      "source": [
        "#Build a model\n",
        "# with 2 Conv layers having `32 33 filtersin both convolutions withrelu activationsandflattenbefore passing the feature map into 2 fully connected layers (or Dense Layers) \n",
        "#having 128 and 10 neurons withreluandsoftmaxactivations respectively. Now, usingcategorical_crossentropyloss withadamoptimizer train the model with early stoppingpatience=5and no.ofepochs=10`. **"
      ],
      "execution_count": 0,
      "outputs": []
    },
    {
      "cell_type": "code",
      "metadata": {
        "id": "_6rGGAqE_qmv",
        "colab_type": "code",
        "colab": {}
      },
      "source": [
        "# Define model\n",
        "model2 = Sequential()"
      ],
      "execution_count": 0,
      "outputs": []
    },
    {
      "cell_type": "code",
      "metadata": {
        "id": "4eMPdOCB_uTj",
        "colab_type": "code",
        "colab": {
          "base_uri": "https://localhost:8080/",
          "height": 122
        },
        "outputId": "0d83d4b2-d766-4085-afca-fd972f6662cc"
      },
      "source": [
        "# 1st Conv Layer\n",
        "model2.add(Convolution2D(32, 3, 3, input_shape=(28, 28, 1)))\n",
        "model2.add(Activation('relu'))"
      ],
      "execution_count": 27,
      "outputs": [
        {
          "output_type": "stream",
          "text": [
            "WARNING:tensorflow:From /usr/local/lib/python3.6/dist-packages/tensorflow/python/framework/op_def_library.py:263: colocate_with (from tensorflow.python.framework.ops) is deprecated and will be removed in a future version.\n",
            "Instructions for updating:\n",
            "Colocations handled automatically by placer.\n"
          ],
          "name": "stdout"
        },
        {
          "output_type": "stream",
          "text": [
            "/usr/local/lib/python3.6/dist-packages/ipykernel_launcher.py:1: UserWarning: Update your `Conv2D` call to the Keras 2 API: `Conv2D(32, (3, 3), input_shape=(28, 28, 1...)`\n",
            "  \"\"\"Entry point for launching an IPython kernel.\n"
          ],
          "name": "stderr"
        }
      ]
    },
    {
      "cell_type": "code",
      "metadata": {
        "id": "AuFPpH3e_x_k",
        "colab_type": "code",
        "colab": {
          "base_uri": "https://localhost:8080/",
          "height": 51
        },
        "outputId": "5b4282e3-9c7d-4172-87e9-65b9394697db"
      },
      "source": [
        "# 2nd Conv Layer\n",
        "model2.add(Convolution2D(32, 3, 3))\n",
        "model2.add(Activation('relu'))"
      ],
      "execution_count": 28,
      "outputs": [
        {
          "output_type": "stream",
          "text": [
            "/usr/local/lib/python3.6/dist-packages/ipykernel_launcher.py:1: UserWarning: Update your `Conv2D` call to the Keras 2 API: `Conv2D(32, (3, 3))`\n",
            "  \"\"\"Entry point for launching an IPython kernel.\n"
          ],
          "name": "stderr"
        }
      ]
    },
    {
      "cell_type": "code",
      "metadata": {
        "id": "5LOCWvlA_2OU",
        "colab_type": "code",
        "colab": {}
      },
      "source": [
        "# Fully Connected Layer\n",
        "model2.add(Flatten())\n",
        "model2.add(Dense(128))\n",
        "model2.add(Activation('relu'))"
      ],
      "execution_count": 0,
      "outputs": []
    },
    {
      "cell_type": "code",
      "metadata": {
        "id": "4ZckjGYv_6dD",
        "colab_type": "code",
        "colab": {}
      },
      "source": [
        "# Prediction Layer\n",
        "model2.add(Dense(10))\n",
        "model2.add(Activation('softmax'))"
      ],
      "execution_count": 0,
      "outputs": []
    },
    {
      "cell_type": "code",
      "metadata": {
        "id": "Hl2Eyi7C_9zD",
        "colab_type": "code",
        "colab": {}
      },
      "source": [
        "# Loss and Optimizer\n",
        "model2.compile(loss='categorical_crossentropy', optimizer='adam', metrics=['accuracy'])"
      ],
      "execution_count": 0,
      "outputs": []
    },
    {
      "cell_type": "code",
      "metadata": {
        "id": "ScSvmrAkABfU",
        "colab_type": "code",
        "colab": {
          "base_uri": "https://localhost:8080/",
          "height": 442
        },
        "outputId": "bff871ca-814a-4614-d598-2621dbcb3569"
      },
      "source": [
        "model2.summary()"
      ],
      "execution_count": 32,
      "outputs": [
        {
          "output_type": "stream",
          "text": [
            "_________________________________________________________________\n",
            "Layer (type)                 Output Shape              Param #   \n",
            "=================================================================\n",
            "conv2d_1 (Conv2D)            (None, 26, 26, 32)        320       \n",
            "_________________________________________________________________\n",
            "activation_1 (Activation)    (None, 26, 26, 32)        0         \n",
            "_________________________________________________________________\n",
            "conv2d_2 (Conv2D)            (None, 24, 24, 32)        9248      \n",
            "_________________________________________________________________\n",
            "activation_2 (Activation)    (None, 24, 24, 32)        0         \n",
            "_________________________________________________________________\n",
            "flatten_1 (Flatten)          (None, 18432)             0         \n",
            "_________________________________________________________________\n",
            "dense_1 (Dense)              (None, 128)               2359424   \n",
            "_________________________________________________________________\n",
            "activation_3 (Activation)    (None, 128)               0         \n",
            "_________________________________________________________________\n",
            "dense_2 (Dense)              (None, 10)                1290      \n",
            "_________________________________________________________________\n",
            "activation_4 (Activation)    (None, 10)                0         \n",
            "=================================================================\n",
            "Total params: 2,370,282\n",
            "Trainable params: 2,370,282\n",
            "Non-trainable params: 0\n",
            "_________________________________________________________________\n"
          ],
          "name": "stdout"
        }
      ]
    },
    {
      "cell_type": "code",
      "metadata": {
        "id": "kA-8OdzLAFWb",
        "colab_type": "code",
        "colab": {}
      },
      "source": [
        "# Store Training Results\n",
        "early_stopping = keras.callbacks.EarlyStopping(monitor='val_acc', patience=5, verbose=1, mode='auto')\n",
        "callback_list = [early_stopping]"
      ],
      "execution_count": 0,
      "outputs": []
    },
    {
      "cell_type": "code",
      "metadata": {
        "id": "Csuf2klTAKgV",
        "colab_type": "code",
        "colab": {
          "base_uri": "https://localhost:8080/",
          "height": 34
        },
        "outputId": "72ccb821-3308-4fa1-d4df-2b8c566f14d0"
      },
      "source": [
        "y_train.shape"
      ],
      "execution_count": 34,
      "outputs": [
        {
          "output_type": "execute_result",
          "data": {
            "text/plain": [
              "(60000, 10)"
            ]
          },
          "metadata": {
            "tags": []
          },
          "execution_count": 34
        }
      ]
    },
    {
      "cell_type": "code",
      "metadata": {
        "id": "TpgEFxI7AN0O",
        "colab_type": "code",
        "colab": {
          "base_uri": "https://localhost:8080/",
          "height": 34
        },
        "outputId": "cd31858e-48d1-4de1-9c5a-91c9ac58ae9e"
      },
      "source": [
        "y_test.shape"
      ],
      "execution_count": 35,
      "outputs": [
        {
          "output_type": "execute_result",
          "data": {
            "text/plain": [
              "(10000, 10)"
            ]
          },
          "metadata": {
            "tags": []
          },
          "execution_count": 35
        }
      ]
    },
    {
      "cell_type": "code",
      "metadata": {
        "id": "yhb1l9VpARxR",
        "colab_type": "code",
        "colab": {
          "base_uri": "https://localhost:8080/",
          "height": 513
        },
        "outputId": "b446e12f-a1ba-4ef2-ba92-b7ab0633e929"
      },
      "source": [
        "# Train the model2\n",
        "model2.fit(X_train, y_train, batch_size=BATCH_SIZE, nb_epoch=EPOCHS,\n",
        "           validation_data=(X_test, y_test), callbacks=callback_list)"
      ],
      "execution_count": 36,
      "outputs": [
        {
          "output_type": "stream",
          "text": [
            "WARNING:tensorflow:From /usr/local/lib/python3.6/dist-packages/tensorflow/python/ops/math_ops.py:3066: to_int32 (from tensorflow.python.ops.math_ops) is deprecated and will be removed in a future version.\n",
            "Instructions for updating:\n",
            "Use tf.cast instead.\n"
          ],
          "name": "stdout"
        },
        {
          "output_type": "stream",
          "text": [
            "/usr/local/lib/python3.6/dist-packages/ipykernel_launcher.py:2: UserWarning: The `nb_epoch` argument in `fit` has been renamed `epochs`.\n",
            "  \n"
          ],
          "name": "stderr"
        },
        {
          "output_type": "stream",
          "text": [
            "Train on 60000 samples, validate on 10000 samples\n",
            "Epoch 1/10\n",
            "60000/60000 [==============================] - 16s 262us/step - loss: 0.3759 - acc: 0.8642 - val_loss: 0.3226 - val_acc: 0.8839\n",
            "Epoch 2/10\n",
            "60000/60000 [==============================] - 10s 174us/step - loss: 0.2386 - acc: 0.9117 - val_loss: 0.2668 - val_acc: 0.9021\n",
            "Epoch 3/10\n",
            "60000/60000 [==============================] - 10s 173us/step - loss: 0.1753 - acc: 0.9341 - val_loss: 0.2434 - val_acc: 0.9116\n",
            "Epoch 4/10\n",
            "60000/60000 [==============================] - 10s 174us/step - loss: 0.1245 - acc: 0.9539 - val_loss: 0.2551 - val_acc: 0.9122\n",
            "Epoch 5/10\n",
            "60000/60000 [==============================] - 11s 175us/step - loss: 0.0835 - acc: 0.9687 - val_loss: 0.3139 - val_acc: 0.9140\n",
            "Epoch 6/10\n",
            "60000/60000 [==============================] - 10s 175us/step - loss: 0.0576 - acc: 0.9783 - val_loss: 0.3304 - val_acc: 0.9131\n",
            "Epoch 7/10\n",
            "60000/60000 [==============================] - 11s 177us/step - loss: 0.0426 - acc: 0.9844 - val_loss: 0.4140 - val_acc: 0.9139\n",
            "Epoch 8/10\n",
            "60000/60000 [==============================] - 11s 176us/step - loss: 0.0310 - acc: 0.9894 - val_loss: 0.4532 - val_acc: 0.9077\n",
            "Epoch 9/10\n",
            "60000/60000 [==============================] - 10s 174us/step - loss: 0.0242 - acc: 0.9914 - val_loss: 0.4314 - val_acc: 0.9126\n",
            "Epoch 10/10\n",
            "60000/60000 [==============================] - 10s 174us/step - loss: 0.0225 - acc: 0.9921 - val_loss: 0.4905 - val_acc: 0.9130\n",
            "Epoch 00010: early stopping\n"
          ],
          "name": "stdout"
        },
        {
          "output_type": "execute_result",
          "data": {
            "text/plain": [
              "<keras.callbacks.History at 0x7f89c0670208>"
            ]
          },
          "metadata": {
            "tags": []
          },
          "execution_count": 36
        }
      ]
    },
    {
      "cell_type": "code",
      "metadata": {
        "id": "nlsibTK7AVoA",
        "colab_type": "code",
        "colab": {}
      },
      "source": [
        "### Now, to the above model add `maX` pooling layer of `filter size 2X2` and `dropout` layer with `p=0.25` after the 2 conv layers and run the model"
      ],
      "execution_count": 0,
      "outputs": []
    },
    {
      "cell_type": "code",
      "metadata": {
        "id": "BOLYXSkzAcXM",
        "colab_type": "code",
        "colab": {}
      },
      "source": [
        "BATCH_SIZE = 32\n",
        "EPOCHS = 10"
      ],
      "execution_count": 0,
      "outputs": []
    },
    {
      "cell_type": "code",
      "metadata": {
        "id": "6APL6FQuAivm",
        "colab_type": "code",
        "colab": {}
      },
      "source": [
        "# Define Model\n",
        "model3 = Sequential()"
      ],
      "execution_count": 0,
      "outputs": []
    },
    {
      "cell_type": "code",
      "metadata": {
        "id": "07H9SXzKAoLi",
        "colab_type": "code",
        "colab": {
          "base_uri": "https://localhost:8080/",
          "height": 51
        },
        "outputId": "00fa09ff-982d-4a70-fe4f-84248c49a36e"
      },
      "source": [
        "# 1st Conv Layer\n",
        "model3.add(Convolution2D(32, 3, 3, input_shape=(28, 28, 1)))\n",
        "model3.add(Activation('relu'))"
      ],
      "execution_count": 51,
      "outputs": [
        {
          "output_type": "stream",
          "text": [
            "/usr/local/lib/python3.6/dist-packages/ipykernel_launcher.py:1: UserWarning: Update your `Conv2D` call to the Keras 2 API: `Conv2D(32, (3, 3), input_shape=(28, 28, 1...)`\n",
            "  \"\"\"Entry point for launching an IPython kernel.\n"
          ],
          "name": "stderr"
        }
      ]
    },
    {
      "cell_type": "code",
      "metadata": {
        "id": "fLS4u3hiAokk",
        "colab_type": "code",
        "colab": {
          "base_uri": "https://localhost:8080/",
          "height": 51
        },
        "outputId": "33738e55-fefa-4596-831b-181d6541f666"
      },
      "source": [
        "# 2nd Conv Layer\n",
        "model3.add(Convolution2D(32, 3, 3))\n",
        "model3.add(Activation('relu'))"
      ],
      "execution_count": 52,
      "outputs": [
        {
          "output_type": "stream",
          "text": [
            "/usr/local/lib/python3.6/dist-packages/ipykernel_launcher.py:1: UserWarning: Update your `Conv2D` call to the Keras 2 API: `Conv2D(32, (3, 3))`\n",
            "  \"\"\"Entry point for launching an IPython kernel.\n"
          ],
          "name": "stderr"
        }
      ]
    },
    {
      "cell_type": "code",
      "metadata": {
        "id": "1nMQ6DUyAwnq",
        "colab_type": "code",
        "colab": {}
      },
      "source": [
        "# Max Pooling\n",
        "model3.add(MaxPooling2D(pool_size=(2,2)))"
      ],
      "execution_count": 0,
      "outputs": []
    },
    {
      "cell_type": "code",
      "metadata": {
        "id": "JHj84Wf-Awy1",
        "colab_type": "code",
        "colab": {}
      },
      "source": [
        "# Dropout\n",
        "model3.add(Dropout(0.25))"
      ],
      "execution_count": 0,
      "outputs": []
    },
    {
      "cell_type": "code",
      "metadata": {
        "id": "By5j1t00Aw9b",
        "colab_type": "code",
        "colab": {}
      },
      "source": [
        "# Fully Connected Layer\n",
        "model3.add(Flatten())\n",
        "model3.add(Dense(128))\n",
        "model3.add(Activation('relu'))"
      ],
      "execution_count": 0,
      "outputs": []
    },
    {
      "cell_type": "code",
      "metadata": {
        "id": "ySccUhzYAo2C",
        "colab_type": "code",
        "colab": {}
      },
      "source": [
        "# More Dropout\n",
        "#model3.add(Dropout(0.5))\n",
        "\n",
        "# Prediction Layer\n",
        "model3.add(Dense(10))\n",
        "model3.add(Activation('softmax'))"
      ],
      "execution_count": 0,
      "outputs": []
    },
    {
      "cell_type": "code",
      "metadata": {
        "id": "zeLRuRznBF2f",
        "colab_type": "code",
        "colab": {}
      },
      "source": [
        "# Loss and Optimizer\n",
        "model3.compile(loss='categorical_crossentropy', optimizer='adam', metrics=['accuracy'])"
      ],
      "execution_count": 0,
      "outputs": []
    },
    {
      "cell_type": "code",
      "metadata": {
        "id": "iEtHp9ZXBKBv",
        "colab_type": "code",
        "colab": {}
      },
      "source": [
        "# Store Training Results\n",
        "early_stopping = keras.callbacks.EarlyStopping(monitor='val_acc', patience=5, verbose=1, mode='auto')\n",
        "callback_list = [early_stopping]"
      ],
      "execution_count": 0,
      "outputs": []
    },
    {
      "cell_type": "code",
      "metadata": {
        "id": "nb1z7ECwBNmc",
        "colab_type": "code",
        "colab": {
          "base_uri": "https://localhost:8080/",
          "height": 425
        },
        "outputId": "d5a10f3e-93e8-4b52-a620-db280f668943"
      },
      "source": [
        "# Train the model\n",
        "model3.fit(X_train, y_train, batch_size=BATCH_SIZE, nb_epoch=EPOCHS, \n",
        "           validation_data=(X_test, y_test), callbacks=callback_list)"
      ],
      "execution_count": 59,
      "outputs": [
        {
          "output_type": "stream",
          "text": [
            "/usr/local/lib/python3.6/dist-packages/ipykernel_launcher.py:2: UserWarning: The `nb_epoch` argument in `fit` has been renamed `epochs`.\n",
            "  \n"
          ],
          "name": "stderr"
        },
        {
          "output_type": "stream",
          "text": [
            "Train on 60000 samples, validate on 10000 samples\n",
            "Epoch 1/10\n",
            "60000/60000 [==============================] - 9s 152us/step - loss: 0.3886 - acc: 0.8602 - val_loss: 0.2864 - val_acc: 0.8954\n",
            "Epoch 2/10\n",
            "60000/60000 [==============================] - 9s 144us/step - loss: 0.2574 - acc: 0.9054 - val_loss: 0.2541 - val_acc: 0.9068\n",
            "Epoch 3/10\n",
            "60000/60000 [==============================] - 9s 144us/step - loss: 0.2093 - acc: 0.9225 - val_loss: 0.2401 - val_acc: 0.9136\n",
            "Epoch 4/10\n",
            "60000/60000 [==============================] - 9s 144us/step - loss: 0.1758 - acc: 0.9336 - val_loss: 0.2262 - val_acc: 0.9180\n",
            "Epoch 5/10\n",
            "60000/60000 [==============================] - 9s 145us/step - loss: 0.1501 - acc: 0.9436 - val_loss: 0.2406 - val_acc: 0.9190\n",
            "Epoch 6/10\n",
            "60000/60000 [==============================] - 9s 144us/step - loss: 0.1254 - acc: 0.9526 - val_loss: 0.2279 - val_acc: 0.9250\n",
            "Epoch 7/10\n",
            "60000/60000 [==============================] - 9s 145us/step - loss: 0.1058 - acc: 0.9598 - val_loss: 0.2476 - val_acc: 0.9245\n",
            "Epoch 8/10\n",
            "60000/60000 [==============================] - 9s 147us/step - loss: 0.0917 - acc: 0.9659 - val_loss: 0.2480 - val_acc: 0.9260\n",
            "Epoch 9/10\n",
            "60000/60000 [==============================] - 9s 146us/step - loss: 0.0804 - acc: 0.9697 - val_loss: 0.2826 - val_acc: 0.9259\n",
            "Epoch 10/10\n",
            "60000/60000 [==============================] - 9s 144us/step - loss: 0.0715 - acc: 0.9731 - val_loss: 0.2835 - val_acc: 0.9239\n"
          ],
          "name": "stdout"
        },
        {
          "output_type": "execute_result",
          "data": {
            "text/plain": [
              "<keras.callbacks.History at 0x7f89b4147b38>"
            ]
          },
          "metadata": {
            "tags": []
          },
          "execution_count": 59
        }
      ]
    },
    {
      "cell_type": "code",
      "metadata": {
        "id": "BoXYRtFyBRzd",
        "colab_type": "code",
        "colab": {}
      },
      "source": [
        "### Now, to the above model, lets add Data Augmentation "
      ],
      "execution_count": 0,
      "outputs": []
    },
    {
      "cell_type": "code",
      "metadata": {
        "id": "zeGy9w29Blm2",
        "colab_type": "code",
        "colab": {}
      },
      "source": [
        "### Import the ImageDataGenrator from keras and fit the training images"
      ],
      "execution_count": 0,
      "outputs": []
    },
    {
      "cell_type": "code",
      "metadata": {
        "id": "IaY6ZP_ZBlyI",
        "colab_type": "code",
        "colab": {}
      },
      "source": [
        "from keras.preprocessing.image import ImageDataGenerator"
      ],
      "execution_count": 0,
      "outputs": []
    },
    {
      "cell_type": "code",
      "metadata": {
        "id": "tUsCitSZBl-B",
        "colab_type": "code",
        "colab": {}
      },
      "source": [
        "datagen = ImageDataGenerator(\n",
        "    featurewise_center=False,\n",
        "    featurewise_std_normalization=False,\n",
        "    rotation_range=20, # random;y rotate images in range (degrees, 0 to 180)\n",
        "    width_shift_range=0.1, # randomly shift images horizontally (fraction of total width)\n",
        "    height_shift_range=0.1, # randomly shift images horizontally (fraction of total height)\n",
        "    horizontal_flip=True)\n",
        "\n",
        "# compute quantities required for featurewise normalization\n",
        "# (std, mean, and principal components if ZCA whitening is applied)\n",
        "datagen.fit(X_train)\n",
        "\n",
        "# fits the model on batches with real-time data augmentation:\n",
        "#model.fit_generator(datagen.flow(x_train, y_train, batch_size=32),\n",
        "#                    steps_per_epoch=len(x_train) / 32, epochs=epochs)\n"
      ],
      "execution_count": 0,
      "outputs": []
    },
    {
      "cell_type": "code",
      "metadata": {
        "id": "y0eLG7lgBxPz",
        "colab_type": "code",
        "colab": {}
      },
      "source": [
        "#### Showing 5 versions of the first image in training dataset using image datagenerator.flow()"
      ],
      "execution_count": 0,
      "outputs": []
    },
    {
      "cell_type": "code",
      "metadata": {
        "id": "JUFSJzPTBxlg",
        "colab_type": "code",
        "colab": {
          "base_uri": "https://localhost:8080/",
          "height": 194
        },
        "outputId": "8b0e3c65-e641-4559-d463-b75987982b12"
      },
      "source": [
        "from matplotlib import pyplot as plt\n",
        "gen = datagen.flow(X_train[0:1], batch_size=1)\n",
        "for i in range(1, 6):\n",
        "    plt.subplot(1,5,i)\n",
        "    plt.axis(\"off\")\n",
        "    plt.imshow(gen.next().squeeze(), cmap='gray')\n",
        "    plt.plot()\n",
        "plt.show()"
      ],
      "execution_count": 112,
      "outputs": [
        {
          "output_type": "display_data",
          "data": {
            "image/png": "[encoded data removed]",
            "text/plain": [
              "<Figure size 1080x576 with 5 Axes>"
            ]
          },
          "metadata": {
            "tags": []
          }
        }
      ]
    },
    {
      "cell_type": "code",
      "metadata": {
        "id": "q7psMXSTBxza",
        "colab_type": "code",
        "colab": {}
      },
      "source": [
        "### Run the above model using fit_generator()"
      ],
      "execution_count": 0,
      "outputs": []
    },
    {
      "cell_type": "code",
      "metadata": {
        "id": "T_NeJSKRCBYL",
        "colab_type": "code",
        "colab": {}
      },
      "source": [
        "BATCH_SIZE = 32\n",
        "EPOCHS = 10"
      ],
      "execution_count": 0,
      "outputs": []
    },
    {
      "cell_type": "code",
      "metadata": {
        "id": "BtsaFK9nCFBB",
        "colab_type": "code",
        "colab": {}
      },
      "source": [
        "# Define Model\n",
        "model4 = Sequential()"
      ],
      "execution_count": 0,
      "outputs": []
    },
    {
      "cell_type": "code",
      "metadata": {
        "id": "B0TH1Vt6CIJw",
        "colab_type": "code",
        "colab": {
          "base_uri": "https://localhost:8080/",
          "height": 51
        },
        "outputId": "6ab6c03d-8bf9-4a72-d0a3-15c393abf55e"
      },
      "source": [
        "# 1st Conv Layer\n",
        "model4.add(Convolution2D(32, 3, 3, input_shape=(28, 28, 1)))\n",
        "model4.add(Activation('relu'))"
      ],
      "execution_count": 116,
      "outputs": [
        {
          "output_type": "stream",
          "text": [
            "/usr/local/lib/python3.6/dist-packages/ipykernel_launcher.py:1: UserWarning: Update your `Conv2D` call to the Keras 2 API: `Conv2D(32, (3, 3), input_shape=(28, 28, 1...)`\n",
            "  \"\"\"Entry point for launching an IPython kernel.\n"
          ],
          "name": "stderr"
        }
      ]
    },
    {
      "cell_type": "code",
      "metadata": {
        "id": "0C_fT08GCL5c",
        "colab_type": "code",
        "colab": {
          "base_uri": "https://localhost:8080/",
          "height": 51
        },
        "outputId": "a262e2c4-d3c8-4227-8689-30c34325ecd3"
      },
      "source": [
        "# 2nd Conv Layer\n",
        "model4.add(Convolution2D(32, 3, 3))\n",
        "model4.add(Activation('relu'))"
      ],
      "execution_count": 117,
      "outputs": [
        {
          "output_type": "stream",
          "text": [
            "/usr/local/lib/python3.6/dist-packages/ipykernel_launcher.py:1: UserWarning: Update your `Conv2D` call to the Keras 2 API: `Conv2D(32, (3, 3))`\n",
            "  \"\"\"Entry point for launching an IPython kernel.\n"
          ],
          "name": "stderr"
        }
      ]
    },
    {
      "cell_type": "code",
      "metadata": {
        "id": "sEPpRdzCCQAl",
        "colab_type": "code",
        "colab": {}
      },
      "source": [
        "# Max Pooling\n",
        "model4.add(MaxPooling2D(pool_size=(2,2)))"
      ],
      "execution_count": 0,
      "outputs": []
    },
    {
      "cell_type": "code",
      "metadata": {
        "id": "xSAVd-meCUIt",
        "colab_type": "code",
        "colab": {}
      },
      "source": [
        "# Dropout\n",
        "model4.add(Dropout(0.25))"
      ],
      "execution_count": 0,
      "outputs": []
    },
    {
      "cell_type": "code",
      "metadata": {
        "id": "9s5zS4pBCX2k",
        "colab_type": "code",
        "colab": {}
      },
      "source": [
        "# Fully Connected Layer\n",
        "model4.add(Flatten())\n",
        "model4.add(Dense(128))\n",
        "model4.add(Activation('relu'))"
      ],
      "execution_count": 0,
      "outputs": []
    },
    {
      "cell_type": "code",
      "metadata": {
        "id": "SNymjPewCbCF",
        "colab_type": "code",
        "colab": {}
      },
      "source": [
        "# More Dropout\n",
        "model4.add(Dropout(0.5))\n",
        "\n",
        "# Prediction Layer\n",
        "model4.add(Dense(10))\n",
        "model4.add(Activation('softmax'))"
      ],
      "execution_count": 0,
      "outputs": []
    },
    {
      "cell_type": "code",
      "metadata": {
        "id": "nJ3dj5wkCe2S",
        "colab_type": "code",
        "colab": {}
      },
      "source": [
        "# Loss and Optimizer\n",
        "model4.compile(loss='categorical_crossentropy', optimizer='adam', metrics=['accuracy'])"
      ],
      "execution_count": 0,
      "outputs": []
    },
    {
      "cell_type": "code",
      "metadata": {
        "id": "o60DCeYDCiSW",
        "colab_type": "code",
        "colab": {}
      },
      "source": [
        "# Store Training Results\n",
        "early_stopping = keras.callbacks.EarlyStopping(monitor='val_acc', patience=5, verbose=1, mode='auto')\n",
        "callback_list = [early_stopping]"
      ],
      "execution_count": 0,
      "outputs": []
    },
    {
      "cell_type": "code",
      "metadata": {
        "id": "2x9be-HqF7D2",
        "colab_type": "code",
        "colab": {
          "base_uri": "https://localhost:8080/",
          "height": 34
        },
        "outputId": "bfd47bd5-1193-4283-c234-9acd13cc46d5"
      },
      "source": [
        "X_train.shape[0]"
      ],
      "execution_count": 124,
      "outputs": [
        {
          "output_type": "execute_result",
          "data": {
            "text/plain": [
              "60000"
            ]
          },
          "metadata": {
            "tags": []
          },
          "execution_count": 124
        }
      ]
    },
    {
      "cell_type": "code",
      "metadata": {
        "id": "2P8gzQ9nCmUd",
        "colab_type": "code",
        "colab": {
          "base_uri": "https://localhost:8080/",
          "height": 462
        },
        "outputId": "3591ad4c-1b2e-4d5f-856c-3bdd4a226284"
      },
      "source": [
        "# Train the model\n",
        "model4.fit_generator(datagen.flow(X_train, y_train, batch_size=BATCH_SIZE), samples_per_epoch=X_train.shape[0],nb_epoch=10, \n",
        "           validation_data=(X_test, y_test), callbacks=callback_list)"
      ],
      "execution_count": 126,
      "outputs": [
        {
          "output_type": "stream",
          "text": [
            "Epoch 1/10\n",
            "  17/1875 [..............................] - ETA: 20s - loss: 0.4410 - acc: 0.8217"
          ],
          "name": "stdout"
        },
        {
          "output_type": "stream",
          "text": [
            "/usr/local/lib/python3.6/dist-packages/ipykernel_launcher.py:2: UserWarning: The semantics of the Keras 2 argument `steps_per_epoch` is not the same as the Keras 1 argument `samples_per_epoch`. `steps_per_epoch` is the number of batches to draw from the generator at each epoch. Basically steps_per_epoch = samples_per_epoch/batch_size. Similarly `nb_val_samples`->`validation_steps` and `val_samples`->`steps` arguments have changed. Update your method calls accordingly.\n",
            "  \n",
            "/usr/local/lib/python3.6/dist-packages/ipykernel_launcher.py:2: UserWarning: Update your `fit_generator` call to the Keras 2 API: `fit_generator(<keras_pre..., validation_data=(array([[[..., callbacks=[<keras.ca..., steps_per_epoch=1875, epochs=10)`\n",
            "  \n"
          ],
          "name": "stderr"
        },
        {
          "output_type": "stream",
          "text": [
            "1875/1875 [==============================] - 19s 10ms/step - loss: 0.4392 - acc: 0.8388 - val_loss: 0.3308 - val_acc: 0.8810\n",
            "Epoch 2/10\n",
            "1875/1875 [==============================] - 19s 10ms/step - loss: 0.4339 - acc: 0.8424 - val_loss: 0.3340 - val_acc: 0.8804\n",
            "Epoch 3/10\n",
            "1875/1875 [==============================] - 18s 10ms/step - loss: 0.4292 - acc: 0.8434 - val_loss: 0.3392 - val_acc: 0.8820\n",
            "Epoch 4/10\n",
            "1875/1875 [==============================] - 18s 10ms/step - loss: 0.4199 - acc: 0.8472 - val_loss: 0.3362 - val_acc: 0.8833\n",
            "Epoch 5/10\n",
            "1875/1875 [==============================] - 18s 10ms/step - loss: 0.4154 - acc: 0.8507 - val_loss: 0.3218 - val_acc: 0.8888\n",
            "Epoch 6/10\n",
            "1875/1875 [==============================] - 18s 10ms/step - loss: 0.4096 - acc: 0.8511 - val_loss: 0.3172 - val_acc: 0.8880\n",
            "Epoch 7/10\n",
            "1875/1875 [==============================] - 19s 10ms/step - loss: 0.4045 - acc: 0.8532 - val_loss: 0.3153 - val_acc: 0.8859\n",
            "Epoch 8/10\n",
            "1875/1875 [==============================] - 18s 10ms/step - loss: 0.4023 - acc: 0.8552 - val_loss: 0.3153 - val_acc: 0.8861\n",
            "Epoch 9/10\n",
            "1875/1875 [==============================] - 18s 10ms/step - loss: 0.3972 - acc: 0.8562 - val_loss: 0.3162 - val_acc: 0.8881\n",
            "Epoch 10/10\n",
            "1875/1875 [==============================] - 19s 10ms/step - loss: 0.3956 - acc: 0.8565 - val_loss: 0.3015 - val_acc: 0.8936\n"
          ],
          "name": "stdout"
        },
        {
          "output_type": "execute_result",
          "data": {
            "text/plain": [
              "<keras.callbacks.History at 0x7f896d33f5f8>"
            ]
          },
          "metadata": {
            "tags": []
          },
          "execution_count": 126
        }
      ]
    },
    {
      "cell_type": "code",
      "metadata": {
        "id": "X6Nt4hVnCrH2",
        "colab_type": "code",
        "colab": {}
      },
      "source": [
        "###  Report the final train and validation accuracy"
      ],
      "execution_count": 0,
      "outputs": []
    },
    {
      "cell_type": "code",
      "metadata": {
        "id": "6jv5Ja8fCyRM",
        "colab_type": "code",
        "colab": {
          "base_uri": "https://localhost:8080/",
          "height": 51
        },
        "outputId": "21bf9293-3f71-404a-bc7c-087cdfa11bcb"
      },
      "source": [
        "# final train accuracy\n",
        "model4.evaluate(X_train,y_train)"
      ],
      "execution_count": 127,
      "outputs": [
        {
          "output_type": "stream",
          "text": [
            "60000/60000 [==============================] - 3s 56us/step\n"
          ],
          "name": "stdout"
        },
        {
          "output_type": "execute_result",
          "data": {
            "text/plain": [
              "[0.2648729014048974, 0.9036666666666666]"
            ]
          },
          "metadata": {
            "tags": []
          },
          "execution_count": 127
        }
      ]
    },
    {
      "cell_type": "code",
      "metadata": {
        "id": "kJbqbcEtDQ31",
        "colab_type": "code",
        "colab": {
          "base_uri": "https://localhost:8080/",
          "height": 51
        },
        "outputId": "3b2450ca-f491-4da7-beea-42f8ecb4ad1e"
      },
      "source": [
        "# final validation accuracy\n",
        "model4.evaluate(X_test,y_test)"
      ],
      "execution_count": 128,
      "outputs": [
        {
          "output_type": "stream",
          "text": [
            "10000/10000 [==============================] - 1s 58us/step\n"
          ],
          "name": "stdout"
        },
        {
          "output_type": "execute_result",
          "data": {
            "text/plain": [
              "[0.3014788166165352, 0.8936]"
            ]
          },
          "metadata": {
            "tags": []
          },
          "execution_count": 128
        }
      ]
    },
    {
      "cell_type": "code",
      "metadata": {
        "id": "PLuEbOf_Iw8m",
        "colab_type": "code",
        "colab": {}
      },
      "source": [
        ""
      ],
      "execution_count": 0,
      "outputs": []
    }
  ]
}