{
 "cells": [
  {
   "cell_type": "code",
   "execution_count": 1,
   "metadata": {},
   "outputs": [],
   "source": [
    "import numpy as np\n",
    "from scipy.stats import ttest_1samp, ttest_ind, mannwhitneyu, levene, shapiro, wilcoxon\n",
    "from statsmodels.stats.power import ttest_power\n",
    "import pandas as pd\n",
    "import matplotlib.pyplot as plt\n",
    "import statsmodels.api as sm"
   ]
  },
  {
   "cell_type": "code",
   "execution_count": 2,
   "metadata": {},
   "outputs": [],
   "source": [
    "#pre and post implementation of scheme, the sales output\n",
    "saleop = np.array([\n",
    "[57,62],\n",
    "[103,122],\n",
    "[59,54],\n",
    "[75,82],\n",
    "[84,84],\n",
    "[73,86],\n",
    "[35,32],\n",
    "[110,104],\n",
    "[44,38],\n",
    "[82,107],\n",
    "[67,84],\n",
    "[64,85],\n",
    "[78,99],\n",
    "[53,39],\n",
    "[41,34],\n",
    "[39,58],\n",
    "[80,73],\n",
    "[87,53],\n",
    "[73,66],\n",
    "[65,78],\n",
    "[28,41],\n",
    "[62,71],\n",
    "[49,38],\n",
    "[84,95],\n",
    "[63,81],\n",
    "[77,58],\n",
    "[67,75],\n",
    "[101,94],\n",
    "[91,100],\n",
    "[50,68],\n",
    "])"
   ]
  },
  {
   "cell_type": "code",
   "execution_count": 3,
   "metadata": {},
   "outputs": [],
   "source": [
    "# Seperating data into 2 groups\n",
    "old = saleop[:, 0]\n",
    "new = saleop[:, 1]\n",
    "diff = new - old"
   ]
  },
  {
   "cell_type": "markdown",
   "metadata": {},
   "source": [
    "### Find the mean of old scheme and new scheme column"
   ]
  },
  {
   "cell_type": "code",
   "execution_count": 6,
   "metadata": {},
   "outputs": [
    {
     "data": {
      "text/plain": [
       "68.03333333333333"
      ]
     },
     "execution_count": 6,
     "metadata": {},
     "output_type": "execute_result"
    }
   ],
   "source": [
    "old.mean()"
   ]
  },
  {
   "cell_type": "code",
   "execution_count": 7,
   "metadata": {},
   "outputs": [
    {
     "data": {
      "text/plain": [
       "72.03333333333333"
      ]
     },
     "execution_count": 7,
     "metadata": {},
     "output_type": "execute_result"
    }
   ],
   "source": [
    "new.mean()"
   ]
  },
  {
   "cell_type": "code",
   "execution_count": 8,
   "metadata": {},
   "outputs": [
    {
     "data": {
      "text/plain": [
       "23.65795614352366"
      ]
     },
     "execution_count": 8,
     "metadata": {},
     "output_type": "execute_result"
    }
   ],
   "source": [
    "new.std()"
   ]
  },
  {
   "cell_type": "code",
   "execution_count": 9,
   "metadata": {},
   "outputs": [
    {
     "data": {
      "text/plain": [
       "4.0"
      ]
     },
     "execution_count": 9,
     "metadata": {},
     "output_type": "execute_result"
    }
   ],
   "source": [
    "diff.mean()"
   ]
  },
  {
   "cell_type": "code",
   "execution_count": 10,
   "metadata": {},
   "outputs": [
    {
     "data": {
      "text/plain": [
       "13.844373104863458"
      ]
     },
     "execution_count": 10,
     "metadata": {},
     "output_type": "execute_result"
    }
   ],
   "source": [
    "diff.std()"
   ]
  },
  {
   "cell_type": "markdown",
   "metadata": {},
   "source": [
    "### Use the five percent significance test over the data to determine the p-value to check new scheme has significantly raised outputs"
   ]
  },
  {
   "cell_type": "code",
   "execution_count": 11,
   "metadata": {},
   "outputs": [
    {
     "data": {
      "text/plain": [
       "(0.9885101914405823, 0.9813658595085144)"
      ]
     },
     "execution_count": 11,
     "metadata": {},
     "output_type": "execute_result"
    }
   ],
   "source": [
    "# Performing shapiro and levenes test to confirm assumptions of Normality & Equal Variances\n",
    "\n",
    "# Shapiro Test\n",
    "# Null Hypothesis - Data is normally distributed\n",
    "# Alternate Hypothesis - Data is not normally distributed\n",
    "\n",
    "shapiro(old)\n",
    "\n",
    "# p-value >= 0.05, so we fail to reject H0, so data is normally distributed"
   ]
  },
  {
   "cell_type": "code",
   "execution_count": 12,
   "metadata": {},
   "outputs": [
    {
     "data": {
      "text/plain": [
       "(0.9687567353248596, 0.5057420134544373)"
      ]
     },
     "execution_count": 12,
     "metadata": {},
     "output_type": "execute_result"
    }
   ],
   "source": [
    "shapiro(new)\n",
    "\n",
    "# p-value >= 0.05, so we fail to reject H0, so data is normally distributed"
   ]
  },
  {
   "cell_type": "code",
   "execution_count": 13,
   "metadata": {},
   "outputs": [
    {
     "data": {
      "text/plain": [
       "LeveneResult(statistic=1.063061539437244, pvalue=0.30679836081811235)"
      ]
     },
     "execution_count": 13,
     "metadata": {},
     "output_type": "execute_result"
    }
   ],
   "source": [
    "levene(old,new)\n",
    "# p-value > 0.05 hence all variances are equal and Levene's test is satisfied\n",
    "# this indicates that data is normally distributed"
   ]
  },
  {
   "cell_type": "code",
   "execution_count": 62,
   "metadata": {},
   "outputs": [
    {
     "name": "stdout",
     "output_type": "stream",
     "text": [
      "1.5559143823544377 0.13057553961337662\n"
     ]
    }
   ],
   "source": [
    "# paired t-test: doing two measurments on the same experimental unit\n",
    "# e.g., before and after implementation of the scheme\n",
    "t_statistic, p_value = ttest_1samp(new - old, 0)\n",
    "print(t_statistic, p_value)"
   ]
  },
  {
   "cell_type": "code",
   "execution_count": 63,
   "metadata": {},
   "outputs": [
    {
     "name": "stdout",
     "output_type": "stream",
     "text": [
      "Right Tail t-test p-value= 0.06528776980668831\n"
     ]
    }
   ],
   "source": [
    "# null hypothesis: H0, Mu diff (the difference in mean) is equal to 0\n",
    "# alternative hypothesis: Ha, Mu diff (the difference in mean) is > 0 (therefore Right Tail test will be performed)\n",
    "# because the question specifically asks us to check if the new scheme has significantly raised outputs, so the\n",
    "# expectation from the beginning is that output from new scheme will be > 0\n",
    "# if we wanted to check for difference in mean < 0 then we would have performed Left Tail test\n",
    "# if we were unsure about the outcome of the difference of the mean whther its greater or less than 0 then we would \n",
    "# have performed a two-tailed test\n",
    "\n",
    "# Right Tail p-value is\n",
    "rp = p_value / 2\n",
    "print (\"Right Tail t-test p-value=\", rp)\n",
    "\n",
    "# p-value obtained from two-tailed test has to be divided by 2 to give the value for Right Tail test."
   ]
  },
  {
   "cell_type": "markdown",
   "metadata": {},
   "source": [
    "### What conclusion does the test (p-value) lead to?"
   ]
  },
  {
   "cell_type": "code",
   "execution_count": 23,
   "metadata": {},
   "outputs": [],
   "source": [
    "# If p value (for the t-test) < alpha (significance level i.e. 0.05) then we reject the H0\n",
    "# if p value (for the t-test) > alpha (significance level i.e. 0.05)I fail to reject the H0\n",
    "# p_value (0.06529) > 0.05 which indicates that \"I fail to reject the null hypothesis H0\"\n",
    "# which in turn indicates that the difference in mean is quite close to 0 and thus the new scheme did not raise the \n",
    "# output levels significantly"
   ]
  },
  {
   "cell_type": "markdown",
   "metadata": {},
   "source": [
    "### Suppose it has been calculated that in order for Titan to break even, the average output must increase by £5000 in the scheme compared to the old scheme. If this figure is alternative hypothesis, what is:"
   ]
  },
  {
   "cell_type": "markdown",
   "metadata": {},
   "source": [
    "### The probability of a type 1 error?"
   ]
  },
  {
   "cell_type": "code",
   "execution_count": 45,
   "metadata": {},
   "outputs": [],
   "source": [
    "# The probability of a Type I Error in hypothesis testing is predetermined by the significance level.\n",
    "# since significance level chosen at the beginning is 5%, so probability of type 1 error is 5% as alpha = 0.05"
   ]
  },
  {
   "cell_type": "markdown",
   "metadata": {},
   "source": [
    "### What is the p-value of the hypothesis test if we test for a difference of £5000?"
   ]
  },
  {
   "cell_type": "code",
   "execution_count": 50,
   "metadata": {},
   "outputs": [
    {
     "name": "stdout",
     "output_type": "stream",
     "text": [
      "-0.3889785955886094 0.7001334912613286\n"
     ]
    }
   ],
   "source": [
    "# H0: Mu diff <= 5\n",
    "# Ha: Mu diff > 5 \n",
    "# note here the hypothesis indicate that it is a two-tailed test as a specific direction is not asked for\n",
    "# paired t-test: doing two measurments on the same experimental unit\n",
    "# e.g., before and after implementation of the scheme\n",
    "t_statistic, p_value = ttest_1samp(new - old, 5)\n",
    "print(t_statistic, p_value)"
   ]
  },
  {
   "cell_type": "code",
   "execution_count": 23,
   "metadata": {},
   "outputs": [],
   "source": [
    "# If p value (for the t-test) < alpha (significance level i.e. 0.05) then we reject the H0\n",
    "# if p value (for the t-test) > alpha (significance level i.e. 0.05)I fail to reject the H0\n",
    "# p_value = 0.70 > 0.05 which indicates that \"I fail to reject the null hypothesis H0\""
   ]
  },
  {
   "cell_type": "markdown",
   "metadata": {},
   "source": [
    "### Power of the test:"
   ]
  },
  {
   "cell_type": "markdown",
   "metadata": {},
   "source": [
    "### Calculating p-values for Beta (Type 2 error) using T critical value"
   ]
  },
  {
   "cell_type": "code",
   "execution_count": null,
   "metadata": {},
   "outputs": [],
   "source": [
    "# H0: Mu = 0\n",
    "# Ha: Mu > 0\n",
    "# we know that this is a Right tail test\n",
    "# T critical for (alpha = 0.05 and degrees of freedom = 29) is 1.699 (got from T distribution table)\n",
    "# we will fail to reject the null (commit a Type 2 error) if we get a T-statistic greater than +1.699\n",
    "# this +1.699 T-critical value corresponds to some Xcritical value such that\n",
    "# P(t-stat > +1.699) = P[X > Xcritical | Mu = 0 and s(std of sample) = 13.8]\n",
    "# so we can find the Xcritical value as shown in the cell below"
   ]
  },
  {
   "cell_type": "code",
   "execution_count": 51,
   "metadata": {},
   "outputs": [
    {
     "data": {
      "text/plain": [
       "4.280670875925876"
      ]
     },
     "execution_count": 51,
     "metadata": {},
     "output_type": "execute_result"
    }
   ],
   "source": [
    "# T critical Value for a Right Tailed Test is +1.699\n",
    "# Tcritical = (Xcritical - Mu (for H0))/(s/sqroot(n)) where s is standard deviation of the sample\n",
    "# 1.699 = (Xcritical - 0) / (13.8/np.sqrt(30))\n",
    "Xcritical = 1.699 * (13.8/np.sqrt(30))\n",
    "Xcritical"
   ]
  },
  {
   "cell_type": "code",
   "execution_count": 53,
   "metadata": {},
   "outputs": [
    {
     "data": {
      "text/plain": [
       "-0.28576829087226047"
      ]
     },
     "execution_count": 53,
     "metadata": {},
     "output_type": "execute_result"
    }
   ],
   "source": [
    "# so I will incorrectly fail to reject the null as long as I draw a sample mean greater that 4.28\n",
    "# to complete the problem what I now need to do is compute the probability of drawing a sample mean greater\n",
    "# than 4.28, when given Mu = 5 and s(std of sample) = 13.8\n",
    "# thus the probability of a Type 2 error at Mu = 5 is given by \n",
    "# P[X > 4.28 | Mu = 5 and s = 13.8] = P[Z > (4.28 - 5)/(13.8/np.sqrt(30))]\n",
    "Tx = (4.28 - 5)/(13.8/np.sqrt(30))\n",
    "Tx\n",
    "# P[T > -0.286]"
   ]
  },
  {
   "cell_type": "code",
   "execution_count": 48,
   "metadata": {},
   "outputs": [
    {
     "name": "stdout",
     "output_type": "stream",
     "text": [
      "Beta for Type 2 error is 0.3884556128966773\n"
     ]
    }
   ],
   "source": [
    "# pval = stats.t.sf(np.abs(tt), n-1)*2  # two-sided pvalue\n",
    "# pval = stats.t.sf(np.abs(tt), n-1)    # one-sided pvalue\n",
    "n = 30\n",
    "pval = stats.t.sf(np.abs(-0.286), n-1)  # one-sided pvalue\n",
    "\n",
    "print ('Beta for Type 2 error is',pval)"
   ]
  },
  {
   "cell_type": "code",
   "execution_count": 49,
   "metadata": {},
   "outputs": [
    {
     "data": {
      "text/plain": [
       "0.612"
      ]
     },
     "execution_count": 49,
     "metadata": {},
     "output_type": "execute_result"
    }
   ],
   "source": [
    "# power of test = 1 - Beta\n",
    "p = 1 - 0.388\n",
    "p"
   ]
  },
  {
   "cell_type": "code",
   "execution_count": null,
   "metadata": {},
   "outputs": [],
   "source": []
  }
 ],
 "metadata": {
  "kernelspec": {
   "display_name": "Python 3",
   "language": "python",
   "name": "python3"
  },
  "language_info": {
   "codemirror_mode": {
    "name": "ipython",
    "version": 3
   },
   "file_extension": ".py",
   "mimetype": "text/x-python",
   "name": "python",
   "nbconvert_exporter": "python",
   "pygments_lexer": "ipython3",
   "version": "3.7.0"
  }
 },
 "nbformat": 4,
 "nbformat_minor": 2
}
